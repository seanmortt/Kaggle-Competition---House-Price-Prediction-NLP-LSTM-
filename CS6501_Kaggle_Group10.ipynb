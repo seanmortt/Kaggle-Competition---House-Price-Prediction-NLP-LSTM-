{
  "nbformat": 4,
  "nbformat_minor": 0,
  "metadata": {
    "colab": {
      "name": "CS6501_Kaggle_Group10",
      "provenance": [],
      "collapsed_sections": [
        "vFWbb9oWdWim",
        "2sr2vnhQPPZi"
      ],
      "toc_visible": true
    },
    "kernelspec": {
      "name": "python3",
      "display_name": "Python 3"
    },
    "language_info": {
      "name": "python"
    },
    "accelerator": "GPU"
  },
  "cells": [
    {
      "cell_type": "markdown",
      "metadata": {
        "id": "930vlW5BrOtq"
      },
      "source": [
        "<div>\n",
        "<img src=\"https://drive.google.com/uc?export=view&id=1vK33e_EqaHgBHcbRV_m38hx6IkG0blK_\" width=\"350\"/>\n",
        "</div> \n",
        "\n",
        "#**Artificial Intelligence - MSc**\n",
        "##CS6501 - MACHINE LEARNING APPLICATIONS \n",
        "\n",
        "###Instructor: Enrique Naredo\n",
        "###CS6501_Kaggle"
      ]
    },
    {
      "cell_type": "code",
      "metadata": {
        "id": "LqXD_IwUQuBF",
        "cellView": "form"
      },
      "source": [
        "#@title Current Date\n",
        "Today = '2021-11-14' #@param {type:\"date\"}\n"
      ],
      "execution_count": null,
      "outputs": []
    },
    {
      "cell_type": "code",
      "metadata": {
        "cellView": "form",
        "id": "Igbm7RMEXrOo"
      },
      "source": [
        "#@markdown ---\n",
        "#@markdown ### Enter your details here:\n",
        "Student_ID = \"17246067\" #@param {type:\"string\"}\n",
        "Student_full_name = \"James Larkin\" #@param {type:\"string\"}\n",
        "Student_ID = \"17238889\" #@param {type:\"string\"}\n",
        "Student_full_name = \"Karl Mullane\" #@param {type:\"string\"}\n",
        "Student_ID = \"16170571\" #@param {type:\"string\"}\n",
        "Student_full_name = \"Gerard Holihan\" #@param {type:\"string\"}\n",
        "Student_ID = \"17236444\" #@param {type:\"string\"}\n",
        "Student_full_name = \"Sean Mortimer\" #@param {type:\"string\"}\n",
        "Student_ID = \"17230004\" #@param {type:\"string\"}\n",
        "Student_full_name = \"Eoin Halpin\" #@param {type:\"string\"}\n",
        "#@markdown ---"
      ],
      "execution_count": null,
      "outputs": []
    },
    {
      "cell_type": "code",
      "metadata": {
        "id": "r39xGZckTpKx",
        "cellView": "form"
      },
      "source": [
        "#@title Notebook information\n",
        "Notebook_type = 'Kaggle' #@param [\"Example\", \"Lab\", \"Practice\", \"Etivity\", \"Kaggle\", \"Assignment\", \"Exam\"]\n",
        "Version = \"Final\" #@param [\"Draft\", \"Final\"] {type:\"raw\"}\n",
        "Submission = True #@param {type:\"boolean\"}"
      ],
      "execution_count": null,
      "outputs": []
    },
    {
      "cell_type": "markdown",
      "metadata": {
        "id": "_A0Z6S-r6DpA"
      },
      "source": [
        "#1. Introduction"
      ]
    },
    {
      "cell_type": "markdown",
      "metadata": {
        "id": "3s7hvJmwa0dk"
      },
      "source": [
        "The purpose of this report is to utilise the Irish Housing Dataset with the aim of being able to predict future prices. Within this report, various machine learning algorithms will be deployed. In particular, NLP and LSTM will be used.  \n",
        "\n"
      ]
    },
    {
      "cell_type": "markdown",
      "metadata": {
        "id": "zgDhZyUfb02J"
      },
      "source": [
        "##1.1 Natural Language Processing"
      ]
    },
    {
      "cell_type": "markdown",
      "metadata": {
        "id": "S4u9Smr5b_Qg"
      },
      "source": [
        "Natural Language Processing (NLP) refers a branch of computer science, more specifically Artificial\n",
        "Intelligence (AI) that is “concerned with giving computers the ability to understand text and spoken\n",
        "words in much the same way human beings can” (ibm.com, 2020). NLP combines a variety of things\n",
        "such as statistics, models for deep learning, machine learning, and computational linguistics in an\n",
        "attempt to process human language and to understand it fully. In a real-life scenario, NLP can be\n",
        "found in voice operated systems such as a GPS or a smart speaker such as the Amazon Alexa.\n",
        "Currently, NLP is playing a massive role in industry. It can provide solutions that “help streamline\n",
        "business operations, increase employee productivity, and simplify mission-critical business\n",
        "processes” (ibm.com, 2020).\n",
        "\n",
        "**NLP: Tasks and Application Areas (2021) – Igor Kruglyak:**\n",
        "\n",
        "NLP can be a very useful tool for businesses/organisations that seek to find value in data analysis. As\n",
        "mentioned previously, NLP may be combined with machine learning. In scenarios where the two are combined, it increases the amount of tasks that these AI systems are able to carry out while also\n",
        "carrying them out in a better way. There are numerous tasks that can be carried out thanks to the\n",
        "assistance NLP provides (Kruglyak, 2021). These tasks include:\n",
        "* Searching: This refers to the ability of these NLP algorithms to identify previously specified\n",
        "elements in text\n",
        "* Machine Translation: This “involves translating one natural language into another,\n",
        "preserving the meaning and producing fluent test as a result” (Kruglyak, 2021)\n",
        "* Information Grouping: This is a method of classifying text according to specific attributes.\n",
        "This could potentially be used for classifying spam.\n",
        "\n",
        "A variety of NLP techniques can be utilised to allow businesses to extract meaning from data such as\n",
        "messages, photos, reviews, etc. As mentioned previously, NLP is concerned with how to make use of\n",
        "and understand human language with the hope of getting an output that contains valuable\n",
        "information. “NLP is commonly used in text classification task such as spam detection and sentiment\n",
        "analysis, text generation, language translations and document classification” (Shrestha, 2020).\n",
        "\n",
        "Firstly, we will have to load in the dataset from the Week 11 GitHub repository. Once loaded, the data will be pre-processed, this involves removing stop words and stemming, removing anything that is not a letter, removing duplicated spaces, writing a function to normalise words, and then preparing training and test datasets. Spam data is labelled as “spam” whereas non-spam data is labelled as “ham”. In some cases, the data is imbalanced and methods for dealing with imbalanced datasets may need to be used. Much like other algorithms, there will be both training and test datasets and our model will be trained using the MultinomialNB() classifier so that predictions on the test set can then be made.\n",
        "\n",
        "As mentioned previously, NLP is concerned with combining things like statistics, deep learning models, data science, and linguistics all in an effort to understand “human” language in the same way that humans do. NLP is particularly useful to business “because it breaks down human language making it easier for machines to analyse automatically” (Wolff, 2020). NLP tools are becoming more and more accessible, and this will assist businesses in processing large amounts of text data. NLP assisting businesses impacts the costs of a business, reducing them and can also help generate higher levels of customer satisfaction (Wolff, 2020). There are numerous benefits of NLP, some of\n",
        "which will be discussed below:\n",
        "* NLP can help businesses to perform large-scale analysis: 1 A large-scale analysis can be facilitated through the technology associated with NLP on many different types of documents. The documents could include things like emails, message, social media data, and more. If this analysis were to be done manually, it would take weeks, however the NLP technology can assist business by performing an analysis like this one in a matter of minutes\n",
        "or hours.\n",
        "* NLP can provide a more objective and accurate analysis: 2 A lot of the data NLP is concerned with is repetitive in nature, i.e., open-ended survey responses. When analysing such data, humans may be more prone to make mistakes or let their biases influence results. NLP tools, however, can be trained much faster than human and can analyse such data much faster and much more accurately than humans ever could. Also, unlike humans, these models/tools can be easily and quickly tweaked and trained to keep up with the marketplace or your business as it evolves.\n",
        "* It can allow a business to gain real and actionable insights: “The unstructured data of open-ended survey responses and online reviews and comments requires an extra level of analysis – you have to break down the text so it can be understood by machines” (Wolff, 2020). If this was to be done by humans, it would take an extremely long time and would be a very repetitive and tedious job. However, NLP tools make things like this easy and can allows\n",
        "businesses to find real-world actionable insights. \n",
        "\n",
        "As well as classifying messages as spam or not, NLP techniques can also be applied to house price prediction. NLP can be used to accurately predict house prices; it can quantify the hidden value that\n",
        "is embedded in the descriptions of property. Regression models are the most commonly used for real estate sites and predict the prices based on things like how many bedrooms/bathrooms the property has, site size, the year it was built, etc. “Unfortunately, this method excludes one major component of data – the unique qualities of a property that may significantly increase its value”\n",
        "(Shen and Han, 2018). Often times with house listings the estate agent writes up a description of the property detailing unique features all in an attempt to increase their chance of a sale. NLP can\n",
        "analyse the text within these property descriptions and can help in predicting house prices (Shen and Han, 2018).\n",
        "\n",
        "It is easy to compare regular features of a property such as number of bedrooms/bathrooms, site\n",
        "size, year of construction, etc. but comparing descriptions of house is more difficult because they are\n",
        "written in natural language text. This is where NLP can be used, it can help to identify specified\n",
        "words in the description of a property and “after identifying relevant words, they learn which words\n",
        "tend to be used to describe more expensive or affordable houses” (Cuturi and Etchebarne, 2021).\n",
        "This can help in predicting the prices of houses in a more accurate way."
      ]
    },
    {
      "cell_type": "markdown",
      "metadata": {
        "id": "UekM0M7Yd6QY"
      },
      "source": [
        "##1.2 Long Short Term Memory"
      ]
    },
    {
      "cell_type": "markdown",
      "metadata": {
        "id": "feG5ls96eAoq"
      },
      "source": [
        "“Long Short-Term Memory (LSTM) networks are a type of recurrent neural network capable of learning order dependence in sequence prediction problems” (Brownlee, 2021). These types of networks are particularly required and useful in complex situations, for example, machine translation and speech recognition.\n",
        "\n",
        "A recurrent neural network differs from a traditional network and is much more complex. This\n",
        "complexity is partnered with a promise of new behaviours of recurrent neural networks that\n",
        "traditional networks cannot achieve (Brownlee, 2021). Recurrent neural networks are very powerful\n",
        "neural networks, and this type of network can, in contrast to other networks or classification\n",
        "models, produce text as an output, whereas other models can only assign class labels. “The ability to\n",
        "produce text as output makes recurrent neural networks well suited for automatic translation and\n",
        "summarisation” (Muller and Guido, 2016).\n",
        "\n",
        "Bengio et al. 1994 state that a recurrent neural network has 3 basic requirements. These are as\n",
        "follows:\n",
        "1. The system must be able to store information for an arbitrary duration\n",
        "2. The system must be resistant to noise\n",
        "3. The parameters of the system must be trainable (Bengio et al. 1994).\n",
        "\n",
        "LSTM networks are popular as they can actually deliver on the promise that recurrent neural\n",
        "networks provide. Information looping back in the network is a key feature of recurrent neural\n",
        "networks. This feature gives a special type of memory to recurrent neural networks and this memory\n",
        "can be used be recurrent neural networks to understand sequential data better. “A popular type of\n",
        "recurrent neural network is the long short-term memory (LSTM) network, which allows for\n",
        "information to loop backward in the network” (Albon, 2018).\n",
        "\n",
        "LSTM networks have a variety of uses and can be applied in many different areas including “speech\n",
        "or voice recognition, image captioning/description, stock market prediction, image classification”\n",
        "(happiest minds.com, n.d.) among many other things. As mentioned previously, LSTM networks have\n",
        "the ability to loop/look back on information and because of this they are best suited for applications\n",
        "concerned with predictions and language translations. LSTM networks have an edge over regular\n",
        "feedforward neural networks as they can also understand what information should be\n",
        "retained/discarded from the network (happiestminds.com, n.d.).\n",
        "\n",
        "As mentioned previously, LSTM models allow for information to loop backward in the network, i.e.,\n",
        "they can store past information. This feature makes LSTM models particularly useful for sequence\n",
        "prediction problems, such as stock market predictions. The ability to loop backward and store past\n",
        "information is important when trying to predict stock market prices “because the previous price of a\n",
        "stock is crucial in predicting its future price” (Mwiti, n.d.)\n",
        "\n",
        "We will be trying to build a model that will aim to predict whether the future price of stocks will\n",
        "either go up or down. Firstly, we will have to load in our data and then split it into training and test\n",
        "sets. Then we will carry out some feature scaling so as to optimise the data for optimal performance.\n",
        "Then we will have to build the LSTM using aa couple of modules from Keras such as Sequential, Sense, LSTM itself, and Dropout. After training the model on the training set, we will run the model\n",
        "on the test set and then make predictions and plot the results."
      ]
    },
    {
      "cell_type": "markdown",
      "metadata": {
        "id": "Wg7VCbX77eAA"
      },
      "source": [
        "## Imports"
      ]
    },
    {
      "cell_type": "code",
      "metadata": {
        "id": "Ww0VMPU6d_L0",
        "colab": {
          "base_uri": "https://localhost:8080/"
        },
        "outputId": "cf8108fe-6044-46f3-aafd-9d5027f9be71"
      },
      "source": [
        "from google.colab import drive\n",
        "drive.mount('/content/drive')"
      ],
      "execution_count": null,
      "outputs": [
        {
          "output_type": "stream",
          "name": "stdout",
          "text": [
            "Drive already mounted at /content/drive; to attempt to forcibly remount, call drive.mount(\"/content/drive\", force_remount=True).\n"
          ]
        }
      ]
    },
    {
      "cell_type": "code",
      "metadata": {
        "id": "_3LlZvx7AQgB",
        "colab": {
          "base_uri": "https://localhost:8080/"
        },
        "outputId": "93a29612-d00e-47be-aaa1-740ae3edc7ae"
      },
      "source": [
        "import numpy as np\n",
        "import matplotlib.pyplot as plt\n",
        "import pandas as pd\n",
        "import seaborn as sns\n",
        "from sklearn.preprocessing import OneHotEncoder \n",
        "from sklearn.preprocessing import MinMaxScaler\n",
        "from sklearn.model_selection import train_test_split\n",
        "from sklearn.linear_model import LinearRegression\n",
        "from sklearn.preprocessing import StandardScaler\n",
        "from xgboost import XGBRegressor # XGBoost Regression\n",
        "from sklearn.tree import DecisionTreeRegressor\n",
        "from sklearn.neighbors import KNeighborsRegressor\n",
        "# Scikit-learn is an open source machine learning library \n",
        "# that supports supervised and unsupervised learning\n",
        "# https://scikit-learn.org/stable/\n",
        "from sklearn.model_selection import train_test_split\n",
        "from sklearn.feature_extraction.text import CountVectorizer\n",
        "from sklearn.naive_bayes import MultinomialNB\n",
        "from sklearn.metrics import accuracy_score, confusion_matrix\n",
        "from sklearn.feature_extraction.text import TfidfVectorizer\n",
        "from scipy.sparse import hstack\n",
        "from sklearn.metrics import accuracy_score\n",
        "from sklearn.metrics import precision_score\n",
        "from sklearn.metrics import recall_score\n",
        "# Regular expression operations\n",
        "#https://docs.python.org/3/library/re.html\n",
        "import re \n",
        "\n",
        "# Natural Language Toolkit\n",
        "# https://www.nltk.org/install.html\n",
        "import nltk\n",
        "\n",
        "# Stemming maps different forms of the same word to a common “stem” \n",
        "# https://pypi.org/project/snowballstemmer/\n",
        "from nltk.stem import SnowballStemmer\n",
        "\n",
        "# https://www.nltk.org/book/ch02.html\n",
        "from nltk.corpus import stopwords\n",
        "\n",
        "from nltk.tokenize import word_tokenize  \n",
        "from nltk.stem import WordNetLemmatizer\n",
        "nltk.download('stopwords')\n",
        "from nltk.stem.porter import *\n",
        "nltk.download('punkt')\n",
        "nltk.download('wordnet')\n",
        "import string\n",
        "\n",
        "stop = set(stopwords.words('english'))"
      ],
      "execution_count": null,
      "outputs": [
        {
          "output_type": "stream",
          "name": "stdout",
          "text": [
            "[nltk_data] Downloading package stopwords to /root/nltk_data...\n",
            "[nltk_data]   Package stopwords is already up-to-date!\n",
            "[nltk_data] Downloading package punkt to /root/nltk_data...\n",
            "[nltk_data]   Package punkt is already up-to-date!\n",
            "[nltk_data] Downloading package wordnet to /root/nltk_data...\n",
            "[nltk_data]   Package wordnet is already up-to-date!\n"
          ]
        }
      ]
    },
    {
      "cell_type": "code",
      "metadata": {
        "id": "jEKk0XLy8FL3"
      },
      "source": [
        "from sklearn.metrics import\tmean_squared_error\n",
        "from sklearn.preprocessing import OneHotEncoder\n",
        "import keras\n",
        "from keras.models import Sequential \n",
        "from keras.layers import Dense\n",
        "from keras.layers import LSTM\n",
        "from keras.layers import Dropout\n",
        "from keras.callbacks import ModelCheckpoint, EarlyStopping, ReduceLROnPlateau"
      ],
      "execution_count": null,
      "outputs": []
    },
    {
      "cell_type": "markdown",
      "metadata": {
        "id": "RrG86uZHgK7I"
      },
      "source": [
        "#2. Pre Processing"
      ]
    },
    {
      "cell_type": "markdown",
      "metadata": {
        "id": "edhmMrD2dPYw"
      },
      "source": [
        "##2.1 Data Preperation"
      ]
    },
    {
      "cell_type": "code",
      "metadata": {
        "id": "eQ96CVcKe91l"
      },
      "source": [
        "#Importing Training Data\n",
        "path = '/content/drive/MyDrive/Machine Learning/'\n",
        "filename = 'HousePrice_Train.csv'\n",
        "train_data = pd.read_csv(path+filename)\n",
        "\n",
        "#Assigning Training Data to a DataFrame\n",
        "train_data = pd.DataFrame(train_data)"
      ],
      "execution_count": null,
      "outputs": []
    },
    {
      "cell_type": "code",
      "metadata": {
        "id": "EFTEaAgLgzdf"
      },
      "source": [
        "#Importing Testing Data\n",
        "path = '/content/drive/MyDrive/Machine Learning/'\n",
        "filename = 'HousePrice_Test.csv'\n",
        "test_data = pd.read_csv(path+filename)\n",
        "\n",
        "#Assigning Testing Data to a DataFrame\n",
        "test_data = pd.DataFrame(test_data)"
      ],
      "execution_count": null,
      "outputs": []
    },
    {
      "cell_type": "code",
      "metadata": {
        "id": "t8y4ABva8gyY",
        "colab": {
          "base_uri": "https://localhost:8080/"
        },
        "outputId": "3613ba00-558f-4643-d4bc-a52517b8b399"
      },
      "source": [
        "#Showing the Row & Column Count\n",
        "train_data.shape"
      ],
      "execution_count": null,
      "outputs": [
        {
          "output_type": "execute_result",
          "data": {
            "text/plain": [
              "(1638, 14)"
            ]
          },
          "metadata": {},
          "execution_count": 611
        }
      ]
    },
    {
      "cell_type": "code",
      "metadata": {
        "id": "jg8lZ-OkcTya",
        "colab": {
          "base_uri": "https://localhost:8080/"
        },
        "outputId": "be0c4771-8351-44f7-cf6a-aa77b875dd50"
      },
      "source": [
        "test_data.shape"
      ],
      "execution_count": null,
      "outputs": [
        {
          "output_type": "execute_result",
          "data": {
            "text/plain": [
              "(702, 13)"
            ]
          },
          "metadata": {},
          "execution_count": 612
        }
      ]
    },
    {
      "cell_type": "code",
      "metadata": {
        "id": "PPEV5rjjfhbc",
        "colab": {
          "base_uri": "https://localhost:8080/",
          "height": 487
        },
        "outputId": "2e2fa75a-c066-409d-fb34-44733bca67a5"
      },
      "source": [
        "#Overview of the Dataset\n",
        "train_data.head()"
      ],
      "execution_count": null,
      "outputs": [
        {
          "output_type": "execute_result",
          "data": {
            "text/html": [
              "<div>\n",
              "<style scoped>\n",
              "    .dataframe tbody tr th:only-of-type {\n",
              "        vertical-align: middle;\n",
              "    }\n",
              "\n",
              "    .dataframe tbody tr th {\n",
              "        vertical-align: top;\n",
              "    }\n",
              "\n",
              "    .dataframe thead th {\n",
              "        text-align: right;\n",
              "    }\n",
              "</style>\n",
              "<table border=\"1\" class=\"dataframe\">\n",
              "  <thead>\n",
              "    <tr style=\"text-align: right;\">\n",
              "      <th></th>\n",
              "      <th>Index</th>\n",
              "      <th>ID</th>\n",
              "      <th>Location</th>\n",
              "      <th>Num_Bathrooms</th>\n",
              "      <th>Num_Beds</th>\n",
              "      <th>BER_class</th>\n",
              "      <th>Description</th>\n",
              "      <th>Services</th>\n",
              "      <th>Features</th>\n",
              "      <th>Latitude</th>\n",
              "      <th>Longitude</th>\n",
              "      <th>Type</th>\n",
              "      <th>Surface</th>\n",
              "      <th>Price</th>\n",
              "    </tr>\n",
              "  </thead>\n",
              "  <tbody>\n",
              "    <tr>\n",
              "      <th>0</th>\n",
              "      <td>1</td>\n",
              "      <td>12409116</td>\n",
              "      <td>Ongar</td>\n",
              "      <td>2</td>\n",
              "      <td>2</td>\n",
              "      <td>C3</td>\n",
              "      <td>DNG are delighted to present to the market no....</td>\n",
              "      <td>NaN</td>\n",
              "      <td>None</td>\n",
              "      <td>53.396659</td>\n",
              "      <td>-6.438791</td>\n",
              "      <td>apartment</td>\n",
              "      <td>67.00</td>\n",
              "      <td>195000</td>\n",
              "    </tr>\n",
              "    <tr>\n",
              "      <th>1</th>\n",
              "      <td>2</td>\n",
              "      <td>12320330</td>\n",
              "      <td>North Strand</td>\n",
              "      <td>1</td>\n",
              "      <td>2</td>\n",
              "      <td>D1</td>\n",
              "      <td>13 Northbrook Terrace is a charming red brick ...</td>\n",
              "      <td>NaN</td>\n",
              "      <td>Bight and Spacious interior\\nNumerous original...</td>\n",
              "      <td>53.357129</td>\n",
              "      <td>-6.239779</td>\n",
              "      <td>terraced</td>\n",
              "      <td>95.97</td>\n",
              "      <td>425000</td>\n",
              "    </tr>\n",
              "    <tr>\n",
              "      <th>2</th>\n",
              "      <td>3</td>\n",
              "      <td>12405953</td>\n",
              "      <td>Stepaside</td>\n",
              "      <td>3</td>\n",
              "      <td>3</td>\n",
              "      <td>A3</td>\n",
              "      <td>Welcome to No. 6 Cotter Close, an immaculately...</td>\n",
              "      <td>NaN</td>\n",
              "      <td>Special Features\\nLarge rear garden\\nGenerous ...</td>\n",
              "      <td>53.266468</td>\n",
              "      <td>-6.222771</td>\n",
              "      <td>semi-detached</td>\n",
              "      <td>107.00</td>\n",
              "      <td>535000</td>\n",
              "    </tr>\n",
              "    <tr>\n",
              "      <th>3</th>\n",
              "      <td>4</td>\n",
              "      <td>12202582</td>\n",
              "      <td>Cabinteely</td>\n",
              "      <td>1</td>\n",
              "      <td>3</td>\n",
              "      <td>E1</td>\n",
              "      <td>Welcome to 3 Sycamore Walk!\\n\\r\\nEnjoying a pr...</td>\n",
              "      <td>NaN</td>\n",
              "      <td>Wonderful 3 bed detached bungalow.     \\nAccom...</td>\n",
              "      <td>53.261600</td>\n",
              "      <td>-6.166738</td>\n",
              "      <td>detached</td>\n",
              "      <td>81.00</td>\n",
              "      <td>499000</td>\n",
              "    </tr>\n",
              "    <tr>\n",
              "      <th>4</th>\n",
              "      <td>5</td>\n",
              "      <td>12299336</td>\n",
              "      <td>Lusk</td>\n",
              "      <td>3</td>\n",
              "      <td>4</td>\n",
              "      <td>D1</td>\n",
              "      <td>'Four Seasons' comes to the market as a wonder...</td>\n",
              "      <td>NaN</td>\n",
              "      <td>Detached Property      \\nDouble Glazed Windows...</td>\n",
              "      <td>53.550731</td>\n",
              "      <td>-6.121415</td>\n",
              "      <td>detached</td>\n",
              "      <td>153.00</td>\n",
              "      <td>510000</td>\n",
              "    </tr>\n",
              "  </tbody>\n",
              "</table>\n",
              "</div>"
            ],
            "text/plain": [
              "   Index        ID      Location  ...           Type  Surface   Price\n",
              "0      1  12409116         Ongar  ...      apartment    67.00  195000\n",
              "1      2  12320330  North Strand  ...       terraced    95.97  425000\n",
              "2      3  12405953     Stepaside  ...  semi-detached   107.00  535000\n",
              "3      4  12202582    Cabinteely  ...       detached    81.00  499000\n",
              "4      5  12299336          Lusk  ...       detached   153.00  510000\n",
              "\n",
              "[5 rows x 14 columns]"
            ]
          },
          "metadata": {},
          "execution_count": 613
        }
      ]
    },
    {
      "cell_type": "code",
      "metadata": {
        "id": "mdjLC0UdfrZi",
        "colab": {
          "base_uri": "https://localhost:8080/",
          "height": 320
        },
        "outputId": "91a1dc6e-72d1-4dac-c4f8-0fcf0979f1b4"
      },
      "source": [
        "#Showing the data statistics\n",
        "train_data.describe()"
      ],
      "execution_count": null,
      "outputs": [
        {
          "output_type": "execute_result",
          "data": {
            "text/html": [
              "<div>\n",
              "<style scoped>\n",
              "    .dataframe tbody tr th:only-of-type {\n",
              "        vertical-align: middle;\n",
              "    }\n",
              "\n",
              "    .dataframe tbody tr th {\n",
              "        vertical-align: top;\n",
              "    }\n",
              "\n",
              "    .dataframe thead th {\n",
              "        text-align: right;\n",
              "    }\n",
              "</style>\n",
              "<table border=\"1\" class=\"dataframe\">\n",
              "  <thead>\n",
              "    <tr style=\"text-align: right;\">\n",
              "      <th></th>\n",
              "      <th>Index</th>\n",
              "      <th>ID</th>\n",
              "      <th>Num_Bathrooms</th>\n",
              "      <th>Num_Beds</th>\n",
              "      <th>Latitude</th>\n",
              "      <th>Longitude</th>\n",
              "      <th>Surface</th>\n",
              "      <th>Price</th>\n",
              "    </tr>\n",
              "  </thead>\n",
              "  <tbody>\n",
              "    <tr>\n",
              "      <th>count</th>\n",
              "      <td>1638.000000</td>\n",
              "      <td>1.638000e+03</td>\n",
              "      <td>1638.000000</td>\n",
              "      <td>1638.000000</td>\n",
              "      <td>1638.000000</td>\n",
              "      <td>1638.000000</td>\n",
              "      <td>1638.000000</td>\n",
              "      <td>1.638000e+03</td>\n",
              "    </tr>\n",
              "    <tr>\n",
              "      <th>mean</th>\n",
              "      <td>819.500000</td>\n",
              "      <td>1.231930e+07</td>\n",
              "      <td>2.054335</td>\n",
              "      <td>3.043346</td>\n",
              "      <td>53.350473</td>\n",
              "      <td>-6.255086</td>\n",
              "      <td>169.540695</td>\n",
              "      <td>5.547196e+05</td>\n",
              "    </tr>\n",
              "    <tr>\n",
              "      <th>std</th>\n",
              "      <td>472.994186</td>\n",
              "      <td>1.447540e+05</td>\n",
              "      <td>1.241259</td>\n",
              "      <td>1.379650</td>\n",
              "      <td>0.076832</td>\n",
              "      <td>0.144430</td>\n",
              "      <td>1791.793934</td>\n",
              "      <td>5.652032e+05</td>\n",
              "    </tr>\n",
              "    <tr>\n",
              "      <th>min</th>\n",
              "      <td>1.000000</td>\n",
              "      <td>1.118567e+07</td>\n",
              "      <td>1.000000</td>\n",
              "      <td>1.000000</td>\n",
              "      <td>52.501856</td>\n",
              "      <td>-6.497000</td>\n",
              "      <td>3.400000</td>\n",
              "      <td>1.999500e+04</td>\n",
              "    </tr>\n",
              "    <tr>\n",
              "      <th>25%</th>\n",
              "      <td>410.250000</td>\n",
              "      <td>1.228104e+07</td>\n",
              "      <td>1.000000</td>\n",
              "      <td>2.000000</td>\n",
              "      <td>53.294261</td>\n",
              "      <td>-6.309613</td>\n",
              "      <td>73.000000</td>\n",
              "      <td>2.950000e+05</td>\n",
              "    </tr>\n",
              "    <tr>\n",
              "      <th>50%</th>\n",
              "      <td>819.500000</td>\n",
              "      <td>1.238055e+07</td>\n",
              "      <td>2.000000</td>\n",
              "      <td>3.000000</td>\n",
              "      <td>53.341386</td>\n",
              "      <td>-6.247780</td>\n",
              "      <td>97.050000</td>\n",
              "      <td>3.950000e+05</td>\n",
              "    </tr>\n",
              "    <tr>\n",
              "      <th>75%</th>\n",
              "      <td>1228.750000</td>\n",
              "      <td>1.240548e+07</td>\n",
              "      <td>3.000000</td>\n",
              "      <td>4.000000</td>\n",
              "      <td>53.382031</td>\n",
              "      <td>-6.193982</td>\n",
              "      <td>135.000000</td>\n",
              "      <td>5.950000e+05</td>\n",
              "    </tr>\n",
              "    <tr>\n",
              "      <th>max</th>\n",
              "      <td>1638.000000</td>\n",
              "      <td>1.242836e+07</td>\n",
              "      <td>18.000000</td>\n",
              "      <td>27.000000</td>\n",
              "      <td>53.630588</td>\n",
              "      <td>-1.744995</td>\n",
              "      <td>72236.387140</td>\n",
              "      <td>8.900000e+06</td>\n",
              "    </tr>\n",
              "  </tbody>\n",
              "</table>\n",
              "</div>"
            ],
            "text/plain": [
              "             Index            ID  ...       Surface         Price\n",
              "count  1638.000000  1.638000e+03  ...   1638.000000  1.638000e+03\n",
              "mean    819.500000  1.231930e+07  ...    169.540695  5.547196e+05\n",
              "std     472.994186  1.447540e+05  ...   1791.793934  5.652032e+05\n",
              "min       1.000000  1.118567e+07  ...      3.400000  1.999500e+04\n",
              "25%     410.250000  1.228104e+07  ...     73.000000  2.950000e+05\n",
              "50%     819.500000  1.238055e+07  ...     97.050000  3.950000e+05\n",
              "75%    1228.750000  1.240548e+07  ...    135.000000  5.950000e+05\n",
              "max    1638.000000  1.242836e+07  ...  72236.387140  8.900000e+06\n",
              "\n",
              "[8 rows x 8 columns]"
            ]
          },
          "metadata": {},
          "execution_count": 614
        }
      ]
    },
    {
      "cell_type": "code",
      "metadata": {
        "id": "7LcbbiIpgM_u",
        "colab": {
          "base_uri": "https://localhost:8080/"
        },
        "outputId": "19d9e2b1-3633-4900-b947-ed7c18da8dcb"
      },
      "source": [
        "#Checking the Data Types & Null Values\n",
        "train_data.info()"
      ],
      "execution_count": null,
      "outputs": [
        {
          "output_type": "stream",
          "name": "stdout",
          "text": [
            "<class 'pandas.core.frame.DataFrame'>\n",
            "RangeIndex: 1638 entries, 0 to 1637\n",
            "Data columns (total 14 columns):\n",
            " #   Column         Non-Null Count  Dtype  \n",
            "---  ------         --------------  -----  \n",
            " 0   Index          1638 non-null   int64  \n",
            " 1   ID             1638 non-null   int64  \n",
            " 2   Location       1638 non-null   object \n",
            " 3   Num_Bathrooms  1638 non-null   int64  \n",
            " 4   Num_Beds       1638 non-null   int64  \n",
            " 5   BER_class      1387 non-null   object \n",
            " 6   Description    1638 non-null   object \n",
            " 7   Services       577 non-null    object \n",
            " 8   Features       1638 non-null   object \n",
            " 9   Latitude       1638 non-null   float64\n",
            " 10  Longitude      1638 non-null   float64\n",
            " 11  Type           1638 non-null   object \n",
            " 12  Surface        1638 non-null   float64\n",
            " 13  Price          1638 non-null   int64  \n",
            "dtypes: float64(3), int64(5), object(6)\n",
            "memory usage: 179.3+ KB\n"
          ]
        }
      ]
    },
    {
      "cell_type": "code",
      "metadata": {
        "id": "9gEV1SVi9ymf",
        "colab": {
          "base_uri": "https://localhost:8080/"
        },
        "outputId": "afd50eca-c8f4-4e1e-9837-db32e410d7c2"
      },
      "source": [
        "#Counting Nulls\n",
        "train_data.isnull().sum()"
      ],
      "execution_count": null,
      "outputs": [
        {
          "output_type": "execute_result",
          "data": {
            "text/plain": [
              "Index               0\n",
              "ID                  0\n",
              "Location            0\n",
              "Num_Bathrooms       0\n",
              "Num_Beds            0\n",
              "BER_class         251\n",
              "Description         0\n",
              "Services         1061\n",
              "Features            0\n",
              "Latitude            0\n",
              "Longitude           0\n",
              "Type                0\n",
              "Surface             0\n",
              "Price               0\n",
              "dtype: int64"
            ]
          },
          "metadata": {},
          "execution_count": 616
        }
      ]
    },
    {
      "cell_type": "code",
      "metadata": {
        "id": "_OcqXxNjV93G"
      },
      "source": [
        "#train_data.dropna(inplace=True)"
      ],
      "execution_count": null,
      "outputs": []
    },
    {
      "cell_type": "code",
      "metadata": {
        "id": "e54MLIOLMyE4"
      },
      "source": [
        "#train_data.isnull().sum()"
      ],
      "execution_count": null,
      "outputs": []
    },
    {
      "cell_type": "markdown",
      "metadata": {
        "id": "vFWbb9oWdWim"
      },
      "source": [
        "##2.2 Data Visualisation"
      ]
    },
    {
      "cell_type": "code",
      "metadata": {
        "colab": {
          "base_uri": "https://localhost:8080/"
        },
        "id": "aspaKPSMgf3w",
        "outputId": "8833e277-bc2f-4fda-b875-d649074bf801"
      },
      "source": [
        "#Plotting data on Histograms\n",
        "train_data.hist(figsize=(10,10),bins=20);"
      ],
      "execution_count": null,
      "outputs": [
        {
          "output_type": "display_data",
          "data": {
            "image/png": "[encoded data removed]",
            "text/plain": [
              "<Figure size 720x720 with 9 Axes>"
            ]
          },
          "metadata": {}
        }
      ]
    },
    {
      "cell_type": "code",
      "metadata": {
        "colab": {
          "base_uri": "https://localhost:8080/"
        },
        "id": "Zba8ex_GnxX9",
        "outputId": "58436e70-bcb7-4255-851e-0ac3bff6341f"
      },
      "source": [
        "#Assigning a background\n",
        "sns.set(style=\"whitegrid\")\n",
        "\n",
        "#Creating a figure\n",
        "f, (ax_box, ax_hist) = plt.subplots(2, sharex=True, \n",
        "                                    gridspec_kw={\"height_ratios\": (.15, .85)})\n",
        "#Assigning a graph to each axis\n",
        "sns.boxplot(train_data[\"Price\"], ax=ax_box)\n",
        "sns.histplot(data = train_data, x=\"Price\", ax=ax_hist, palette='Accent')\n",
        "\n",
        "#Removing x axis for boxplot\n",
        "ax_box.set(xlabel='')\n",
        "plt.show()"
      ],
      "execution_count": null,
      "outputs": [
        {
          "output_type": "stream",
          "name": "stderr",
          "text": [
            "/usr/local/lib/python3.7/dist-packages/seaborn/_decorators.py:43: FutureWarning: Pass the following variable as a keyword arg: x. From version 0.12, the only valid positional argument will be `data`, and passing other arguments without an explicit keyword will result in an error or misinterpretation.\n",
            "  FutureWarning\n"
          ]
        },
        {
          "output_type": "display_data",
          "data": {
            "image/png": "[encoded data removed]",
            "text/plain": [
              "<Figure size 576x432 with 2 Axes>"
            ]
          },
          "metadata": {}
        }
      ]
    },
    {
      "cell_type": "code",
      "metadata": {
        "colab": {
          "base_uri": "https://localhost:8080/"
        },
        "id": "n4IfpUa9rFtH",
        "outputId": "21f9ce34-4f73-47f5-957c-41676d9859e9"
      },
      "source": [
        "#Dropping Locational Outlier\n",
        "train_data = train_data.drop(355)\n",
        "\n",
        "#Scatterplot of Latitutde, Longitude and Median House Value\n",
        "sns.set(rc = {'figure.figsize':(8,6)})\n",
        "sns.set(style=\"whitegrid\")\n",
        "\n",
        "\n",
        "sns.scatterplot(data=train_data, x=\"Longitude\", y=\"Latitude\",\n",
        "                size=\"Price\", hue=\"Price\", palette=\"winter\", #brg_r\n",
        "                alpha = 0.3\n",
        "                )"
      ],
      "execution_count": null,
      "outputs": [
        {
          "output_type": "execute_result",
          "data": {
            "text/plain": [
              "<matplotlib.axes._subplots.AxesSubplot at 0x7ff7bf8a2e90>"
            ]
          },
          "metadata": {},
          "execution_count": 621
        },
        {
          "output_type": "display_data",
          "data": {
            "image/png": "[encoded data removed]",
            "text/plain": [
              "<Figure size 576x432 with 1 Axes>"
            ]
          },
          "metadata": {}
        }
      ]
    },
    {
      "cell_type": "code",
      "metadata": {
        "colab": {
          "base_uri": "https://localhost:8080/"
        },
        "id": "C66NSJoHyCaI",
        "outputId": "6aec61db-ddf2-4090-a2e9-97df45064786"
      },
      "source": [
        "fig, axs = plt.subplots(2, 2, figsize=(20, 10))\n",
        "sns.set(style=\"whitegrid\")\n",
        "\n",
        "sns.histplot(data=train_data, x=\"Num_Beds\", kde=True, color=\"skyblue\", ax=axs[0, 0])\n",
        "sns.histplot(data=train_data, x=\"Num_Bathrooms\", kde=True, color=\"olive\", ax=axs[0, 1])\n",
        "sns.histplot(data=train_data, x=\"Surface\", kde=True, color=\"gold\", ax=axs[1, 0])\n",
        "sns.histplot(data=train_data, x=\"Price\", kde=True, color=\"teal\", ax=axs[1, 1])"
      ],
      "execution_count": null,
      "outputs": [
        {
          "output_type": "execute_result",
          "data": {
            "text/plain": [
              "<matplotlib.axes._subplots.AxesSubplot at 0x7ff7af87f690>"
            ]
          },
          "metadata": {},
          "execution_count": 622
        },
        {
          "output_type": "display_data",
          "data": {
            "image/png": "[encoded data removed]",
            "text/plain": [
              "<Figure size 1440x720 with 4 Axes>"
            ]
          },
          "metadata": {}
        }
      ]
    },
    {
      "cell_type": "code",
      "metadata": {
        "colab": {
          "base_uri": "https://localhost:8080/"
        },
        "id": "s-UU5KwBGD-V",
        "outputId": "47565afb-a33f-4106-b617-7328de1896ca"
      },
      "source": [
        "plt.subplot(2,1,1)\n",
        "sns.histplot(data=train_data, x=\"Type\", kde=True, color=\"skyblue\")\n",
        "\n",
        "plt.subplot(2,1,2)\n",
        "sns.histplot(data=train_data, x=\"BER_class\", kde=True, color=\"skyblue\")"
      ],
      "execution_count": null,
      "outputs": [
        {
          "output_type": "execute_result",
          "data": {
            "text/plain": [
              "<matplotlib.axes._subplots.AxesSubplot at 0x7ff7a4df0490>"
            ]
          },
          "metadata": {},
          "execution_count": 623
        },
        {
          "output_type": "display_data",
          "data": {
            "image/png": "[encoded data removed]",
            "text/plain": [
              "<Figure size 576x432 with 2 Axes>"
            ]
          },
          "metadata": {}
        }
      ]
    },
    {
      "cell_type": "code",
      "metadata": {
        "colab": {
          "base_uri": "https://localhost:8080/"
        },
        "id": "cb0Wmi6YKI8N",
        "outputId": "9fc82764-3b02-45ff-f36a-86ec3ce5d133"
      },
      "source": [
        "#Plotting Data on a Correlation Matrix - Identify Relationships\n",
        "sns.set(context=\"paper\", font=\"monospace\")\n",
        "housing_corr_matrix= train_data.iloc[:,2:].corr()\n",
        "fig, axe = plt.subplots(figsize=(10,8))\n",
        "cmap = sns.diverging_palette(220, 10, center = \"light\", as_cmap=True)\n",
        "heatmap = sns.heatmap(housing_corr_matrix, vmax=1, square=True, cmap=cmap, annot=True);"
      ],
      "execution_count": null,
      "outputs": [
        {
          "output_type": "display_data",
          "data": {
            "image/png": "[encoded data removed]",
            "text/plain": [
              "<Figure size 720x576 with 2 Axes>"
            ]
          },
          "metadata": {}
        }
      ]
    },
    {
      "cell_type": "code",
      "metadata": {
        "colab": {
          "base_uri": "https://localhost:8080/"
        },
        "id": "xCLmhx0xLxoP",
        "outputId": "5a5db12e-c2df-4925-82ef-ca1a3bfede66"
      },
      "source": [
        "#Plotting Data on a Boxplots - Identify Outliers\n",
        "sns.set(style=\"whitegrid\")\n",
        "plt.figure(figsize=(20,8))\n",
        "\n",
        "plt.subplot(2,1,1)\n",
        "sns.boxplot(train_data['Type'], train_data['Price'])\n",
        "\n",
        "plt.subplot(2,1,2)\n",
        "sns.boxplot(train_data['BER_class'], train_data['Price'])"
      ],
      "execution_count": null,
      "outputs": [
        {
          "output_type": "stream",
          "name": "stderr",
          "text": [
            "/usr/local/lib/python3.7/dist-packages/seaborn/_decorators.py:43: FutureWarning: Pass the following variables as keyword args: x, y. From version 0.12, the only valid positional argument will be `data`, and passing other arguments without an explicit keyword will result in an error or misinterpretation.\n",
            "  FutureWarning\n",
            "/usr/local/lib/python3.7/dist-packages/seaborn/_decorators.py:43: FutureWarning: Pass the following variables as keyword args: x, y. From version 0.12, the only valid positional argument will be `data`, and passing other arguments without an explicit keyword will result in an error or misinterpretation.\n",
            "  FutureWarning\n"
          ]
        },
        {
          "output_type": "execute_result",
          "data": {
            "text/plain": [
              "<matplotlib.axes._subplots.AxesSubplot at 0x7ff7a8717e50>"
            ]
          },
          "metadata": {},
          "execution_count": 625
        },
        {
          "output_type": "display_data",
          "data": {
            "image/png": "[encoded data removed]",
            "text/plain": [
              "<Figure size 1440x576 with 2 Axes>"
            ]
          },
          "metadata": {}
        }
      ]
    },
    {
      "cell_type": "markdown",
      "metadata": {
        "id": "2sr2vnhQPPZi"
      },
      "source": [
        "##2.3 Removing Outliers"
      ]
    },
    {
      "cell_type": "code",
      "metadata": {
        "colab": {
          "base_uri": "https://localhost:8080/",
          "height": 372
        },
        "id": "dGpHgUmoPhm5",
        "outputId": "7da3eaf9-69a8-44bc-e6ed-f67d7ff3c7b3"
      },
      "source": [
        "#Indentifying the Bedroom Outliers \n",
        "train_data[train_data['Num_Beds'] > 10]"
      ],
      "execution_count": null,
      "outputs": [
        {
          "output_type": "execute_result",
          "data": {
            "text/html": [
              "<div>\n",
              "<style scoped>\n",
              "    .dataframe tbody tr th:only-of-type {\n",
              "        vertical-align: middle;\n",
              "    }\n",
              "\n",
              "    .dataframe tbody tr th {\n",
              "        vertical-align: top;\n",
              "    }\n",
              "\n",
              "    .dataframe thead th {\n",
              "        text-align: right;\n",
              "    }\n",
              "</style>\n",
              "<table border=\"1\" class=\"dataframe\">\n",
              "  <thead>\n",
              "    <tr style=\"text-align: right;\">\n",
              "      <th></th>\n",
              "      <th>Index</th>\n",
              "      <th>ID</th>\n",
              "      <th>Location</th>\n",
              "      <th>Num_Bathrooms</th>\n",
              "      <th>Num_Beds</th>\n",
              "      <th>BER_class</th>\n",
              "      <th>Description</th>\n",
              "      <th>Services</th>\n",
              "      <th>Features</th>\n",
              "      <th>Latitude</th>\n",
              "      <th>Longitude</th>\n",
              "      <th>Type</th>\n",
              "      <th>Surface</th>\n",
              "      <th>Price</th>\n",
              "    </tr>\n",
              "  </thead>\n",
              "  <tbody>\n",
              "    <tr>\n",
              "      <th>557</th>\n",
              "      <td>558</td>\n",
              "      <td>12381836</td>\n",
              "      <td>Inchicore</td>\n",
              "      <td>15</td>\n",
              "      <td>15</td>\n",
              "      <td>D1</td>\n",
              "      <td>umber 67 &amp;amp; 69 Jamestown Road represent a f...</td>\n",
              "      <td>Parking</td>\n",
              "      <td>18 separate units\\nTransport links including t...</td>\n",
              "      <td>53.335109</td>\n",
              "      <td>-6.331515</td>\n",
              "      <td>semi-detached</td>\n",
              "      <td>318.2</td>\n",
              "      <td>775000</td>\n",
              "    </tr>\n",
              "    <tr>\n",
              "      <th>1099</th>\n",
              "      <td>1100</td>\n",
              "      <td>11780612</td>\n",
              "      <td>Dun Laoghaire</td>\n",
              "      <td>15</td>\n",
              "      <td>15</td>\n",
              "      <td>NaN</td>\n",
              "      <td>A truly unique stone built house of great qual...</td>\n",
              "      <td>Parking,Gas Fired Central Heating,Alarm,Wired ...</td>\n",
              "      <td>Lift servicing all floors\\nVenetian and gothic...</td>\n",
              "      <td>53.287504</td>\n",
              "      <td>-6.146605</td>\n",
              "      <td>detached</td>\n",
              "      <td>700.0</td>\n",
              "      <td>1500000</td>\n",
              "    </tr>\n",
              "    <tr>\n",
              "      <th>1378</th>\n",
              "      <td>1379</td>\n",
              "      <td>12085770</td>\n",
              "      <td>Killiney</td>\n",
              "      <td>18</td>\n",
              "      <td>27</td>\n",
              "      <td>NaN</td>\n",
              "      <td>The Grove is an imposing Victorian mansion bui...</td>\n",
              "      <td>NaN</td>\n",
              "      <td>Approx. 1 490 sq. m / 16 041 sq. ft. of accomm...</td>\n",
              "      <td>53.260955</td>\n",
              "      <td>-6.117266</td>\n",
              "      <td>detached</td>\n",
              "      <td>1490.0</td>\n",
              "      <td>4500000</td>\n",
              "    </tr>\n",
              "  </tbody>\n",
              "</table>\n",
              "</div>"
            ],
            "text/plain": [
              "      Index        ID       Location  ...           Type  Surface    Price\n",
              "557     558  12381836      Inchicore  ...  semi-detached    318.2   775000\n",
              "1099   1100  11780612  Dun Laoghaire  ...       detached    700.0  1500000\n",
              "1378   1379  12085770       Killiney  ...       detached   1490.0  4500000\n",
              "\n",
              "[3 rows x 14 columns]"
            ]
          },
          "metadata": {},
          "execution_count": 626
        }
      ]
    },
    {
      "cell_type": "code",
      "metadata": {
        "colab": {
          "base_uri": "https://localhost:8080/",
          "height": 305
        },
        "id": "WyqC91_jUM_M",
        "outputId": "67812d0d-cbb3-48ae-b53d-415589560e4e"
      },
      "source": [
        "#Identifying Surface Outliers\n",
        "train_data[train_data['Surface'] > 5000]"
      ],
      "execution_count": null,
      "outputs": [
        {
          "output_type": "execute_result",
          "data": {
            "text/html": [
              "<div>\n",
              "<style scoped>\n",
              "    .dataframe tbody tr th:only-of-type {\n",
              "        vertical-align: middle;\n",
              "    }\n",
              "\n",
              "    .dataframe tbody tr th {\n",
              "        vertical-align: top;\n",
              "    }\n",
              "\n",
              "    .dataframe thead th {\n",
              "        text-align: right;\n",
              "    }\n",
              "</style>\n",
              "<table border=\"1\" class=\"dataframe\">\n",
              "  <thead>\n",
              "    <tr style=\"text-align: right;\">\n",
              "      <th></th>\n",
              "      <th>Index</th>\n",
              "      <th>ID</th>\n",
              "      <th>Location</th>\n",
              "      <th>Num_Bathrooms</th>\n",
              "      <th>Num_Beds</th>\n",
              "      <th>BER_class</th>\n",
              "      <th>Description</th>\n",
              "      <th>Services</th>\n",
              "      <th>Features</th>\n",
              "      <th>Latitude</th>\n",
              "      <th>Longitude</th>\n",
              "      <th>Type</th>\n",
              "      <th>Surface</th>\n",
              "      <th>Price</th>\n",
              "    </tr>\n",
              "  </thead>\n",
              "  <tbody>\n",
              "    <tr>\n",
              "      <th>506</th>\n",
              "      <td>507</td>\n",
              "      <td>11675753</td>\n",
              "      <td>Swords</td>\n",
              "      <td>1</td>\n",
              "      <td>4</td>\n",
              "      <td>E1</td>\n",
              "      <td>Thornton Park is a superb modern equestrian ce...</td>\n",
              "      <td>NaN</td>\n",
              "      <td>None</td>\n",
              "      <td>53.474502</td>\n",
              "      <td>-6.343483</td>\n",
              "      <td>bungalow</td>\n",
              "      <td>72236.38714</td>\n",
              "      <td>1100000</td>\n",
              "    </tr>\n",
              "    <tr>\n",
              "      <th>1115</th>\n",
              "      <td>1116</td>\n",
              "      <td>11965032</td>\n",
              "      <td>Blanchardstown</td>\n",
              "      <td>1</td>\n",
              "      <td>2</td>\n",
              "      <td>E2</td>\n",
              "      <td>Baxter Real Estate are delighted to present to...</td>\n",
              "      <td>NaN</td>\n",
              "      <td>Short drive to the N3 and M50 .\\nSuitable for ...</td>\n",
              "      <td>53.386540</td>\n",
              "      <td>-6.377356</td>\n",
              "      <td>bungalow</td>\n",
              "      <td>6705.00000</td>\n",
              "      <td>425000</td>\n",
              "    </tr>\n",
              "  </tbody>\n",
              "</table>\n",
              "</div>"
            ],
            "text/plain": [
              "      Index        ID        Location  ...      Type      Surface    Price\n",
              "506     507  11675753          Swords  ...  bungalow  72236.38714  1100000\n",
              "1115   1116  11965032  Blanchardstown  ...  bungalow   6705.00000   425000\n",
              "\n",
              "[2 rows x 14 columns]"
            ]
          },
          "metadata": {},
          "execution_count": 627
        }
      ]
    },
    {
      "cell_type": "code",
      "metadata": {
        "id": "HYQW8A0xQGd0"
      },
      "source": [
        "#Dropping Bedroom & Suface Outliers\n",
        "train_data = train_data.drop(labels=[557,1099,1378,506,1115], axis=0)"
      ],
      "execution_count": null,
      "outputs": []
    },
    {
      "cell_type": "code",
      "metadata": {
        "colab": {
          "base_uri": "https://localhost:8080/"
        },
        "id": "Ive3nL-iSIk8",
        "outputId": "186228d7-cbc6-4864-9a51-749143468949"
      },
      "source": [
        "#New Shape of 1,632 Rows (6 previous outliers removed)\n",
        "train_data.shape"
      ],
      "execution_count": null,
      "outputs": [
        {
          "output_type": "execute_result",
          "data": {
            "text/plain": [
              "(1632, 14)"
            ]
          },
          "metadata": {},
          "execution_count": 629
        }
      ]
    },
    {
      "cell_type": "code",
      "metadata": {
        "colab": {
          "base_uri": "https://localhost:8080/",
          "height": 487
        },
        "id": "Na37jfO7UBFU",
        "outputId": "4a091dfe-9693-4047-8b44-2eae9c11ce75"
      },
      "source": [
        "#Plotting Data on a Correlation Matrix - Identify Relationships\n",
        "sns.set(context=\"paper\", font=\"monospace\")\n",
        "housing_corr_matrix= train_data.iloc[:,2:].corr()\n",
        "fig, axe = plt.subplots(figsize=(10,8))\n",
        "cmap = \"YlGnBu\"\n",
        "sns.heatmap(housing_corr_matrix, vmax=1, square=True, cmap=cmap, annot=True);"
      ],
      "execution_count": null,
      "outputs": [
        {
          "output_type": "display_data",
          "data": {
            "image/png": "[encoded data removed]",
            "text/plain": [
              "<Figure size 720x576 with 2 Axes>"
            ]
          },
          "metadata": {}
        }
      ]
    },
    {
      "cell_type": "code",
      "metadata": {
        "id": "l1tRPrV6Mc4j"
      },
      "source": [
        "#Creating a Copy for LSTM\n",
        "train_data4 = train_data.copy()\n",
        "train_data4 = train_data4.drop(\"Location\", axis=1)\n",
        "test_data4 = test_data.copy()\n",
        "test_data4 = test_data4.drop(\"Location\", axis=1)"
      ],
      "execution_count": null,
      "outputs": []
    },
    {
      "cell_type": "code",
      "metadata": {
        "colab": {
          "base_uri": "https://localhost:8080/"
        },
        "id": "jhJHKXX8fqfO",
        "outputId": "b470b521-c659-428b-a4ca-2f967b7f7f65"
      },
      "source": [
        "#Checking Train Copy\n",
        "train_data4.count()"
      ],
      "execution_count": null,
      "outputs": [
        {
          "output_type": "execute_result",
          "data": {
            "text/plain": [
              "Index            1632\n",
              "ID               1632\n",
              "Num_Bathrooms    1632\n",
              "Num_Beds         1632\n",
              "BER_class        1384\n",
              "Description      1632\n",
              "Services          575\n",
              "Features         1632\n",
              "Latitude         1632\n",
              "Longitude        1632\n",
              "Type             1632\n",
              "Surface          1632\n",
              "Price            1632\n",
              "dtype: int64"
            ]
          },
          "metadata": {},
          "execution_count": 632
        }
      ]
    },
    {
      "cell_type": "code",
      "metadata": {
        "colab": {
          "base_uri": "https://localhost:8080/"
        },
        "id": "hVM2gxerY15v",
        "outputId": "8ad34a25-74f0-4e39-f759-b4eda8a7571b"
      },
      "source": [
        "#Checking Test Copy\n",
        "test_data4.count()"
      ],
      "execution_count": null,
      "outputs": [
        {
          "output_type": "execute_result",
          "data": {
            "text/plain": [
              "Index            702\n",
              "ID               702\n",
              "Num_Bathrooms    702\n",
              "Num_Beds         702\n",
              "BER_class        594\n",
              "Description      702\n",
              "Services         246\n",
              "Features         702\n",
              "Latitude         702\n",
              "Longitude        702\n",
              "Type             702\n",
              "Surface          702\n",
              "dtype: int64"
            ]
          },
          "metadata": {},
          "execution_count": 633
        }
      ]
    },
    {
      "cell_type": "code",
      "metadata": {
        "id": "tHX1I5MqClft"
      },
      "source": [
        "#Assigning Train X and Y\n",
        "X_train = train_data.drop(\"Price\", axis=1)\n",
        "Y_train = train_data[\"Price\"]\n",
        "\n",
        "#Assigning Test X\n",
        "X_test = test_data\n",
        "#Y_test = N/A"
      ],
      "execution_count": null,
      "outputs": []
    },
    {
      "cell_type": "markdown",
      "metadata": {
        "id": "WL91ShB19RPw"
      },
      "source": [
        "# 3. NLP"
      ]
    },
    {
      "cell_type": "markdown",
      "metadata": {
        "id": "8lmLTCLpV7Ih"
      },
      "source": [
        "##3.1 Encoding Informative Variables"
      ]
    },
    {
      "cell_type": "code",
      "metadata": {
        "id": "43OKEL0dMQcc"
      },
      "source": [
        "# Change informative variables defined to dummy variables and name the columns\n",
        "encoded_train = pd.get_dummies(X_train, columns=[\"Location\", \"BER_class\", \"Type\"], prefix=[\"Location\", \"BER\", \"Type\"])"
      ],
      "execution_count": null,
      "outputs": []
    },
    {
      "cell_type": "code",
      "metadata": {
        "colab": {
          "base_uri": "https://localhost:8080/"
        },
        "id": "vEfyHcTA3YHw",
        "outputId": "d784c474-1d72-4165-a754-6fb0d6507e5c"
      },
      "source": [
        "# Show the first 6 rows\n",
        "encoded_train.head()"
      ],
      "execution_count": null,
      "outputs": [
        {
          "output_type": "execute_result",
          "data": {
            "text/html": [
              "<div>\n",
              "<style scoped>\n",
              "    .dataframe tbody tr th:only-of-type {\n",
              "        vertical-align: middle;\n",
              "    }\n",
              "\n",
              "    .dataframe tbody tr th {\n",
              "        vertical-align: top;\n",
              "    }\n",
              "\n",
              "    .dataframe thead th {\n",
              "        text-align: right;\n",
              "    }\n",
              "</style>\n",
              "<table border=\"1\" class=\"dataframe\">\n",
              "  <thead>\n",
              "    <tr style=\"text-align: right;\">\n",
              "      <th></th>\n",
              "      <th>Index</th>\n",
              "      <th>ID</th>\n",
              "      <th>Num_Bathrooms</th>\n",
              "      <th>Num_Beds</th>\n",
              "      <th>Description</th>\n",
              "      <th>Services</th>\n",
              "      <th>Features</th>\n",
              "      <th>Latitude</th>\n",
              "      <th>Longitude</th>\n",
              "      <th>Surface</th>\n",
              "      <th>Location_Adamstown</th>\n",
              "      <th>Location_Ard Na Greine</th>\n",
              "      <th>Location_Artane</th>\n",
              "      <th>Location_Ashtown</th>\n",
              "      <th>Location_Balbriggan</th>\n",
              "      <th>Location_Baldoyle</th>\n",
              "      <th>Location_Balgriffin</th>\n",
              "      <th>Location_Ballinteer</th>\n",
              "      <th>Location_Ballsbridge</th>\n",
              "      <th>Location_Ballybough</th>\n",
              "      <th>Location_Ballyboughal</th>\n",
              "      <th>Location_Ballybrack</th>\n",
              "      <th>Location_Ballycullen</th>\n",
              "      <th>Location_Ballyfermot</th>\n",
              "      <th>Location_Ballymun</th>\n",
              "      <th>Location_Balrothery</th>\n",
              "      <th>Location_Beaumont</th>\n",
              "      <th>Location_Blackrock</th>\n",
              "      <th>Location_Blanchardstown</th>\n",
              "      <th>Location_Bluebell</th>\n",
              "      <th>Location_Booterstown</th>\n",
              "      <th>Location_Brittas</th>\n",
              "      <th>Location_Cabinteely</th>\n",
              "      <th>Location_Cabra</th>\n",
              "      <th>Location_Carrickmines</th>\n",
              "      <th>Location_Castleknock</th>\n",
              "      <th>Location_Chapelizod</th>\n",
              "      <th>Location_Christchurch</th>\n",
              "      <th>Location_Churchtown</th>\n",
              "      <th>Location_Citywest</th>\n",
              "      <th>...</th>\n",
              "      <th>Location_Stepaside</th>\n",
              "      <th>Location_Stoneybatter</th>\n",
              "      <th>Location_Sutton</th>\n",
              "      <th>Location_Swords</th>\n",
              "      <th>Location_Tallaght</th>\n",
              "      <th>Location_Temple Bar</th>\n",
              "      <th>Location_Templeogue</th>\n",
              "      <th>Location_Terenure</th>\n",
              "      <th>Location_The Coombe</th>\n",
              "      <th>Location_The Ward</th>\n",
              "      <th>Location_Tyrrelstown</th>\n",
              "      <th>Location_Walkinstown</th>\n",
              "      <th>Location_Whitehall</th>\n",
              "      <th>Location_Windy Arbour</th>\n",
              "      <th>BER_A1</th>\n",
              "      <th>BER_A2</th>\n",
              "      <th>BER_A3</th>\n",
              "      <th>BER_B1</th>\n",
              "      <th>BER_B2</th>\n",
              "      <th>BER_B3</th>\n",
              "      <th>BER_C1</th>\n",
              "      <th>BER_C2</th>\n",
              "      <th>BER_C3</th>\n",
              "      <th>BER_D1</th>\n",
              "      <th>BER_D2</th>\n",
              "      <th>BER_E1</th>\n",
              "      <th>BER_E2</th>\n",
              "      <th>BER_F</th>\n",
              "      <th>BER_G</th>\n",
              "      <th>BER_SINo666of2006exempt</th>\n",
              "      <th>Type_apartment</th>\n",
              "      <th>Type_bungalow</th>\n",
              "      <th>Type_detached</th>\n",
              "      <th>Type_duplex</th>\n",
              "      <th>Type_end-of-terrace</th>\n",
              "      <th>Type_semi-detached</th>\n",
              "      <th>Type_site</th>\n",
              "      <th>Type_studio</th>\n",
              "      <th>Type_terraced</th>\n",
              "      <th>Type_townhouse</th>\n",
              "    </tr>\n",
              "  </thead>\n",
              "  <tbody>\n",
              "    <tr>\n",
              "      <th>0</th>\n",
              "      <td>1</td>\n",
              "      <td>12409116</td>\n",
              "      <td>2</td>\n",
              "      <td>2</td>\n",
              "      <td>DNG are delighted to present to the market no....</td>\n",
              "      <td>NaN</td>\n",
              "      <td>None</td>\n",
              "      <td>53.396659</td>\n",
              "      <td>-6.438791</td>\n",
              "      <td>67.00</td>\n",
              "      <td>0</td>\n",
              "      <td>0</td>\n",
              "      <td>0</td>\n",
              "      <td>0</td>\n",
              "      <td>0</td>\n",
              "      <td>0</td>\n",
              "      <td>0</td>\n",
              "      <td>0</td>\n",
              "      <td>0</td>\n",
              "      <td>0</td>\n",
              "      <td>0</td>\n",
              "      <td>0</td>\n",
              "      <td>0</td>\n",
              "      <td>0</td>\n",
              "      <td>0</td>\n",
              "      <td>0</td>\n",
              "      <td>0</td>\n",
              "      <td>0</td>\n",
              "      <td>0</td>\n",
              "      <td>0</td>\n",
              "      <td>0</td>\n",
              "      <td>0</td>\n",
              "      <td>0</td>\n",
              "      <td>0</td>\n",
              "      <td>0</td>\n",
              "      <td>0</td>\n",
              "      <td>0</td>\n",
              "      <td>0</td>\n",
              "      <td>0</td>\n",
              "      <td>0</td>\n",
              "      <td>...</td>\n",
              "      <td>0</td>\n",
              "      <td>0</td>\n",
              "      <td>0</td>\n",
              "      <td>0</td>\n",
              "      <td>0</td>\n",
              "      <td>0</td>\n",
              "      <td>0</td>\n",
              "      <td>0</td>\n",
              "      <td>0</td>\n",
              "      <td>0</td>\n",
              "      <td>0</td>\n",
              "      <td>0</td>\n",
              "      <td>0</td>\n",
              "      <td>0</td>\n",
              "      <td>0</td>\n",
              "      <td>0</td>\n",
              "      <td>0</td>\n",
              "      <td>0</td>\n",
              "      <td>0</td>\n",
              "      <td>0</td>\n",
              "      <td>0</td>\n",
              "      <td>0</td>\n",
              "      <td>1</td>\n",
              "      <td>0</td>\n",
              "      <td>0</td>\n",
              "      <td>0</td>\n",
              "      <td>0</td>\n",
              "      <td>0</td>\n",
              "      <td>0</td>\n",
              "      <td>0</td>\n",
              "      <td>1</td>\n",
              "      <td>0</td>\n",
              "      <td>0</td>\n",
              "      <td>0</td>\n",
              "      <td>0</td>\n",
              "      <td>0</td>\n",
              "      <td>0</td>\n",
              "      <td>0</td>\n",
              "      <td>0</td>\n",
              "      <td>0</td>\n",
              "    </tr>\n",
              "    <tr>\n",
              "      <th>1</th>\n",
              "      <td>2</td>\n",
              "      <td>12320330</td>\n",
              "      <td>1</td>\n",
              "      <td>2</td>\n",
              "      <td>13 Northbrook Terrace is a charming red brick ...</td>\n",
              "      <td>NaN</td>\n",
              "      <td>Bight and Spacious interior\\nNumerous original...</td>\n",
              "      <td>53.357129</td>\n",
              "      <td>-6.239779</td>\n",
              "      <td>95.97</td>\n",
              "      <td>0</td>\n",
              "      <td>0</td>\n",
              "      <td>0</td>\n",
              "      <td>0</td>\n",
              "      <td>0</td>\n",
              "      <td>0</td>\n",
              "      <td>0</td>\n",
              "      <td>0</td>\n",
              "      <td>0</td>\n",
              "      <td>0</td>\n",
              "      <td>0</td>\n",
              "      <td>0</td>\n",
              "      <td>0</td>\n",
              "      <td>0</td>\n",
              "      <td>0</td>\n",
              "      <td>0</td>\n",
              "      <td>0</td>\n",
              "      <td>0</td>\n",
              "      <td>0</td>\n",
              "      <td>0</td>\n",
              "      <td>0</td>\n",
              "      <td>0</td>\n",
              "      <td>0</td>\n",
              "      <td>0</td>\n",
              "      <td>0</td>\n",
              "      <td>0</td>\n",
              "      <td>0</td>\n",
              "      <td>0</td>\n",
              "      <td>0</td>\n",
              "      <td>0</td>\n",
              "      <td>...</td>\n",
              "      <td>0</td>\n",
              "      <td>0</td>\n",
              "      <td>0</td>\n",
              "      <td>0</td>\n",
              "      <td>0</td>\n",
              "      <td>0</td>\n",
              "      <td>0</td>\n",
              "      <td>0</td>\n",
              "      <td>0</td>\n",
              "      <td>0</td>\n",
              "      <td>0</td>\n",
              "      <td>0</td>\n",
              "      <td>0</td>\n",
              "      <td>0</td>\n",
              "      <td>0</td>\n",
              "      <td>0</td>\n",
              "      <td>0</td>\n",
              "      <td>0</td>\n",
              "      <td>0</td>\n",
              "      <td>0</td>\n",
              "      <td>0</td>\n",
              "      <td>0</td>\n",
              "      <td>0</td>\n",
              "      <td>1</td>\n",
              "      <td>0</td>\n",
              "      <td>0</td>\n",
              "      <td>0</td>\n",
              "      <td>0</td>\n",
              "      <td>0</td>\n",
              "      <td>0</td>\n",
              "      <td>0</td>\n",
              "      <td>0</td>\n",
              "      <td>0</td>\n",
              "      <td>0</td>\n",
              "      <td>0</td>\n",
              "      <td>0</td>\n",
              "      <td>0</td>\n",
              "      <td>0</td>\n",
              "      <td>1</td>\n",
              "      <td>0</td>\n",
              "    </tr>\n",
              "    <tr>\n",
              "      <th>2</th>\n",
              "      <td>3</td>\n",
              "      <td>12405953</td>\n",
              "      <td>3</td>\n",
              "      <td>3</td>\n",
              "      <td>Welcome to No. 6 Cotter Close, an immaculately...</td>\n",
              "      <td>NaN</td>\n",
              "      <td>Special Features\\nLarge rear garden\\nGenerous ...</td>\n",
              "      <td>53.266468</td>\n",
              "      <td>-6.222771</td>\n",
              "      <td>107.00</td>\n",
              "      <td>0</td>\n",
              "      <td>0</td>\n",
              "      <td>0</td>\n",
              "      <td>0</td>\n",
              "      <td>0</td>\n",
              "      <td>0</td>\n",
              "      <td>0</td>\n",
              "      <td>0</td>\n",
              "      <td>0</td>\n",
              "      <td>0</td>\n",
              "      <td>0</td>\n",
              "      <td>0</td>\n",
              "      <td>0</td>\n",
              "      <td>0</td>\n",
              "      <td>0</td>\n",
              "      <td>0</td>\n",
              "      <td>0</td>\n",
              "      <td>0</td>\n",
              "      <td>0</td>\n",
              "      <td>0</td>\n",
              "      <td>0</td>\n",
              "      <td>0</td>\n",
              "      <td>0</td>\n",
              "      <td>0</td>\n",
              "      <td>0</td>\n",
              "      <td>0</td>\n",
              "      <td>0</td>\n",
              "      <td>0</td>\n",
              "      <td>0</td>\n",
              "      <td>0</td>\n",
              "      <td>...</td>\n",
              "      <td>1</td>\n",
              "      <td>0</td>\n",
              "      <td>0</td>\n",
              "      <td>0</td>\n",
              "      <td>0</td>\n",
              "      <td>0</td>\n",
              "      <td>0</td>\n",
              "      <td>0</td>\n",
              "      <td>0</td>\n",
              "      <td>0</td>\n",
              "      <td>0</td>\n",
              "      <td>0</td>\n",
              "      <td>0</td>\n",
              "      <td>0</td>\n",
              "      <td>0</td>\n",
              "      <td>0</td>\n",
              "      <td>1</td>\n",
              "      <td>0</td>\n",
              "      <td>0</td>\n",
              "      <td>0</td>\n",
              "      <td>0</td>\n",
              "      <td>0</td>\n",
              "      <td>0</td>\n",
              "      <td>0</td>\n",
              "      <td>0</td>\n",
              "      <td>0</td>\n",
              "      <td>0</td>\n",
              "      <td>0</td>\n",
              "      <td>0</td>\n",
              "      <td>0</td>\n",
              "      <td>0</td>\n",
              "      <td>0</td>\n",
              "      <td>0</td>\n",
              "      <td>0</td>\n",
              "      <td>0</td>\n",
              "      <td>1</td>\n",
              "      <td>0</td>\n",
              "      <td>0</td>\n",
              "      <td>0</td>\n",
              "      <td>0</td>\n",
              "    </tr>\n",
              "    <tr>\n",
              "      <th>3</th>\n",
              "      <td>4</td>\n",
              "      <td>12202582</td>\n",
              "      <td>1</td>\n",
              "      <td>3</td>\n",
              "      <td>Welcome to 3 Sycamore Walk!\\n\\r\\nEnjoying a pr...</td>\n",
              "      <td>NaN</td>\n",
              "      <td>Wonderful 3 bed detached bungalow.     \\nAccom...</td>\n",
              "      <td>53.261600</td>\n",
              "      <td>-6.166738</td>\n",
              "      <td>81.00</td>\n",
              "      <td>0</td>\n",
              "      <td>0</td>\n",
              "      <td>0</td>\n",
              "      <td>0</td>\n",
              "      <td>0</td>\n",
              "      <td>0</td>\n",
              "      <td>0</td>\n",
              "      <td>0</td>\n",
              "      <td>0</td>\n",
              "      <td>0</td>\n",
              "      <td>0</td>\n",
              "      <td>0</td>\n",
              "      <td>0</td>\n",
              "      <td>0</td>\n",
              "      <td>0</td>\n",
              "      <td>0</td>\n",
              "      <td>0</td>\n",
              "      <td>0</td>\n",
              "      <td>0</td>\n",
              "      <td>0</td>\n",
              "      <td>0</td>\n",
              "      <td>0</td>\n",
              "      <td>1</td>\n",
              "      <td>0</td>\n",
              "      <td>0</td>\n",
              "      <td>0</td>\n",
              "      <td>0</td>\n",
              "      <td>0</td>\n",
              "      <td>0</td>\n",
              "      <td>0</td>\n",
              "      <td>...</td>\n",
              "      <td>0</td>\n",
              "      <td>0</td>\n",
              "      <td>0</td>\n",
              "      <td>0</td>\n",
              "      <td>0</td>\n",
              "      <td>0</td>\n",
              "      <td>0</td>\n",
              "      <td>0</td>\n",
              "      <td>0</td>\n",
              "      <td>0</td>\n",
              "      <td>0</td>\n",
              "      <td>0</td>\n",
              "      <td>0</td>\n",
              "      <td>0</td>\n",
              "      <td>0</td>\n",
              "      <td>0</td>\n",
              "      <td>0</td>\n",
              "      <td>0</td>\n",
              "      <td>0</td>\n",
              "      <td>0</td>\n",
              "      <td>0</td>\n",
              "      <td>0</td>\n",
              "      <td>0</td>\n",
              "      <td>0</td>\n",
              "      <td>0</td>\n",
              "      <td>1</td>\n",
              "      <td>0</td>\n",
              "      <td>0</td>\n",
              "      <td>0</td>\n",
              "      <td>0</td>\n",
              "      <td>0</td>\n",
              "      <td>0</td>\n",
              "      <td>1</td>\n",
              "      <td>0</td>\n",
              "      <td>0</td>\n",
              "      <td>0</td>\n",
              "      <td>0</td>\n",
              "      <td>0</td>\n",
              "      <td>0</td>\n",
              "      <td>0</td>\n",
              "    </tr>\n",
              "    <tr>\n",
              "      <th>4</th>\n",
              "      <td>5</td>\n",
              "      <td>12299336</td>\n",
              "      <td>3</td>\n",
              "      <td>4</td>\n",
              "      <td>'Four Seasons' comes to the market as a wonder...</td>\n",
              "      <td>NaN</td>\n",
              "      <td>Detached Property      \\nDouble Glazed Windows...</td>\n",
              "      <td>53.550731</td>\n",
              "      <td>-6.121415</td>\n",
              "      <td>153.00</td>\n",
              "      <td>0</td>\n",
              "      <td>0</td>\n",
              "      <td>0</td>\n",
              "      <td>0</td>\n",
              "      <td>0</td>\n",
              "      <td>0</td>\n",
              "      <td>0</td>\n",
              "      <td>0</td>\n",
              "      <td>0</td>\n",
              "      <td>0</td>\n",
              "      <td>0</td>\n",
              "      <td>0</td>\n",
              "      <td>0</td>\n",
              "      <td>0</td>\n",
              "      <td>0</td>\n",
              "      <td>0</td>\n",
              "      <td>0</td>\n",
              "      <td>0</td>\n",
              "      <td>0</td>\n",
              "      <td>0</td>\n",
              "      <td>0</td>\n",
              "      <td>0</td>\n",
              "      <td>0</td>\n",
              "      <td>0</td>\n",
              "      <td>0</td>\n",
              "      <td>0</td>\n",
              "      <td>0</td>\n",
              "      <td>0</td>\n",
              "      <td>0</td>\n",
              "      <td>0</td>\n",
              "      <td>...</td>\n",
              "      <td>0</td>\n",
              "      <td>0</td>\n",
              "      <td>0</td>\n",
              "      <td>0</td>\n",
              "      <td>0</td>\n",
              "      <td>0</td>\n",
              "      <td>0</td>\n",
              "      <td>0</td>\n",
              "      <td>0</td>\n",
              "      <td>0</td>\n",
              "      <td>0</td>\n",
              "      <td>0</td>\n",
              "      <td>0</td>\n",
              "      <td>0</td>\n",
              "      <td>0</td>\n",
              "      <td>0</td>\n",
              "      <td>0</td>\n",
              "      <td>0</td>\n",
              "      <td>0</td>\n",
              "      <td>0</td>\n",
              "      <td>0</td>\n",
              "      <td>0</td>\n",
              "      <td>0</td>\n",
              "      <td>1</td>\n",
              "      <td>0</td>\n",
              "      <td>0</td>\n",
              "      <td>0</td>\n",
              "      <td>0</td>\n",
              "      <td>0</td>\n",
              "      <td>0</td>\n",
              "      <td>0</td>\n",
              "      <td>0</td>\n",
              "      <td>1</td>\n",
              "      <td>0</td>\n",
              "      <td>0</td>\n",
              "      <td>0</td>\n",
              "      <td>0</td>\n",
              "      <td>0</td>\n",
              "      <td>0</td>\n",
              "      <td>0</td>\n",
              "    </tr>\n",
              "  </tbody>\n",
              "</table>\n",
              "<p>5 rows × 178 columns</p>\n",
              "</div>"
            ],
            "text/plain": [
              "   Index        ID  Num_Bathrooms  ...  Type_studio Type_terraced Type_townhouse\n",
              "0      1  12409116              2  ...            0             0              0\n",
              "1      2  12320330              1  ...            0             1              0\n",
              "2      3  12405953              3  ...            0             0              0\n",
              "3      4  12202582              1  ...            0             0              0\n",
              "4      5  12299336              3  ...            0             0              0\n",
              "\n",
              "[5 rows x 178 columns]"
            ]
          },
          "metadata": {},
          "execution_count": 636
        }
      ]
    },
    {
      "cell_type": "code",
      "metadata": {
        "id": "uE9TkQaJTGgz",
        "colab": {
          "base_uri": "https://localhost:8080/"
        },
        "outputId": "6d68d4e3-2772-4b38-e0a2-6ddaad55479e"
      },
      "source": [
        "# Examine changes in list format\n",
        "encoded_train.columns.to_list()"
      ],
      "execution_count": null,
      "outputs": [
        {
          "output_type": "execute_result",
          "data": {
            "text/plain": [
              "['Index',\n",
              " 'ID',\n",
              " 'Num_Bathrooms',\n",
              " 'Num_Beds',\n",
              " 'Description',\n",
              " 'Services',\n",
              " 'Features',\n",
              " 'Latitude',\n",
              " 'Longitude',\n",
              " 'Surface',\n",
              " 'Location_Adamstown',\n",
              " 'Location_Ard Na Greine',\n",
              " 'Location_Artane',\n",
              " 'Location_Ashtown',\n",
              " 'Location_Balbriggan',\n",
              " 'Location_Baldoyle',\n",
              " 'Location_Balgriffin',\n",
              " 'Location_Ballinteer',\n",
              " 'Location_Ballsbridge',\n",
              " 'Location_Ballybough',\n",
              " 'Location_Ballyboughal',\n",
              " 'Location_Ballybrack',\n",
              " 'Location_Ballycullen',\n",
              " 'Location_Ballyfermot',\n",
              " 'Location_Ballymun',\n",
              " 'Location_Balrothery',\n",
              " 'Location_Beaumont',\n",
              " 'Location_Blackrock',\n",
              " 'Location_Blanchardstown',\n",
              " 'Location_Bluebell',\n",
              " 'Location_Booterstown',\n",
              " 'Location_Brittas',\n",
              " 'Location_Cabinteely',\n",
              " 'Location_Cabra',\n",
              " 'Location_Carrickmines',\n",
              " 'Location_Castleknock',\n",
              " 'Location_Chapelizod',\n",
              " 'Location_Christchurch',\n",
              " 'Location_Churchtown',\n",
              " 'Location_Citywest',\n",
              " 'Location_Clarehall',\n",
              " 'Location_Clondalkin',\n",
              " 'Location_Clonee',\n",
              " 'Location_Clongriffin',\n",
              " 'Location_Clonshaugh',\n",
              " 'Location_Clonsilla',\n",
              " 'Location_Clonskeagh',\n",
              " 'Location_Clontarf',\n",
              " 'Location_Coolmine',\n",
              " 'Location_Coolock',\n",
              " 'Location_Crumlin',\n",
              " 'Location_Dalkey',\n",
              " 'Location_Darndale',\n",
              " 'Location_Deansgrange',\n",
              " 'Location_Donabate',\n",
              " 'Location_Donaghmede',\n",
              " 'Location_Donnybrook',\n",
              " 'Location_Donnycarney',\n",
              " 'Location_Drimnagh',\n",
              " 'Location_Drumcondra',\n",
              " 'Location_Dublin 1',\n",
              " 'Location_Dublin 2',\n",
              " 'Location_Dublin 4',\n",
              " 'Location_Dublin 7',\n",
              " 'Location_Dublin 8',\n",
              " 'Location_Dun Laoghaire',\n",
              " 'Location_Dundrum',\n",
              " 'Location_East Wall',\n",
              " 'Location_Fairview',\n",
              " 'Location_Finglas',\n",
              " 'Location_Firhouse',\n",
              " 'Location_Foxrock',\n",
              " 'Location_Garristown',\n",
              " 'Location_Glasnevin',\n",
              " 'Location_Glenageary',\n",
              " 'Location_Goatstown',\n",
              " 'Location_Grand Canal Dock',\n",
              " \"Location_Harold's Cross\",\n",
              " 'Location_Howth',\n",
              " 'Location_IFSC',\n",
              " 'Location_Inchicore',\n",
              " 'Location_Irishtown',\n",
              " 'Location_Islandbridge',\n",
              " 'Location_Killester',\n",
              " 'Location_Killiney',\n",
              " 'Location_Kilmacud',\n",
              " 'Location_Kilmainham',\n",
              " 'Location_Kilmore',\n",
              " 'Location_Kilnamanagh',\n",
              " 'Location_Kilternan',\n",
              " 'Location_Kimmage',\n",
              " 'Location_Kingswood',\n",
              " 'Location_Kinsealy',\n",
              " 'Location_Knocklyon',\n",
              " 'Location_Leopardstown',\n",
              " 'Location_Loughlinstown',\n",
              " 'Location_Loughshinny',\n",
              " 'Location_Lucan',\n",
              " 'Location_Lusk',\n",
              " 'Location_Malahide',\n",
              " 'Location_Marino',\n",
              " 'Location_Milltown',\n",
              " 'Location_Monkstown',\n",
              " 'Location_Mount Merrion',\n",
              " 'Location_Mulhuddart',\n",
              " 'Location_Naul',\n",
              " 'Location_Navan Road (D7)',\n",
              " 'Location_Newcastle',\n",
              " 'Location_North Circular Road',\n",
              " 'Location_North Strand',\n",
              " 'Location_Oldbawn',\n",
              " 'Location_Ongar',\n",
              " 'Location_Palmerstown',\n",
              " 'Location_Park West',\n",
              " 'Location_Perrystown',\n",
              " 'Location_Phibsborough',\n",
              " 'Location_Portmarnock',\n",
              " 'Location_Portobello',\n",
              " 'Location_Raheny',\n",
              " 'Location_Ranelagh',\n",
              " 'Location_Rathcoole',\n",
              " 'Location_Rathfarnham',\n",
              " 'Location_Rathgar',\n",
              " 'Location_Rathmichael',\n",
              " 'Location_Rathmines',\n",
              " 'Location_Rialto',\n",
              " 'Location_Ringsend',\n",
              " 'Location_Rush',\n",
              " 'Location_Saggart',\n",
              " 'Location_Sallynoggin',\n",
              " 'Location_Sandycove',\n",
              " 'Location_Sandyford',\n",
              " 'Location_Sandymount',\n",
              " 'Location_Santry',\n",
              " 'Location_Shankill',\n",
              " 'Location_Skerries',\n",
              " 'Location_Smithfield',\n",
              " 'Location_South Circular Road',\n",
              " 'Location_Stepaside',\n",
              " 'Location_Stoneybatter',\n",
              " 'Location_Sutton',\n",
              " 'Location_Swords',\n",
              " 'Location_Tallaght',\n",
              " 'Location_Temple Bar',\n",
              " 'Location_Templeogue',\n",
              " 'Location_Terenure',\n",
              " 'Location_The Coombe',\n",
              " 'Location_The Ward',\n",
              " 'Location_Tyrrelstown',\n",
              " 'Location_Walkinstown',\n",
              " 'Location_Whitehall',\n",
              " 'Location_Windy Arbour',\n",
              " 'BER_A1',\n",
              " 'BER_A2',\n",
              " 'BER_A3',\n",
              " 'BER_B1',\n",
              " 'BER_B2',\n",
              " 'BER_B3',\n",
              " 'BER_C1',\n",
              " 'BER_C2',\n",
              " 'BER_C3',\n",
              " 'BER_D1',\n",
              " 'BER_D2',\n",
              " 'BER_E1',\n",
              " 'BER_E2',\n",
              " 'BER_F',\n",
              " 'BER_G',\n",
              " 'BER_SINo666of2006exempt',\n",
              " 'Type_apartment',\n",
              " 'Type_bungalow',\n",
              " 'Type_detached',\n",
              " 'Type_duplex',\n",
              " 'Type_end-of-terrace',\n",
              " 'Type_semi-detached',\n",
              " 'Type_site',\n",
              " 'Type_studio',\n",
              " 'Type_terraced',\n",
              " 'Type_townhouse']"
            ]
          },
          "metadata": {},
          "execution_count": 637
        }
      ]
    },
    {
      "cell_type": "markdown",
      "metadata": {
        "id": "pWd20SwBWgDB"
      },
      "source": [
        "##3.2 Dealing with Textual Data"
      ]
    },
    {
      "cell_type": "code",
      "metadata": {
        "colab": {
          "base_uri": "https://localhost:8080/"
        },
        "id": "ZcD4pEQQWPFa",
        "outputId": "83e1ad69-7073-41c2-ba8c-5012dc8d8454"
      },
      "source": [
        "# Create new dataframe with just textual data variables\n",
        "df_text = X_train[[\"Description\",\"Services\",\"Features\"]]\n",
        "\n",
        "# Show first 6 rows \n",
        "df_text.head()"
      ],
      "execution_count": null,
      "outputs": [
        {
          "output_type": "execute_result",
          "data": {
            "text/html": [
              "<div>\n",
              "<style scoped>\n",
              "    .dataframe tbody tr th:only-of-type {\n",
              "        vertical-align: middle;\n",
              "    }\n",
              "\n",
              "    .dataframe tbody tr th {\n",
              "        vertical-align: top;\n",
              "    }\n",
              "\n",
              "    .dataframe thead th {\n",
              "        text-align: right;\n",
              "    }\n",
              "</style>\n",
              "<table border=\"1\" class=\"dataframe\">\n",
              "  <thead>\n",
              "    <tr style=\"text-align: right;\">\n",
              "      <th></th>\n",
              "      <th>Description</th>\n",
              "      <th>Services</th>\n",
              "      <th>Features</th>\n",
              "    </tr>\n",
              "  </thead>\n",
              "  <tbody>\n",
              "    <tr>\n",
              "      <th>0</th>\n",
              "      <td>DNG are delighted to present to the market no....</td>\n",
              "      <td>NaN</td>\n",
              "      <td>None</td>\n",
              "    </tr>\n",
              "    <tr>\n",
              "      <th>1</th>\n",
              "      <td>13 Northbrook Terrace is a charming red brick ...</td>\n",
              "      <td>NaN</td>\n",
              "      <td>Bight and Spacious interior\\nNumerous original...</td>\n",
              "    </tr>\n",
              "    <tr>\n",
              "      <th>2</th>\n",
              "      <td>Welcome to No. 6 Cotter Close, an immaculately...</td>\n",
              "      <td>NaN</td>\n",
              "      <td>Special Features\\nLarge rear garden\\nGenerous ...</td>\n",
              "    </tr>\n",
              "    <tr>\n",
              "      <th>3</th>\n",
              "      <td>Welcome to 3 Sycamore Walk!\\n\\r\\nEnjoying a pr...</td>\n",
              "      <td>NaN</td>\n",
              "      <td>Wonderful 3 bed detached bungalow.     \\nAccom...</td>\n",
              "    </tr>\n",
              "    <tr>\n",
              "      <th>4</th>\n",
              "      <td>'Four Seasons' comes to the market as a wonder...</td>\n",
              "      <td>NaN</td>\n",
              "      <td>Detached Property      \\nDouble Glazed Windows...</td>\n",
              "    </tr>\n",
              "  </tbody>\n",
              "</table>\n",
              "</div>"
            ],
            "text/plain": [
              "                                         Description  ...                                           Features\n",
              "0  DNG are delighted to present to the market no....  ...                                               None\n",
              "1  13 Northbrook Terrace is a charming red brick ...  ...  Bight and Spacious interior\\nNumerous original...\n",
              "2  Welcome to No. 6 Cotter Close, an immaculately...  ...  Special Features\\nLarge rear garden\\nGenerous ...\n",
              "3  Welcome to 3 Sycamore Walk!\\n\\r\\nEnjoying a pr...  ...  Wonderful 3 bed detached bungalow.     \\nAccom...\n",
              "4  'Four Seasons' comes to the market as a wonder...  ...  Detached Property      \\nDouble Glazed Windows...\n",
              "\n",
              "[5 rows x 3 columns]"
            ]
          },
          "metadata": {},
          "execution_count": 638
        }
      ]
    },
    {
      "cell_type": "code",
      "metadata": {
        "id": "VHXYmStIWPAe"
      },
      "source": [
        "#Create cleaning function\n",
        "def clean(row):\n",
        "    messy_data = str(row)\n",
        "\n",
        "    lowertext = messy_data.lower() \n",
        "    tokens = word_tokenize(lowertext) \n",
        "    df_stopwords=[word for word in tokens if word not in stop] \n",
        "    df_punctuation=[re.sub(r'['+string.punctuation+']+', ' ', i) for i in df_stopwords] \n",
        "    df_whitespace = ' '.join(df_punctuation) \n",
        "    lemmatizer = WordNetLemmatizer() \n",
        "    df_lemma = lemmatizer.lemmatize(df_whitespace) \n",
        "    df_lemma_tokenized = word_tokenize(df_lemma) \n",
        "    df_lemma_shortwords = [re.sub(r'^\\w\\w?$', '', i) for i in df_lemma_tokenized] \n",
        "    df_lemma_whitespace =' '.join(df_lemma_shortwords) \n",
        "    df_lemma_multiplewhitespace = re.sub(r'\\s\\s+', ' ', df_lemma_whitespace) \n",
        "    df_clean = df_lemma_multiplewhitespace.lstrip(' ') \n",
        "\n",
        "    return df_clean"
      ],
      "execution_count": null,
      "outputs": []
    },
    {
      "cell_type": "code",
      "metadata": {
        "id": "dqWMXJqZWO9s"
      },
      "source": [
        "# Apply cleaning to textual dataset\n",
        "df_text_clean = df_text.iloc[:,:].applymap(clean)"
      ],
      "execution_count": null,
      "outputs": []
    },
    {
      "cell_type": "code",
      "metadata": {
        "colab": {
          "base_uri": "https://localhost:8080/"
        },
        "id": "-vmJ4yMtWO7T",
        "outputId": "fc457483-03a8-4eb8-9a14-1df1a9ebbb23"
      },
      "source": [
        "# Show first 6 rows to examine changes\n",
        "df_text_clean.head()"
      ],
      "execution_count": null,
      "outputs": [
        {
          "output_type": "execute_result",
          "data": {
            "text/html": [
              "<div>\n",
              "<style scoped>\n",
              "    .dataframe tbody tr th:only-of-type {\n",
              "        vertical-align: middle;\n",
              "    }\n",
              "\n",
              "    .dataframe tbody tr th {\n",
              "        vertical-align: top;\n",
              "    }\n",
              "\n",
              "    .dataframe thead th {\n",
              "        text-align: right;\n",
              "    }\n",
              "</style>\n",
              "<table border=\"1\" class=\"dataframe\">\n",
              "  <thead>\n",
              "    <tr style=\"text-align: right;\">\n",
              "      <th></th>\n",
              "      <th>Description</th>\n",
              "      <th>Services</th>\n",
              "      <th>Features</th>\n",
              "    </tr>\n",
              "  </thead>\n",
              "  <tbody>\n",
              "    <tr>\n",
              "      <th>0</th>\n",
              "      <td>dng delighted present market chipping row two ...</td>\n",
              "      <td>nan</td>\n",
              "      <td>none</td>\n",
              "    </tr>\n",
              "    <tr>\n",
              "      <th>1</th>\n",
              "      <td>northbrook terrace charming red brick period h...</td>\n",
              "      <td>nan</td>\n",
              "      <td>bight spacious interior numerous original feat...</td>\n",
              "    </tr>\n",
              "    <tr>\n",
              "      <th>2</th>\n",
              "      <td>welcome cotter close immaculately presented th...</td>\n",
              "      <td>nan</td>\n",
              "      <td>special features large rear garden generous st...</td>\n",
              "    </tr>\n",
              "    <tr>\n",
              "      <th>3</th>\n",
              "      <td>welcome sycamore walk enjoying premier address...</td>\n",
              "      <td>nan</td>\n",
              "      <td>wonderful bed detached bungalow accommodation ...</td>\n",
              "    </tr>\n",
              "    <tr>\n",
              "      <th>4</th>\n",
              "      <td>four seasons comes market wonderful opportunit...</td>\n",
              "      <td>nan</td>\n",
              "      <td>detached property double glazed windows double...</td>\n",
              "    </tr>\n",
              "  </tbody>\n",
              "</table>\n",
              "</div>"
            ],
            "text/plain": [
              "                                         Description  ...                                           Features\n",
              "0  dng delighted present market chipping row two ...  ...                                               none\n",
              "1  northbrook terrace charming red brick period h...  ...  bight spacious interior numerous original feat...\n",
              "2  welcome cotter close immaculately presented th...  ...  special features large rear garden generous st...\n",
              "3  welcome sycamore walk enjoying premier address...  ...  wonderful bed detached bungalow accommodation ...\n",
              "4  four seasons comes market wonderful opportunit...  ...  detached property double glazed windows double...\n",
              "\n",
              "[5 rows x 3 columns]"
            ]
          },
          "metadata": {},
          "execution_count": 641
        }
      ]
    },
    {
      "cell_type": "markdown",
      "metadata": {
        "id": "cUHsSfITWOzc"
      },
      "source": [
        "##3.3 TfidfVectorizer"
      ]
    },
    {
      "cell_type": "code",
      "metadata": {
        "colab": {
          "base_uri": "https://localhost:8080/"
        },
        "id": "aUdKoPqJYvMp",
        "outputId": "88bc4e9c-e308-40cc-8127-dd7f6af8711d"
      },
      "source": [
        "# Use the vectorizer to change textual data to sparse matrices for regression\n",
        "vectorizer = TfidfVectorizer(stop_words='english', max_features= 300, max_df=0.5, smooth_idf=True)\n",
        "print(vectorizer)"
      ],
      "execution_count": null,
      "outputs": [
        {
          "output_type": "stream",
          "name": "stdout",
          "text": [
            "TfidfVectorizer(max_df=0.5, max_features=300, stop_words='english')\n"
          ]
        }
      ]
    },
    {
      "cell_type": "code",
      "metadata": {
        "colab": {
          "base_uri": "https://localhost:8080/"
        },
        "id": "dci1yPpeYvRj",
        "outputId": "bc4ca4ac-090e-4681-83e4-94bc48fc17b6"
      },
      "source": [
        "# First, vectorize X0 i.e., Description\n",
        "X0 = vectorizer.fit_transform(df_text_clean['Description'])\n",
        "X0.shape"
      ],
      "execution_count": null,
      "outputs": [
        {
          "output_type": "execute_result",
          "data": {
            "text/plain": [
              "(1632, 300)"
            ]
          },
          "metadata": {},
          "execution_count": 643
        }
      ]
    },
    {
      "cell_type": "code",
      "metadata": {
        "colab": {
          "base_uri": "https://localhost:8080/"
        },
        "id": "0AIukbpWYvPG",
        "outputId": "180abca0-75bb-4709-822b-a2bb27a652a9"
      },
      "source": [
        "# Second, vectorize X1 i.e., Services\n",
        "X1 = vectorizer.fit_transform(df_text_clean['Services'])\n",
        "X1.shape"
      ],
      "execution_count": null,
      "outputs": [
        {
          "output_type": "execute_result",
          "data": {
            "text/plain": [
              "(1632, 12)"
            ]
          },
          "metadata": {},
          "execution_count": 644
        }
      ]
    },
    {
      "cell_type": "code",
      "metadata": {
        "colab": {
          "base_uri": "https://localhost:8080/"
        },
        "id": "62y-Al-7Y_Uf",
        "outputId": "f49f626a-e353-4087-dc00-d91efa34e80a"
      },
      "source": [
        "# Lastly, vectorize X2 i.e., Features\n",
        "X2 = vectorizer.fit_transform(df_text_clean['Features'])\n",
        "X2.shape"
      ],
      "execution_count": null,
      "outputs": [
        {
          "output_type": "execute_result",
          "data": {
            "text/plain": [
              "(1632, 300)"
            ]
          },
          "metadata": {},
          "execution_count": 645
        }
      ]
    },
    {
      "cell_type": "code",
      "metadata": {
        "colab": {
          "base_uri": "https://localhost:8080/"
        },
        "id": "-m4fGVlZY_Sn",
        "outputId": "0ec352bb-d757-4a33-ed40-b2405cf0cd93"
      },
      "source": [
        "# Join all three vectorized variables into one matrix\n",
        "X_text = hstack((X0, X1, X2))\n",
        "X_text.shape"
      ],
      "execution_count": null,
      "outputs": [
        {
          "output_type": "execute_result",
          "data": {
            "text/plain": [
              "(1632, 612)"
            ]
          },
          "metadata": {},
          "execution_count": 646
        }
      ]
    },
    {
      "cell_type": "code",
      "metadata": {
        "colab": {
          "base_uri": "https://localhost:8080/"
        },
        "id": "ZwBW1Y51ZmyQ",
        "outputId": "fc652eb9-8fe9-4d77-f3da-d082d933f2d2"
      },
      "source": [
        "# Ensure independent variables' and target variable's shape matches\n",
        "Y_train = train_data[\"Price\"]\n",
        "Y_train.shape"
      ],
      "execution_count": null,
      "outputs": [
        {
          "output_type": "execute_result",
          "data": {
            "text/plain": [
              "(1632,)"
            ]
          },
          "metadata": {},
          "execution_count": 647
        }
      ]
    },
    {
      "cell_type": "markdown",
      "metadata": {
        "id": "lFf1AAO7ZLZ_"
      },
      "source": [
        "##3.4 Modelling"
      ]
    },
    {
      "cell_type": "code",
      "metadata": {
        "id": "d9bV_P-sY_QY"
      },
      "source": [
        "# Split the training set into a train and test set\n",
        "X_text_train, X_text_val, y_text_train, y_text_val = train_test_split(X_text, Y_train, test_size = 0.20, random_state=7)"
      ],
      "execution_count": null,
      "outputs": []
    },
    {
      "cell_type": "code",
      "metadata": {
        "colab": {
          "base_uri": "https://localhost:8080/"
        },
        "id": "S6uPALYdY_Cw",
        "outputId": "2f258b95-dda5-43b5-c46b-13d03bfd7774"
      },
      "source": [
        "# Multinomial Naive Bayes model for regression\n",
        "MNB = MultinomialNB()\n",
        "\n",
        "# fit to data\n",
        "MNB.fit(X_text_train, y_text_train)"
      ],
      "execution_count": null,
      "outputs": [
        {
          "output_type": "execute_result",
          "data": {
            "text/plain": [
              "MultinomialNB()"
            ]
          },
          "metadata": {},
          "execution_count": 649
        }
      ]
    },
    {
      "cell_type": "code",
      "metadata": {
        "colab": {
          "base_uri": "https://localhost:8080/"
        },
        "id": "fa_R4qwNZ4KA",
        "outputId": "da563a07-f07d-41b3-d2e9-eca88f3e5344"
      },
      "source": [
        "# Training accuracy\n",
        "y_text_train_pred = MNB.predict(X_text_train)\n",
        "accuracy_score(y_text_train, y_text_train_pred)"
      ],
      "execution_count": null,
      "outputs": [
        {
          "output_type": "execute_result",
          "data": {
            "text/plain": [
              "0.25440613026819925"
            ]
          },
          "metadata": {},
          "execution_count": 650
        }
      ]
    },
    {
      "cell_type": "code",
      "metadata": {
        "colab": {
          "base_uri": "https://localhost:8080/"
        },
        "id": "h3d3V-A9Z4Hw",
        "outputId": "3f5f7efd-80a4-4682-b44c-0108b9d8a147"
      },
      "source": [
        "# Validation accuracy\n",
        "y_text_val_pred = MNB.predict(X_text_val)\n",
        "accuracy_score(y_text_val, y_text_val_pred)"
      ],
      "execution_count": null,
      "outputs": [
        {
          "output_type": "execute_result",
          "data": {
            "text/plain": [
              "0.027522935779816515"
            ]
          },
          "metadata": {},
          "execution_count": 651
        }
      ]
    },
    {
      "cell_type": "markdown",
      "metadata": {
        "id": "dIiqtiCsZ9Yu"
      },
      "source": [
        "##3.5 Predictions on Test Data"
      ]
    },
    {
      "cell_type": "code",
      "metadata": {
        "id": "tyShu5sdZ4FO"
      },
      "source": [
        "# Assign textual test data variables to a dataframe\n",
        "df_text_test = test_data[[\"Description\",\"Services\",\"Features\"]]"
      ],
      "execution_count": null,
      "outputs": []
    },
    {
      "cell_type": "code",
      "metadata": {
        "id": "mbbtkiCbaBsY"
      },
      "source": [
        "# Apply cleaning to the dataset\n",
        "df_text_cleaned_test = df_text_test.applymap(clean)"
      ],
      "execution_count": null,
      "outputs": []
    },
    {
      "cell_type": "code",
      "metadata": {
        "id": "cS_hMwi4aBp3"
      },
      "source": [
        "# Vectorize test textual data variables \n",
        "X0_test = vectorizer.fit_transform(df_text_cleaned_test.iloc[:,0]) # Description\n",
        "X1_test = vectorizer.fit_transform(df_text_cleaned_test.iloc[:,1]) # Services\n",
        "X2_test = vectorizer.fit_transform(df_text_cleaned_test.iloc[:,2]) # Features"
      ],
      "execution_count": null,
      "outputs": []
    },
    {
      "cell_type": "code",
      "metadata": {
        "colab": {
          "base_uri": "https://localhost:8080/"
        },
        "id": "SdXFey2WaBm1",
        "outputId": "d82d8153-1d62-4713-8883-77a4eaae6377"
      },
      "source": [
        "# Join vectorized variables into one sparse matrix for regression\n",
        "X_text_test = hstack((X0_test, X1_test, X2_test))\n",
        "X_text_test.shape"
      ],
      "execution_count": null,
      "outputs": [
        {
          "output_type": "execute_result",
          "data": {
            "text/plain": [
              "(702, 612)"
            ]
          },
          "metadata": {},
          "execution_count": 655
        }
      ]
    },
    {
      "cell_type": "code",
      "metadata": {
        "id": "oBUWlpnCaBkW"
      },
      "source": [
        "# Predicted y-values for comparison (to find residuals)\n",
        "y_pred = MNB.predict(X_text_test)"
      ],
      "execution_count": null,
      "outputs": []
    },
    {
      "cell_type": "markdown",
      "metadata": {
        "id": "iYVH_MyUaRe2"
      },
      "source": [
        "##3.6 Save Predictions for Submission"
      ]
    },
    {
      "cell_type": "code",
      "metadata": {
        "id": "-5oKvvGeaW4e"
      },
      "source": [
        "# save predictions in a file\n",
        "df_id = pd.DataFrame(data=np.arange(1639,2341), columns = ['Index'])\n",
        "df_class = pd.DataFrame(data=y_pred, columns = ['Price'])\n",
        "df_pred = pd.concat([df_id, df_class], axis=1)\n",
        " \n",
        "# create and name the file for submission\n",
        "df_pred.to_csv('CS6501_Kaggle_Group10.csv', sep=',', index=False)"
      ],
      "execution_count": null,
      "outputs": []
    },
    {
      "cell_type": "markdown",
      "metadata": {
        "id": "FYW6ZoFqUpjx"
      },
      "source": [
        "#4. LSTM"
      ]
    },
    {
      "cell_type": "code",
      "metadata": {
        "colab": {
          "base_uri": "https://localhost:8080/",
          "height": 487
        },
        "id": "6CXM3lw2LVAx",
        "outputId": "51515b7a-c14f-47d1-d828-4ef2e9d279ed"
      },
      "source": [
        "#Viewing Training Data\n",
        "train_data.head()"
      ],
      "execution_count": null,
      "outputs": [
        {
          "output_type": "execute_result",
          "data": {
            "text/html": [
              "<div>\n",
              "<style scoped>\n",
              "    .dataframe tbody tr th:only-of-type {\n",
              "        vertical-align: middle;\n",
              "    }\n",
              "\n",
              "    .dataframe tbody tr th {\n",
              "        vertical-align: top;\n",
              "    }\n",
              "\n",
              "    .dataframe thead th {\n",
              "        text-align: right;\n",
              "    }\n",
              "</style>\n",
              "<table border=\"1\" class=\"dataframe\">\n",
              "  <thead>\n",
              "    <tr style=\"text-align: right;\">\n",
              "      <th></th>\n",
              "      <th>Index</th>\n",
              "      <th>ID</th>\n",
              "      <th>Location</th>\n",
              "      <th>Num_Bathrooms</th>\n",
              "      <th>Num_Beds</th>\n",
              "      <th>BER_class</th>\n",
              "      <th>Description</th>\n",
              "      <th>Services</th>\n",
              "      <th>Features</th>\n",
              "      <th>Latitude</th>\n",
              "      <th>Longitude</th>\n",
              "      <th>Type</th>\n",
              "      <th>Surface</th>\n",
              "      <th>Price</th>\n",
              "    </tr>\n",
              "  </thead>\n",
              "  <tbody>\n",
              "    <tr>\n",
              "      <th>0</th>\n",
              "      <td>1</td>\n",
              "      <td>12409116</td>\n",
              "      <td>Ongar</td>\n",
              "      <td>2</td>\n",
              "      <td>2</td>\n",
              "      <td>C3</td>\n",
              "      <td>DNG are delighted to present to the market no....</td>\n",
              "      <td>NaN</td>\n",
              "      <td>None</td>\n",
              "      <td>53.396659</td>\n",
              "      <td>-6.438791</td>\n",
              "      <td>apartment</td>\n",
              "      <td>67.00</td>\n",
              "      <td>195000</td>\n",
              "    </tr>\n",
              "    <tr>\n",
              "      <th>1</th>\n",
              "      <td>2</td>\n",
              "      <td>12320330</td>\n",
              "      <td>North Strand</td>\n",
              "      <td>1</td>\n",
              "      <td>2</td>\n",
              "      <td>D1</td>\n",
              "      <td>13 Northbrook Terrace is a charming red brick ...</td>\n",
              "      <td>NaN</td>\n",
              "      <td>Bight and Spacious interior\\nNumerous original...</td>\n",
              "      <td>53.357129</td>\n",
              "      <td>-6.239779</td>\n",
              "      <td>terraced</td>\n",
              "      <td>95.97</td>\n",
              "      <td>425000</td>\n",
              "    </tr>\n",
              "    <tr>\n",
              "      <th>2</th>\n",
              "      <td>3</td>\n",
              "      <td>12405953</td>\n",
              "      <td>Stepaside</td>\n",
              "      <td>3</td>\n",
              "      <td>3</td>\n",
              "      <td>A3</td>\n",
              "      <td>Welcome to No. 6 Cotter Close, an immaculately...</td>\n",
              "      <td>NaN</td>\n",
              "      <td>Special Features\\nLarge rear garden\\nGenerous ...</td>\n",
              "      <td>53.266468</td>\n",
              "      <td>-6.222771</td>\n",
              "      <td>semi-detached</td>\n",
              "      <td>107.00</td>\n",
              "      <td>535000</td>\n",
              "    </tr>\n",
              "    <tr>\n",
              "      <th>3</th>\n",
              "      <td>4</td>\n",
              "      <td>12202582</td>\n",
              "      <td>Cabinteely</td>\n",
              "      <td>1</td>\n",
              "      <td>3</td>\n",
              "      <td>E1</td>\n",
              "      <td>Welcome to 3 Sycamore Walk!\\n\\r\\nEnjoying a pr...</td>\n",
              "      <td>NaN</td>\n",
              "      <td>Wonderful 3 bed detached bungalow.     \\nAccom...</td>\n",
              "      <td>53.261600</td>\n",
              "      <td>-6.166738</td>\n",
              "      <td>detached</td>\n",
              "      <td>81.00</td>\n",
              "      <td>499000</td>\n",
              "    </tr>\n",
              "    <tr>\n",
              "      <th>4</th>\n",
              "      <td>5</td>\n",
              "      <td>12299336</td>\n",
              "      <td>Lusk</td>\n",
              "      <td>3</td>\n",
              "      <td>4</td>\n",
              "      <td>D1</td>\n",
              "      <td>'Four Seasons' comes to the market as a wonder...</td>\n",
              "      <td>NaN</td>\n",
              "      <td>Detached Property      \\nDouble Glazed Windows...</td>\n",
              "      <td>53.550731</td>\n",
              "      <td>-6.121415</td>\n",
              "      <td>detached</td>\n",
              "      <td>153.00</td>\n",
              "      <td>510000</td>\n",
              "    </tr>\n",
              "  </tbody>\n",
              "</table>\n",
              "</div>"
            ],
            "text/plain": [
              "   Index        ID      Location  ...           Type  Surface   Price\n",
              "0      1  12409116         Ongar  ...      apartment    67.00  195000\n",
              "1      2  12320330  North Strand  ...       terraced    95.97  425000\n",
              "2      3  12405953     Stepaside  ...  semi-detached   107.00  535000\n",
              "3      4  12202582    Cabinteely  ...       detached    81.00  499000\n",
              "4      5  12299336          Lusk  ...       detached   153.00  510000\n",
              "\n",
              "[5 rows x 14 columns]"
            ]
          },
          "metadata": {},
          "execution_count": 658
        }
      ]
    },
    {
      "cell_type": "code",
      "metadata": {
        "id": "lQ_8sPXNc_TA"
      },
      "source": [
        "#change title if needed\n",
        "train_data4_encoded = pd.get_dummies(train_data4, columns=[\"BER_class\", \"Type\"], prefix=[\"BER_class\", \"Type\"])"
      ],
      "execution_count": null,
      "outputs": []
    },
    {
      "cell_type": "code",
      "metadata": {
        "colab": {
          "base_uri": "https://localhost:8080/",
          "height": 521
        },
        "id": "jv14mpgvgXSF",
        "outputId": "f9d96cec-263f-40ca-d941-e1f02d4ec75c"
      },
      "source": [
        "train_data4_encoded.head()"
      ],
      "execution_count": null,
      "outputs": [
        {
          "output_type": "execute_result",
          "data": {
            "text/html": [
              "<div>\n",
              "<style scoped>\n",
              "    .dataframe tbody tr th:only-of-type {\n",
              "        vertical-align: middle;\n",
              "    }\n",
              "\n",
              "    .dataframe tbody tr th {\n",
              "        vertical-align: top;\n",
              "    }\n",
              "\n",
              "    .dataframe thead th {\n",
              "        text-align: right;\n",
              "    }\n",
              "</style>\n",
              "<table border=\"1\" class=\"dataframe\">\n",
              "  <thead>\n",
              "    <tr style=\"text-align: right;\">\n",
              "      <th></th>\n",
              "      <th>Index</th>\n",
              "      <th>ID</th>\n",
              "      <th>Num_Bathrooms</th>\n",
              "      <th>Num_Beds</th>\n",
              "      <th>Description</th>\n",
              "      <th>Services</th>\n",
              "      <th>Features</th>\n",
              "      <th>Latitude</th>\n",
              "      <th>Longitude</th>\n",
              "      <th>Surface</th>\n",
              "      <th>Price</th>\n",
              "      <th>BER_class_A1</th>\n",
              "      <th>BER_class_A2</th>\n",
              "      <th>BER_class_A3</th>\n",
              "      <th>BER_class_B1</th>\n",
              "      <th>BER_class_B2</th>\n",
              "      <th>BER_class_B3</th>\n",
              "      <th>BER_class_C1</th>\n",
              "      <th>BER_class_C2</th>\n",
              "      <th>BER_class_C3</th>\n",
              "      <th>BER_class_D1</th>\n",
              "      <th>BER_class_D2</th>\n",
              "      <th>BER_class_E1</th>\n",
              "      <th>BER_class_E2</th>\n",
              "      <th>BER_class_F</th>\n",
              "      <th>BER_class_G</th>\n",
              "      <th>BER_class_SINo666of2006exempt</th>\n",
              "      <th>Type_apartment</th>\n",
              "      <th>Type_bungalow</th>\n",
              "      <th>Type_detached</th>\n",
              "      <th>Type_duplex</th>\n",
              "      <th>Type_end-of-terrace</th>\n",
              "      <th>Type_semi-detached</th>\n",
              "      <th>Type_site</th>\n",
              "      <th>Type_studio</th>\n",
              "      <th>Type_terraced</th>\n",
              "      <th>Type_townhouse</th>\n",
              "    </tr>\n",
              "  </thead>\n",
              "  <tbody>\n",
              "    <tr>\n",
              "      <th>0</th>\n",
              "      <td>1</td>\n",
              "      <td>12409116</td>\n",
              "      <td>2</td>\n",
              "      <td>2</td>\n",
              "      <td>DNG are delighted to present to the market no....</td>\n",
              "      <td>NaN</td>\n",
              "      <td>None</td>\n",
              "      <td>53.396659</td>\n",
              "      <td>-6.438791</td>\n",
              "      <td>67.00</td>\n",
              "      <td>195000</td>\n",
              "      <td>0</td>\n",
              "      <td>0</td>\n",
              "      <td>0</td>\n",
              "      <td>0</td>\n",
              "      <td>0</td>\n",
              "      <td>0</td>\n",
              "      <td>0</td>\n",
              "      <td>0</td>\n",
              "      <td>1</td>\n",
              "      <td>0</td>\n",
              "      <td>0</td>\n",
              "      <td>0</td>\n",
              "      <td>0</td>\n",
              "      <td>0</td>\n",
              "      <td>0</td>\n",
              "      <td>0</td>\n",
              "      <td>1</td>\n",
              "      <td>0</td>\n",
              "      <td>0</td>\n",
              "      <td>0</td>\n",
              "      <td>0</td>\n",
              "      <td>0</td>\n",
              "      <td>0</td>\n",
              "      <td>0</td>\n",
              "      <td>0</td>\n",
              "      <td>0</td>\n",
              "    </tr>\n",
              "    <tr>\n",
              "      <th>1</th>\n",
              "      <td>2</td>\n",
              "      <td>12320330</td>\n",
              "      <td>1</td>\n",
              "      <td>2</td>\n",
              "      <td>13 Northbrook Terrace is a charming red brick ...</td>\n",
              "      <td>NaN</td>\n",
              "      <td>Bight and Spacious interior\\nNumerous original...</td>\n",
              "      <td>53.357129</td>\n",
              "      <td>-6.239779</td>\n",
              "      <td>95.97</td>\n",
              "      <td>425000</td>\n",
              "      <td>0</td>\n",
              "      <td>0</td>\n",
              "      <td>0</td>\n",
              "      <td>0</td>\n",
              "      <td>0</td>\n",
              "      <td>0</td>\n",
              "      <td>0</td>\n",
              "      <td>0</td>\n",
              "      <td>0</td>\n",
              "      <td>1</td>\n",
              "      <td>0</td>\n",
              "      <td>0</td>\n",
              "      <td>0</td>\n",
              "      <td>0</td>\n",
              "      <td>0</td>\n",
              "      <td>0</td>\n",
              "      <td>0</td>\n",
              "      <td>0</td>\n",
              "      <td>0</td>\n",
              "      <td>0</td>\n",
              "      <td>0</td>\n",
              "      <td>0</td>\n",
              "      <td>0</td>\n",
              "      <td>0</td>\n",
              "      <td>1</td>\n",
              "      <td>0</td>\n",
              "    </tr>\n",
              "    <tr>\n",
              "      <th>2</th>\n",
              "      <td>3</td>\n",
              "      <td>12405953</td>\n",
              "      <td>3</td>\n",
              "      <td>3</td>\n",
              "      <td>Welcome to No. 6 Cotter Close, an immaculately...</td>\n",
              "      <td>NaN</td>\n",
              "      <td>Special Features\\nLarge rear garden\\nGenerous ...</td>\n",
              "      <td>53.266468</td>\n",
              "      <td>-6.222771</td>\n",
              "      <td>107.00</td>\n",
              "      <td>535000</td>\n",
              "      <td>0</td>\n",
              "      <td>0</td>\n",
              "      <td>1</td>\n",
              "      <td>0</td>\n",
              "      <td>0</td>\n",
              "      <td>0</td>\n",
              "      <td>0</td>\n",
              "      <td>0</td>\n",
              "      <td>0</td>\n",
              "      <td>0</td>\n",
              "      <td>0</td>\n",
              "      <td>0</td>\n",
              "      <td>0</td>\n",
              "      <td>0</td>\n",
              "      <td>0</td>\n",
              "      <td>0</td>\n",
              "      <td>0</td>\n",
              "      <td>0</td>\n",
              "      <td>0</td>\n",
              "      <td>0</td>\n",
              "      <td>0</td>\n",
              "      <td>1</td>\n",
              "      <td>0</td>\n",
              "      <td>0</td>\n",
              "      <td>0</td>\n",
              "      <td>0</td>\n",
              "    </tr>\n",
              "    <tr>\n",
              "      <th>3</th>\n",
              "      <td>4</td>\n",
              "      <td>12202582</td>\n",
              "      <td>1</td>\n",
              "      <td>3</td>\n",
              "      <td>Welcome to 3 Sycamore Walk!\\n\\r\\nEnjoying a pr...</td>\n",
              "      <td>NaN</td>\n",
              "      <td>Wonderful 3 bed detached bungalow.     \\nAccom...</td>\n",
              "      <td>53.261600</td>\n",
              "      <td>-6.166738</td>\n",
              "      <td>81.00</td>\n",
              "      <td>499000</td>\n",
              "      <td>0</td>\n",
              "      <td>0</td>\n",
              "      <td>0</td>\n",
              "      <td>0</td>\n",
              "      <td>0</td>\n",
              "      <td>0</td>\n",
              "      <td>0</td>\n",
              "      <td>0</td>\n",
              "      <td>0</td>\n",
              "      <td>0</td>\n",
              "      <td>0</td>\n",
              "      <td>1</td>\n",
              "      <td>0</td>\n",
              "      <td>0</td>\n",
              "      <td>0</td>\n",
              "      <td>0</td>\n",
              "      <td>0</td>\n",
              "      <td>0</td>\n",
              "      <td>1</td>\n",
              "      <td>0</td>\n",
              "      <td>0</td>\n",
              "      <td>0</td>\n",
              "      <td>0</td>\n",
              "      <td>0</td>\n",
              "      <td>0</td>\n",
              "      <td>0</td>\n",
              "    </tr>\n",
              "    <tr>\n",
              "      <th>4</th>\n",
              "      <td>5</td>\n",
              "      <td>12299336</td>\n",
              "      <td>3</td>\n",
              "      <td>4</td>\n",
              "      <td>'Four Seasons' comes to the market as a wonder...</td>\n",
              "      <td>NaN</td>\n",
              "      <td>Detached Property      \\nDouble Glazed Windows...</td>\n",
              "      <td>53.550731</td>\n",
              "      <td>-6.121415</td>\n",
              "      <td>153.00</td>\n",
              "      <td>510000</td>\n",
              "      <td>0</td>\n",
              "      <td>0</td>\n",
              "      <td>0</td>\n",
              "      <td>0</td>\n",
              "      <td>0</td>\n",
              "      <td>0</td>\n",
              "      <td>0</td>\n",
              "      <td>0</td>\n",
              "      <td>0</td>\n",
              "      <td>1</td>\n",
              "      <td>0</td>\n",
              "      <td>0</td>\n",
              "      <td>0</td>\n",
              "      <td>0</td>\n",
              "      <td>0</td>\n",
              "      <td>0</td>\n",
              "      <td>0</td>\n",
              "      <td>0</td>\n",
              "      <td>1</td>\n",
              "      <td>0</td>\n",
              "      <td>0</td>\n",
              "      <td>0</td>\n",
              "      <td>0</td>\n",
              "      <td>0</td>\n",
              "      <td>0</td>\n",
              "      <td>0</td>\n",
              "    </tr>\n",
              "  </tbody>\n",
              "</table>\n",
              "</div>"
            ],
            "text/plain": [
              "   Index        ID  Num_Bathrooms  ...  Type_studio Type_terraced Type_townhouse\n",
              "0      1  12409116              2  ...            0             0              0\n",
              "1      2  12320330              1  ...            0             1              0\n",
              "2      3  12405953              3  ...            0             0              0\n",
              "3      4  12202582              1  ...            0             0              0\n",
              "4      5  12299336              3  ...            0             0              0\n",
              "\n",
              "[5 rows x 37 columns]"
            ]
          },
          "metadata": {},
          "execution_count": 660
        }
      ]
    },
    {
      "cell_type": "code",
      "metadata": {
        "id": "txN4RI4mNh5C"
      },
      "source": [
        "#Dropping float columns \n",
        "train4_unscaled = train_data4_encoded.drop([\"Index\", \"ID\", \"Description\", \"Services\", \"Features\"], axis=1)"
      ],
      "execution_count": null,
      "outputs": []
    },
    {
      "cell_type": "code",
      "metadata": {
        "colab": {
          "base_uri": "https://localhost:8080/",
          "height": 261
        },
        "id": "6wMyabRLoNeJ",
        "outputId": "84f348ba-39fc-480c-e78c-e2aaf8283d38"
      },
      "source": [
        "train4_unscaled.head()"
      ],
      "execution_count": null,
      "outputs": [
        {
          "output_type": "execute_result",
          "data": {
            "text/html": [
              "<div>\n",
              "<style scoped>\n",
              "    .dataframe tbody tr th:only-of-type {\n",
              "        vertical-align: middle;\n",
              "    }\n",
              "\n",
              "    .dataframe tbody tr th {\n",
              "        vertical-align: top;\n",
              "    }\n",
              "\n",
              "    .dataframe thead th {\n",
              "        text-align: right;\n",
              "    }\n",
              "</style>\n",
              "<table border=\"1\" class=\"dataframe\">\n",
              "  <thead>\n",
              "    <tr style=\"text-align: right;\">\n",
              "      <th></th>\n",
              "      <th>Num_Bathrooms</th>\n",
              "      <th>Num_Beds</th>\n",
              "      <th>Latitude</th>\n",
              "      <th>Longitude</th>\n",
              "      <th>Surface</th>\n",
              "      <th>Price</th>\n",
              "      <th>BER_class_A1</th>\n",
              "      <th>BER_class_A2</th>\n",
              "      <th>BER_class_A3</th>\n",
              "      <th>BER_class_B1</th>\n",
              "      <th>BER_class_B2</th>\n",
              "      <th>BER_class_B3</th>\n",
              "      <th>BER_class_C1</th>\n",
              "      <th>BER_class_C2</th>\n",
              "      <th>BER_class_C3</th>\n",
              "      <th>BER_class_D1</th>\n",
              "      <th>BER_class_D2</th>\n",
              "      <th>BER_class_E1</th>\n",
              "      <th>BER_class_E2</th>\n",
              "      <th>BER_class_F</th>\n",
              "      <th>BER_class_G</th>\n",
              "      <th>BER_class_SINo666of2006exempt</th>\n",
              "      <th>Type_apartment</th>\n",
              "      <th>Type_bungalow</th>\n",
              "      <th>Type_detached</th>\n",
              "      <th>Type_duplex</th>\n",
              "      <th>Type_end-of-terrace</th>\n",
              "      <th>Type_semi-detached</th>\n",
              "      <th>Type_site</th>\n",
              "      <th>Type_studio</th>\n",
              "      <th>Type_terraced</th>\n",
              "      <th>Type_townhouse</th>\n",
              "    </tr>\n",
              "  </thead>\n",
              "  <tbody>\n",
              "    <tr>\n",
              "      <th>0</th>\n",
              "      <td>2</td>\n",
              "      <td>2</td>\n",
              "      <td>53.396659</td>\n",
              "      <td>-6.438791</td>\n",
              "      <td>67.00</td>\n",
              "      <td>195000</td>\n",
              "      <td>0</td>\n",
              "      <td>0</td>\n",
              "      <td>0</td>\n",
              "      <td>0</td>\n",
              "      <td>0</td>\n",
              "      <td>0</td>\n",
              "      <td>0</td>\n",
              "      <td>0</td>\n",
              "      <td>1</td>\n",
              "      <td>0</td>\n",
              "      <td>0</td>\n",
              "      <td>0</td>\n",
              "      <td>0</td>\n",
              "      <td>0</td>\n",
              "      <td>0</td>\n",
              "      <td>0</td>\n",
              "      <td>1</td>\n",
              "      <td>0</td>\n",
              "      <td>0</td>\n",
              "      <td>0</td>\n",
              "      <td>0</td>\n",
              "      <td>0</td>\n",
              "      <td>0</td>\n",
              "      <td>0</td>\n",
              "      <td>0</td>\n",
              "      <td>0</td>\n",
              "    </tr>\n",
              "    <tr>\n",
              "      <th>1</th>\n",
              "      <td>1</td>\n",
              "      <td>2</td>\n",
              "      <td>53.357129</td>\n",
              "      <td>-6.239779</td>\n",
              "      <td>95.97</td>\n",
              "      <td>425000</td>\n",
              "      <td>0</td>\n",
              "      <td>0</td>\n",
              "      <td>0</td>\n",
              "      <td>0</td>\n",
              "      <td>0</td>\n",
              "      <td>0</td>\n",
              "      <td>0</td>\n",
              "      <td>0</td>\n",
              "      <td>0</td>\n",
              "      <td>1</td>\n",
              "      <td>0</td>\n",
              "      <td>0</td>\n",
              "      <td>0</td>\n",
              "      <td>0</td>\n",
              "      <td>0</td>\n",
              "      <td>0</td>\n",
              "      <td>0</td>\n",
              "      <td>0</td>\n",
              "      <td>0</td>\n",
              "      <td>0</td>\n",
              "      <td>0</td>\n",
              "      <td>0</td>\n",
              "      <td>0</td>\n",
              "      <td>0</td>\n",
              "      <td>1</td>\n",
              "      <td>0</td>\n",
              "    </tr>\n",
              "    <tr>\n",
              "      <th>2</th>\n",
              "      <td>3</td>\n",
              "      <td>3</td>\n",
              "      <td>53.266468</td>\n",
              "      <td>-6.222771</td>\n",
              "      <td>107.00</td>\n",
              "      <td>535000</td>\n",
              "      <td>0</td>\n",
              "      <td>0</td>\n",
              "      <td>1</td>\n",
              "      <td>0</td>\n",
              "      <td>0</td>\n",
              "      <td>0</td>\n",
              "      <td>0</td>\n",
              "      <td>0</td>\n",
              "      <td>0</td>\n",
              "      <td>0</td>\n",
              "      <td>0</td>\n",
              "      <td>0</td>\n",
              "      <td>0</td>\n",
              "      <td>0</td>\n",
              "      <td>0</td>\n",
              "      <td>0</td>\n",
              "      <td>0</td>\n",
              "      <td>0</td>\n",
              "      <td>0</td>\n",
              "      <td>0</td>\n",
              "      <td>0</td>\n",
              "      <td>1</td>\n",
              "      <td>0</td>\n",
              "      <td>0</td>\n",
              "      <td>0</td>\n",
              "      <td>0</td>\n",
              "    </tr>\n",
              "    <tr>\n",
              "      <th>3</th>\n",
              "      <td>1</td>\n",
              "      <td>3</td>\n",
              "      <td>53.261600</td>\n",
              "      <td>-6.166738</td>\n",
              "      <td>81.00</td>\n",
              "      <td>499000</td>\n",
              "      <td>0</td>\n",
              "      <td>0</td>\n",
              "      <td>0</td>\n",
              "      <td>0</td>\n",
              "      <td>0</td>\n",
              "      <td>0</td>\n",
              "      <td>0</td>\n",
              "      <td>0</td>\n",
              "      <td>0</td>\n",
              "      <td>0</td>\n",
              "      <td>0</td>\n",
              "      <td>1</td>\n",
              "      <td>0</td>\n",
              "      <td>0</td>\n",
              "      <td>0</td>\n",
              "      <td>0</td>\n",
              "      <td>0</td>\n",
              "      <td>0</td>\n",
              "      <td>1</td>\n",
              "      <td>0</td>\n",
              "      <td>0</td>\n",
              "      <td>0</td>\n",
              "      <td>0</td>\n",
              "      <td>0</td>\n",
              "      <td>0</td>\n",
              "      <td>0</td>\n",
              "    </tr>\n",
              "    <tr>\n",
              "      <th>4</th>\n",
              "      <td>3</td>\n",
              "      <td>4</td>\n",
              "      <td>53.550731</td>\n",
              "      <td>-6.121415</td>\n",
              "      <td>153.00</td>\n",
              "      <td>510000</td>\n",
              "      <td>0</td>\n",
              "      <td>0</td>\n",
              "      <td>0</td>\n",
              "      <td>0</td>\n",
              "      <td>0</td>\n",
              "      <td>0</td>\n",
              "      <td>0</td>\n",
              "      <td>0</td>\n",
              "      <td>0</td>\n",
              "      <td>1</td>\n",
              "      <td>0</td>\n",
              "      <td>0</td>\n",
              "      <td>0</td>\n",
              "      <td>0</td>\n",
              "      <td>0</td>\n",
              "      <td>0</td>\n",
              "      <td>0</td>\n",
              "      <td>0</td>\n",
              "      <td>1</td>\n",
              "      <td>0</td>\n",
              "      <td>0</td>\n",
              "      <td>0</td>\n",
              "      <td>0</td>\n",
              "      <td>0</td>\n",
              "      <td>0</td>\n",
              "      <td>0</td>\n",
              "    </tr>\n",
              "  </tbody>\n",
              "</table>\n",
              "</div>"
            ],
            "text/plain": [
              "   Num_Bathrooms  Num_Beds  ...  Type_terraced  Type_townhouse\n",
              "0              2         2  ...              0               0\n",
              "1              1         2  ...              1               0\n",
              "2              3         3  ...              0               0\n",
              "3              1         3  ...              0               0\n",
              "4              3         4  ...              0               0\n",
              "\n",
              "[5 rows x 32 columns]"
            ]
          },
          "metadata": {},
          "execution_count": 662
        }
      ]
    },
    {
      "cell_type": "code",
      "metadata": {
        "id": "QAlvUlrdsK4t"
      },
      "source": [
        "train4_scaled = train4_unscaled.copy()"
      ],
      "execution_count": null,
      "outputs": []
    },
    {
      "cell_type": "code",
      "metadata": {
        "id": "mfLgoD4yPkzo"
      },
      "source": [
        "#Scale the X Variables using Min-Max Scaler from 0 to 1\n",
        "min_max_scaler = MinMaxScaler()\n",
        "\n",
        "for column in train4_scaled.columns:\n",
        "    train4_scaled[column]=pd.DataFrame(min_max_scaler.fit_transform(train4_scaled[column].values.reshape(-1,1)))"
      ],
      "execution_count": null,
      "outputs": []
    },
    {
      "cell_type": "code",
      "metadata": {
        "id": "fKzdc6Q5L91s"
      },
      "source": [
        "#Convert the data into an array\n",
        "#dataset = train_num.values\n",
        "#dataset"
      ],
      "execution_count": null,
      "outputs": []
    },
    {
      "cell_type": "code",
      "metadata": {
        "id": "aiKR49c9s4I8"
      },
      "source": [
        "train4_scaled = train4_scaled.fillna(-1)"
      ],
      "execution_count": null,
      "outputs": []
    },
    {
      "cell_type": "code",
      "metadata": {
        "colab": {
          "base_uri": "https://localhost:8080/",
          "height": 261
        },
        "id": "BCTnBo41txnA",
        "outputId": "ab24a98e-957d-4413-b9ec-ac251a06c6bd"
      },
      "source": [
        "train4_scaled.head()"
      ],
      "execution_count": null,
      "outputs": [
        {
          "output_type": "execute_result",
          "data": {
            "text/html": [
              "<div>\n",
              "<style scoped>\n",
              "    .dataframe tbody tr th:only-of-type {\n",
              "        vertical-align: middle;\n",
              "    }\n",
              "\n",
              "    .dataframe tbody tr th {\n",
              "        vertical-align: top;\n",
              "    }\n",
              "\n",
              "    .dataframe thead th {\n",
              "        text-align: right;\n",
              "    }\n",
              "</style>\n",
              "<table border=\"1\" class=\"dataframe\">\n",
              "  <thead>\n",
              "    <tr style=\"text-align: right;\">\n",
              "      <th></th>\n",
              "      <th>Num_Bathrooms</th>\n",
              "      <th>Num_Beds</th>\n",
              "      <th>Latitude</th>\n",
              "      <th>Longitude</th>\n",
              "      <th>Surface</th>\n",
              "      <th>Price</th>\n",
              "      <th>BER_class_A1</th>\n",
              "      <th>BER_class_A2</th>\n",
              "      <th>BER_class_A3</th>\n",
              "      <th>BER_class_B1</th>\n",
              "      <th>BER_class_B2</th>\n",
              "      <th>BER_class_B3</th>\n",
              "      <th>BER_class_C1</th>\n",
              "      <th>BER_class_C2</th>\n",
              "      <th>BER_class_C3</th>\n",
              "      <th>BER_class_D1</th>\n",
              "      <th>BER_class_D2</th>\n",
              "      <th>BER_class_E1</th>\n",
              "      <th>BER_class_E2</th>\n",
              "      <th>BER_class_F</th>\n",
              "      <th>BER_class_G</th>\n",
              "      <th>BER_class_SINo666of2006exempt</th>\n",
              "      <th>Type_apartment</th>\n",
              "      <th>Type_bungalow</th>\n",
              "      <th>Type_detached</th>\n",
              "      <th>Type_duplex</th>\n",
              "      <th>Type_end-of-terrace</th>\n",
              "      <th>Type_semi-detached</th>\n",
              "      <th>Type_site</th>\n",
              "      <th>Type_studio</th>\n",
              "      <th>Type_terraced</th>\n",
              "      <th>Type_townhouse</th>\n",
              "    </tr>\n",
              "  </thead>\n",
              "  <tbody>\n",
              "    <tr>\n",
              "      <th>0</th>\n",
              "      <td>0.125</td>\n",
              "      <td>0.125</td>\n",
              "      <td>0.436597</td>\n",
              "      <td>0.131611</td>\n",
              "      <td>0.053374</td>\n",
              "      <td>0.019708</td>\n",
              "      <td>0.0</td>\n",
              "      <td>0.0</td>\n",
              "      <td>0.0</td>\n",
              "      <td>0.0</td>\n",
              "      <td>0.0</td>\n",
              "      <td>0.0</td>\n",
              "      <td>0.0</td>\n",
              "      <td>0.0</td>\n",
              "      <td>1.0</td>\n",
              "      <td>0.0</td>\n",
              "      <td>0.0</td>\n",
              "      <td>0.0</td>\n",
              "      <td>0.0</td>\n",
              "      <td>0.0</td>\n",
              "      <td>0.0</td>\n",
              "      <td>0.0</td>\n",
              "      <td>1.0</td>\n",
              "      <td>0.0</td>\n",
              "      <td>0.0</td>\n",
              "      <td>0.0</td>\n",
              "      <td>0.0</td>\n",
              "      <td>0.0</td>\n",
              "      <td>0.0</td>\n",
              "      <td>0.0</td>\n",
              "      <td>0.0</td>\n",
              "      <td>0.0</td>\n",
              "    </tr>\n",
              "    <tr>\n",
              "      <th>1</th>\n",
              "      <td>0.000</td>\n",
              "      <td>0.125</td>\n",
              "      <td>0.341391</td>\n",
              "      <td>0.581578</td>\n",
              "      <td>0.077685</td>\n",
              "      <td>0.045609</td>\n",
              "      <td>0.0</td>\n",
              "      <td>0.0</td>\n",
              "      <td>0.0</td>\n",
              "      <td>0.0</td>\n",
              "      <td>0.0</td>\n",
              "      <td>0.0</td>\n",
              "      <td>0.0</td>\n",
              "      <td>0.0</td>\n",
              "      <td>0.0</td>\n",
              "      <td>1.0</td>\n",
              "      <td>0.0</td>\n",
              "      <td>0.0</td>\n",
              "      <td>0.0</td>\n",
              "      <td>0.0</td>\n",
              "      <td>0.0</td>\n",
              "      <td>0.0</td>\n",
              "      <td>0.0</td>\n",
              "      <td>0.0</td>\n",
              "      <td>0.0</td>\n",
              "      <td>0.0</td>\n",
              "      <td>0.0</td>\n",
              "      <td>0.0</td>\n",
              "      <td>0.0</td>\n",
              "      <td>0.0</td>\n",
              "      <td>1.0</td>\n",
              "      <td>0.0</td>\n",
              "    </tr>\n",
              "    <tr>\n",
              "      <th>2</th>\n",
              "      <td>0.250</td>\n",
              "      <td>0.250</td>\n",
              "      <td>0.123040</td>\n",
              "      <td>0.620033</td>\n",
              "      <td>0.086942</td>\n",
              "      <td>0.057996</td>\n",
              "      <td>0.0</td>\n",
              "      <td>0.0</td>\n",
              "      <td>1.0</td>\n",
              "      <td>0.0</td>\n",
              "      <td>0.0</td>\n",
              "      <td>0.0</td>\n",
              "      <td>0.0</td>\n",
              "      <td>0.0</td>\n",
              "      <td>0.0</td>\n",
              "      <td>0.0</td>\n",
              "      <td>0.0</td>\n",
              "      <td>0.0</td>\n",
              "      <td>0.0</td>\n",
              "      <td>0.0</td>\n",
              "      <td>0.0</td>\n",
              "      <td>0.0</td>\n",
              "      <td>0.0</td>\n",
              "      <td>0.0</td>\n",
              "      <td>0.0</td>\n",
              "      <td>0.0</td>\n",
              "      <td>0.0</td>\n",
              "      <td>1.0</td>\n",
              "      <td>0.0</td>\n",
              "      <td>0.0</td>\n",
              "      <td>0.0</td>\n",
              "      <td>0.0</td>\n",
              "    </tr>\n",
              "    <tr>\n",
              "      <th>3</th>\n",
              "      <td>0.000</td>\n",
              "      <td>0.250</td>\n",
              "      <td>0.111316</td>\n",
              "      <td>0.746724</td>\n",
              "      <td>0.065123</td>\n",
              "      <td>0.053942</td>\n",
              "      <td>0.0</td>\n",
              "      <td>0.0</td>\n",
              "      <td>0.0</td>\n",
              "      <td>0.0</td>\n",
              "      <td>0.0</td>\n",
              "      <td>0.0</td>\n",
              "      <td>0.0</td>\n",
              "      <td>0.0</td>\n",
              "      <td>0.0</td>\n",
              "      <td>0.0</td>\n",
              "      <td>0.0</td>\n",
              "      <td>1.0</td>\n",
              "      <td>0.0</td>\n",
              "      <td>0.0</td>\n",
              "      <td>0.0</td>\n",
              "      <td>0.0</td>\n",
              "      <td>0.0</td>\n",
              "      <td>0.0</td>\n",
              "      <td>1.0</td>\n",
              "      <td>0.0</td>\n",
              "      <td>0.0</td>\n",
              "      <td>0.0</td>\n",
              "      <td>0.0</td>\n",
              "      <td>0.0</td>\n",
              "      <td>0.0</td>\n",
              "      <td>0.0</td>\n",
              "    </tr>\n",
              "    <tr>\n",
              "      <th>4</th>\n",
              "      <td>0.250</td>\n",
              "      <td>0.375</td>\n",
              "      <td>0.807669</td>\n",
              "      <td>0.849200</td>\n",
              "      <td>0.125545</td>\n",
              "      <td>0.055181</td>\n",
              "      <td>0.0</td>\n",
              "      <td>0.0</td>\n",
              "      <td>0.0</td>\n",
              "      <td>0.0</td>\n",
              "      <td>0.0</td>\n",
              "      <td>0.0</td>\n",
              "      <td>0.0</td>\n",
              "      <td>0.0</td>\n",
              "      <td>0.0</td>\n",
              "      <td>1.0</td>\n",
              "      <td>0.0</td>\n",
              "      <td>0.0</td>\n",
              "      <td>0.0</td>\n",
              "      <td>0.0</td>\n",
              "      <td>0.0</td>\n",
              "      <td>0.0</td>\n",
              "      <td>0.0</td>\n",
              "      <td>0.0</td>\n",
              "      <td>1.0</td>\n",
              "      <td>0.0</td>\n",
              "      <td>0.0</td>\n",
              "      <td>0.0</td>\n",
              "      <td>0.0</td>\n",
              "      <td>0.0</td>\n",
              "      <td>0.0</td>\n",
              "      <td>0.0</td>\n",
              "    </tr>\n",
              "  </tbody>\n",
              "</table>\n",
              "</div>"
            ],
            "text/plain": [
              "   Num_Bathrooms  Num_Beds  ...  Type_terraced  Type_townhouse\n",
              "0          0.125     0.125  ...            0.0             0.0\n",
              "1          0.000     0.125  ...            1.0             0.0\n",
              "2          0.250     0.250  ...            0.0             0.0\n",
              "3          0.000     0.250  ...            0.0             0.0\n",
              "4          0.250     0.375  ...            0.0             0.0\n",
              "\n",
              "[5 rows x 32 columns]"
            ]
          },
          "metadata": {},
          "execution_count": 667
        }
      ]
    },
    {
      "cell_type": "code",
      "metadata": {
        "id": "mTzUAdI1PSNH"
      },
      "source": [
        "#Splitting the dataset into independent and dependent variables\n",
        "X4 = train4_scaled.drop([\"Price\"], axis=1)\n",
        "Y4 = train4_scaled[\"Price\"]"
      ],
      "execution_count": null,
      "outputs": []
    },
    {
      "cell_type": "code",
      "metadata": {
        "id": "BxjYMYipmutz"
      },
      "source": [
        "#Removing two incompatable columns\n",
        "X4 = X4.drop([\"BER_class_A1\", \"Type_studio\"], axis=1)"
      ],
      "execution_count": null,
      "outputs": []
    },
    {
      "cell_type": "code",
      "metadata": {
        "colab": {
          "base_uri": "https://localhost:8080/"
        },
        "id": "C0XPDqt1lVch",
        "outputId": "2787b7d9-364b-48b4-b466-8bf0e649dbb2"
      },
      "source": [
        "print(X4.shape, Y4.shape)"
      ],
      "execution_count": null,
      "outputs": [
        {
          "output_type": "stream",
          "name": "stdout",
          "text": [
            "(1632, 29) (1632,)\n"
          ]
        }
      ]
    },
    {
      "cell_type": "code",
      "metadata": {
        "colab": {
          "base_uri": "https://localhost:8080/"
        },
        "id": "Ki-AEL_NlqM3",
        "outputId": "a1479c3d-5ae2-46b5-ed52-d318903a5c88"
      },
      "source": [
        "X4.columns.tolist()"
      ],
      "execution_count": null,
      "outputs": [
        {
          "output_type": "execute_result",
          "data": {
            "text/plain": [
              "['Num_Bathrooms',\n",
              " 'Num_Beds',\n",
              " 'Latitude',\n",
              " 'Longitude',\n",
              " 'Surface',\n",
              " 'BER_class_A2',\n",
              " 'BER_class_A3',\n",
              " 'BER_class_B1',\n",
              " 'BER_class_B2',\n",
              " 'BER_class_B3',\n",
              " 'BER_class_C1',\n",
              " 'BER_class_C2',\n",
              " 'BER_class_C3',\n",
              " 'BER_class_D1',\n",
              " 'BER_class_D2',\n",
              " 'BER_class_E1',\n",
              " 'BER_class_E2',\n",
              " 'BER_class_F',\n",
              " 'BER_class_G',\n",
              " 'BER_class_SINo666of2006exempt',\n",
              " 'Type_apartment',\n",
              " 'Type_bungalow',\n",
              " 'Type_detached',\n",
              " 'Type_duplex',\n",
              " 'Type_end-of-terrace',\n",
              " 'Type_semi-detached',\n",
              " 'Type_site',\n",
              " 'Type_terraced',\n",
              " 'Type_townhouse']"
            ]
          },
          "metadata": {},
          "execution_count": 671
        }
      ]
    },
    {
      "cell_type": "code",
      "metadata": {
        "colab": {
          "base_uri": "https://localhost:8080/"
        },
        "id": "T869QWifvXXc",
        "outputId": "f094577d-d86d-43f2-fdfe-461bef282897"
      },
      "source": [
        "X4_train, X4_val, Y4_train, Y4_val = train_test_split(X4, Y4, test_size=0.2)\n",
        "print(\"X Train:\", X4_train.shape, \"X Val:\", X4_val.shape, \n",
        "      \"\\ny Train:\", Y4_train.shape, \"y Val:\", Y4_val.shape)"
      ],
      "execution_count": null,
      "outputs": [
        {
          "output_type": "stream",
          "name": "stdout",
          "text": [
            "X Train: (1305, 29) X Val: (327, 29) \n",
            "y Train: (1305,) y Val: (327,)\n"
          ]
        }
      ]
    },
    {
      "cell_type": "code",
      "metadata": {
        "id": "_VyLiN5vv1o8"
      },
      "source": [
        "# define the regressor\n",
        "\n",
        "regressor = Sequential() # Sequential model\n",
        "\n",
        "num_units = 300 # Number of units per layer\n",
        "drop_value = 0.65 # Change to drop out connections\n",
        "\n",
        "# Add LSTM layer\n",
        "regressor.add(LSTM(units = num_units, \n",
        "                   return_sequences = True, \n",
        "                   input_shape = (X4_train.shape[1], 1)))\n",
        "\n",
        "# Add dropout layer\n",
        "regressor.add(Dropout(drop_value))\n",
        "\n",
        "regressor.add(LSTM(units = num_units, return_sequences = True))\n",
        "regressor.add(Dropout(drop_value))\n",
        "\n",
        "regressor.add(LSTM(units = num_units, return_sequences = True))\n",
        "regressor.add(Dropout(drop_value))\n",
        "\n",
        "regressor.add(LSTM(units = num_units))\n",
        "regressor.add(Dropout(drop_value))\n",
        "\n",
        "# Add dense layer for output predictions\n",
        "regressor.add(Dense(units = 1))"
      ],
      "execution_count": null,
      "outputs": []
    },
    {
      "cell_type": "code",
      "metadata": {
        "id": "Hm_vFtMBqfkX"
      },
      "source": [
        "regressor.compile(optimizer='adam', # Configures the model for training using \"Adam\" optimizer\n",
        "              loss='mean_squared_error', # Loss function\n",
        "              metrics=['accuracy']) # Performance metric"
      ],
      "execution_count": null,
      "outputs": []
    },
    {
      "cell_type": "code",
      "metadata": {
        "id": "oLqvSZa-v_oR"
      },
      "source": [
        "# Define callbacks\n",
        "checkpoint = ModelCheckpoint(\"checkpoints\", # Directory\n",
        "                             monitor='accuracy', # Performance metric to monitor\n",
        "                             verbose=1, # Print update messages\n",
        "                             save_best_only=True, # Save only best performing model\n",
        "                             save_weights_only=False, # Save only weights from model\n",
        "                             mode='max', # Criteria to replace saved model\n",
        "                             save_freq='epoch') # Frequency to save model\n",
        "\n",
        "earlystop = EarlyStopping(monitor='accuracy',\n",
        "                          min_delta=1e-4, # Minimum change in the monitored quantity\n",
        "                          patience=7, # Number of epochs with no improvement\n",
        "                          verbose=1,\n",
        "                          mode='max',\n",
        "                          baseline=None, # Baseline value for the monitored quantity\n",
        "                          restore_best_weights=True) # restore model weights from the epoch with the best value of the monitored quantity\n",
        "\n",
        "lrreduction = ReduceLROnPlateau(monitor='accuracy',\n",
        "                                factor=0.01, # new lr = lr * factor.\n",
        "                                patience = 4, # number of epochs with no improvement\n",
        "                                verbose=1,\n",
        "                                mode='max',\n",
        "                                min_delta=1e-4, # threshold for measuring the new optimum\n",
        "                                cooldown=0, # number of epochs to wait before resuming normal operation after lr has been reduced\n",
        "                                min_lr=1e-6) # lower bound on the learning rate\n",
        "\n",
        "callbacks = [checkpoint, earlystop, lrreduction]"
      ],
      "execution_count": null,
      "outputs": []
    },
    {
      "cell_type": "code",
      "metadata": {
        "id": "va9aD0MvqAKg",
        "colab": {
          "base_uri": "https://localhost:8080/",
          "height": 478
        },
        "outputId": "191f0c53-9a97-4127-fe28-f290f4ad6b3d"
      },
      "source": [
        "X4_train"
      ],
      "execution_count": null,
      "outputs": [
        {
          "output_type": "execute_result",
          "data": {
            "text/html": [
              "<div>\n",
              "<style scoped>\n",
              "    .dataframe tbody tr th:only-of-type {\n",
              "        vertical-align: middle;\n",
              "    }\n",
              "\n",
              "    .dataframe tbody tr th {\n",
              "        vertical-align: top;\n",
              "    }\n",
              "\n",
              "    .dataframe thead th {\n",
              "        text-align: right;\n",
              "    }\n",
              "</style>\n",
              "<table border=\"1\" class=\"dataframe\">\n",
              "  <thead>\n",
              "    <tr style=\"text-align: right;\">\n",
              "      <th></th>\n",
              "      <th>Num_Bathrooms</th>\n",
              "      <th>Num_Beds</th>\n",
              "      <th>Latitude</th>\n",
              "      <th>Longitude</th>\n",
              "      <th>Surface</th>\n",
              "      <th>BER_class_A2</th>\n",
              "      <th>BER_class_A3</th>\n",
              "      <th>BER_class_B1</th>\n",
              "      <th>BER_class_B2</th>\n",
              "      <th>BER_class_B3</th>\n",
              "      <th>BER_class_C1</th>\n",
              "      <th>BER_class_C2</th>\n",
              "      <th>BER_class_C3</th>\n",
              "      <th>BER_class_D1</th>\n",
              "      <th>BER_class_D2</th>\n",
              "      <th>BER_class_E1</th>\n",
              "      <th>BER_class_E2</th>\n",
              "      <th>BER_class_F</th>\n",
              "      <th>BER_class_G</th>\n",
              "      <th>BER_class_SINo666of2006exempt</th>\n",
              "      <th>Type_apartment</th>\n",
              "      <th>Type_bungalow</th>\n",
              "      <th>Type_detached</th>\n",
              "      <th>Type_duplex</th>\n",
              "      <th>Type_end-of-terrace</th>\n",
              "      <th>Type_semi-detached</th>\n",
              "      <th>Type_site</th>\n",
              "      <th>Type_terraced</th>\n",
              "      <th>Type_townhouse</th>\n",
              "    </tr>\n",
              "  </thead>\n",
              "  <tbody>\n",
              "    <tr>\n",
              "      <th>555</th>\n",
              "      <td>0.125</td>\n",
              "      <td>0.125</td>\n",
              "      <td>0.435761</td>\n",
              "      <td>0.148340</td>\n",
              "      <td>0.063444</td>\n",
              "      <td>0.0</td>\n",
              "      <td>0.0</td>\n",
              "      <td>0.0</td>\n",
              "      <td>0.0</td>\n",
              "      <td>0.0</td>\n",
              "      <td>1.0</td>\n",
              "      <td>0.0</td>\n",
              "      <td>0.0</td>\n",
              "      <td>0.0</td>\n",
              "      <td>0.0</td>\n",
              "      <td>0.0</td>\n",
              "      <td>0.0</td>\n",
              "      <td>0.0</td>\n",
              "      <td>0.0</td>\n",
              "      <td>0.0</td>\n",
              "      <td>0.0</td>\n",
              "      <td>0.0</td>\n",
              "      <td>0.0</td>\n",
              "      <td>0.0</td>\n",
              "      <td>0.0</td>\n",
              "      <td>0.0</td>\n",
              "      <td>0.0</td>\n",
              "      <td>1.0</td>\n",
              "      <td>0.0</td>\n",
              "    </tr>\n",
              "    <tr>\n",
              "      <th>4</th>\n",
              "      <td>0.250</td>\n",
              "      <td>0.375</td>\n",
              "      <td>0.807669</td>\n",
              "      <td>0.849200</td>\n",
              "      <td>0.125545</td>\n",
              "      <td>0.0</td>\n",
              "      <td>0.0</td>\n",
              "      <td>0.0</td>\n",
              "      <td>0.0</td>\n",
              "      <td>0.0</td>\n",
              "      <td>0.0</td>\n",
              "      <td>0.0</td>\n",
              "      <td>0.0</td>\n",
              "      <td>1.0</td>\n",
              "      <td>0.0</td>\n",
              "      <td>0.0</td>\n",
              "      <td>0.0</td>\n",
              "      <td>0.0</td>\n",
              "      <td>0.0</td>\n",
              "      <td>0.0</td>\n",
              "      <td>0.0</td>\n",
              "      <td>0.0</td>\n",
              "      <td>1.0</td>\n",
              "      <td>0.0</td>\n",
              "      <td>0.0</td>\n",
              "      <td>0.0</td>\n",
              "      <td>0.0</td>\n",
              "      <td>0.0</td>\n",
              "      <td>0.0</td>\n",
              "    </tr>\n",
              "    <tr>\n",
              "      <th>930</th>\n",
              "      <td>0.000</td>\n",
              "      <td>0.000</td>\n",
              "      <td>0.144892</td>\n",
              "      <td>0.910815</td>\n",
              "      <td>0.059416</td>\n",
              "      <td>0.0</td>\n",
              "      <td>0.0</td>\n",
              "      <td>0.0</td>\n",
              "      <td>0.0</td>\n",
              "      <td>0.0</td>\n",
              "      <td>0.0</td>\n",
              "      <td>0.0</td>\n",
              "      <td>0.0</td>\n",
              "      <td>0.0</td>\n",
              "      <td>1.0</td>\n",
              "      <td>0.0</td>\n",
              "      <td>0.0</td>\n",
              "      <td>0.0</td>\n",
              "      <td>0.0</td>\n",
              "      <td>0.0</td>\n",
              "      <td>1.0</td>\n",
              "      <td>0.0</td>\n",
              "      <td>0.0</td>\n",
              "      <td>0.0</td>\n",
              "      <td>0.0</td>\n",
              "      <td>0.0</td>\n",
              "      <td>0.0</td>\n",
              "      <td>0.0</td>\n",
              "      <td>0.0</td>\n",
              "    </tr>\n",
              "    <tr>\n",
              "      <th>936</th>\n",
              "      <td>0.375</td>\n",
              "      <td>0.375</td>\n",
              "      <td>0.382043</td>\n",
              "      <td>0.263785</td>\n",
              "      <td>0.175059</td>\n",
              "      <td>0.0</td>\n",
              "      <td>0.0</td>\n",
              "      <td>0.0</td>\n",
              "      <td>0.0</td>\n",
              "      <td>0.0</td>\n",
              "      <td>0.0</td>\n",
              "      <td>1.0</td>\n",
              "      <td>0.0</td>\n",
              "      <td>0.0</td>\n",
              "      <td>0.0</td>\n",
              "      <td>0.0</td>\n",
              "      <td>0.0</td>\n",
              "      <td>0.0</td>\n",
              "      <td>0.0</td>\n",
              "      <td>0.0</td>\n",
              "      <td>0.0</td>\n",
              "      <td>0.0</td>\n",
              "      <td>1.0</td>\n",
              "      <td>0.0</td>\n",
              "      <td>0.0</td>\n",
              "      <td>0.0</td>\n",
              "      <td>0.0</td>\n",
              "      <td>0.0</td>\n",
              "      <td>0.0</td>\n",
              "    </tr>\n",
              "    <tr>\n",
              "      <th>991</th>\n",
              "      <td>0.250</td>\n",
              "      <td>0.250</td>\n",
              "      <td>0.134786</td>\n",
              "      <td>0.686333</td>\n",
              "      <td>0.078969</td>\n",
              "      <td>0.0</td>\n",
              "      <td>0.0</td>\n",
              "      <td>0.0</td>\n",
              "      <td>0.0</td>\n",
              "      <td>0.0</td>\n",
              "      <td>0.0</td>\n",
              "      <td>0.0</td>\n",
              "      <td>0.0</td>\n",
              "      <td>1.0</td>\n",
              "      <td>0.0</td>\n",
              "      <td>0.0</td>\n",
              "      <td>0.0</td>\n",
              "      <td>0.0</td>\n",
              "      <td>0.0</td>\n",
              "      <td>0.0</td>\n",
              "      <td>0.0</td>\n",
              "      <td>0.0</td>\n",
              "      <td>0.0</td>\n",
              "      <td>0.0</td>\n",
              "      <td>0.0</td>\n",
              "      <td>0.0</td>\n",
              "      <td>0.0</td>\n",
              "      <td>1.0</td>\n",
              "      <td>0.0</td>\n",
              "    </tr>\n",
              "    <tr>\n",
              "      <th>...</th>\n",
              "      <td>...</td>\n",
              "      <td>...</td>\n",
              "      <td>...</td>\n",
              "      <td>...</td>\n",
              "      <td>...</td>\n",
              "      <td>...</td>\n",
              "      <td>...</td>\n",
              "      <td>...</td>\n",
              "      <td>...</td>\n",
              "      <td>...</td>\n",
              "      <td>...</td>\n",
              "      <td>...</td>\n",
              "      <td>...</td>\n",
              "      <td>...</td>\n",
              "      <td>...</td>\n",
              "      <td>...</td>\n",
              "      <td>...</td>\n",
              "      <td>...</td>\n",
              "      <td>...</td>\n",
              "      <td>...</td>\n",
              "      <td>...</td>\n",
              "      <td>...</td>\n",
              "      <td>...</td>\n",
              "      <td>...</td>\n",
              "      <td>...</td>\n",
              "      <td>...</td>\n",
              "      <td>...</td>\n",
              "      <td>...</td>\n",
              "      <td>...</td>\n",
              "    </tr>\n",
              "    <tr>\n",
              "      <th>685</th>\n",
              "      <td>0.125</td>\n",
              "      <td>0.250</td>\n",
              "      <td>0.176611</td>\n",
              "      <td>0.443110</td>\n",
              "      <td>0.080228</td>\n",
              "      <td>0.0</td>\n",
              "      <td>0.0</td>\n",
              "      <td>0.0</td>\n",
              "      <td>0.0</td>\n",
              "      <td>0.0</td>\n",
              "      <td>0.0</td>\n",
              "      <td>0.0</td>\n",
              "      <td>0.0</td>\n",
              "      <td>0.0</td>\n",
              "      <td>0.0</td>\n",
              "      <td>0.0</td>\n",
              "      <td>0.0</td>\n",
              "      <td>1.0</td>\n",
              "      <td>0.0</td>\n",
              "      <td>0.0</td>\n",
              "      <td>0.0</td>\n",
              "      <td>0.0</td>\n",
              "      <td>0.0</td>\n",
              "      <td>0.0</td>\n",
              "      <td>0.0</td>\n",
              "      <td>1.0</td>\n",
              "      <td>0.0</td>\n",
              "      <td>0.0</td>\n",
              "      <td>0.0</td>\n",
              "    </tr>\n",
              "    <tr>\n",
              "      <th>33</th>\n",
              "      <td>0.125</td>\n",
              "      <td>0.375</td>\n",
              "      <td>0.399873</td>\n",
              "      <td>0.560004</td>\n",
              "      <td>0.142330</td>\n",
              "      <td>0.0</td>\n",
              "      <td>0.0</td>\n",
              "      <td>0.0</td>\n",
              "      <td>0.0</td>\n",
              "      <td>0.0</td>\n",
              "      <td>0.0</td>\n",
              "      <td>0.0</td>\n",
              "      <td>1.0</td>\n",
              "      <td>0.0</td>\n",
              "      <td>0.0</td>\n",
              "      <td>0.0</td>\n",
              "      <td>0.0</td>\n",
              "      <td>0.0</td>\n",
              "      <td>0.0</td>\n",
              "      <td>0.0</td>\n",
              "      <td>0.0</td>\n",
              "      <td>0.0</td>\n",
              "      <td>0.0</td>\n",
              "      <td>0.0</td>\n",
              "      <td>0.0</td>\n",
              "      <td>1.0</td>\n",
              "      <td>0.0</td>\n",
              "      <td>0.0</td>\n",
              "      <td>0.0</td>\n",
              "    </tr>\n",
              "    <tr>\n",
              "      <th>141</th>\n",
              "      <td>0.250</td>\n",
              "      <td>0.375</td>\n",
              "      <td>0.215098</td>\n",
              "      <td>0.464110</td>\n",
              "      <td>0.164988</td>\n",
              "      <td>0.0</td>\n",
              "      <td>0.0</td>\n",
              "      <td>0.0</td>\n",
              "      <td>0.0</td>\n",
              "      <td>0.0</td>\n",
              "      <td>0.0</td>\n",
              "      <td>0.0</td>\n",
              "      <td>0.0</td>\n",
              "      <td>0.0</td>\n",
              "      <td>0.0</td>\n",
              "      <td>1.0</td>\n",
              "      <td>0.0</td>\n",
              "      <td>0.0</td>\n",
              "      <td>0.0</td>\n",
              "      <td>0.0</td>\n",
              "      <td>0.0</td>\n",
              "      <td>0.0</td>\n",
              "      <td>0.0</td>\n",
              "      <td>0.0</td>\n",
              "      <td>0.0</td>\n",
              "      <td>1.0</td>\n",
              "      <td>0.0</td>\n",
              "      <td>0.0</td>\n",
              "      <td>0.0</td>\n",
              "    </tr>\n",
              "    <tr>\n",
              "      <th>319</th>\n",
              "      <td>0.125</td>\n",
              "      <td>0.125</td>\n",
              "      <td>0.257368</td>\n",
              "      <td>0.378845</td>\n",
              "      <td>0.106244</td>\n",
              "      <td>0.0</td>\n",
              "      <td>0.0</td>\n",
              "      <td>0.0</td>\n",
              "      <td>0.0</td>\n",
              "      <td>0.0</td>\n",
              "      <td>0.0</td>\n",
              "      <td>0.0</td>\n",
              "      <td>0.0</td>\n",
              "      <td>0.0</td>\n",
              "      <td>0.0</td>\n",
              "      <td>0.0</td>\n",
              "      <td>1.0</td>\n",
              "      <td>0.0</td>\n",
              "      <td>0.0</td>\n",
              "      <td>0.0</td>\n",
              "      <td>0.0</td>\n",
              "      <td>1.0</td>\n",
              "      <td>0.0</td>\n",
              "      <td>0.0</td>\n",
              "      <td>0.0</td>\n",
              "      <td>0.0</td>\n",
              "      <td>0.0</td>\n",
              "      <td>0.0</td>\n",
              "      <td>0.0</td>\n",
              "    </tr>\n",
              "    <tr>\n",
              "      <th>977</th>\n",
              "      <td>0.125</td>\n",
              "      <td>0.250</td>\n",
              "      <td>0.290043</td>\n",
              "      <td>0.619008</td>\n",
              "      <td>0.049178</td>\n",
              "      <td>0.0</td>\n",
              "      <td>0.0</td>\n",
              "      <td>0.0</td>\n",
              "      <td>0.0</td>\n",
              "      <td>0.0</td>\n",
              "      <td>0.0</td>\n",
              "      <td>0.0</td>\n",
              "      <td>0.0</td>\n",
              "      <td>0.0</td>\n",
              "      <td>1.0</td>\n",
              "      <td>0.0</td>\n",
              "      <td>0.0</td>\n",
              "      <td>0.0</td>\n",
              "      <td>0.0</td>\n",
              "      <td>0.0</td>\n",
              "      <td>1.0</td>\n",
              "      <td>0.0</td>\n",
              "      <td>0.0</td>\n",
              "      <td>0.0</td>\n",
              "      <td>0.0</td>\n",
              "      <td>0.0</td>\n",
              "      <td>0.0</td>\n",
              "      <td>0.0</td>\n",
              "      <td>0.0</td>\n",
              "    </tr>\n",
              "  </tbody>\n",
              "</table>\n",
              "<p>1305 rows × 29 columns</p>\n",
              "</div>"
            ],
            "text/plain": [
              "     Num_Bathrooms  Num_Beds  ...  Type_terraced  Type_townhouse\n",
              "555          0.125     0.125  ...            1.0             0.0\n",
              "4            0.250     0.375  ...            0.0             0.0\n",
              "930          0.000     0.000  ...            0.0             0.0\n",
              "936          0.375     0.375  ...            0.0             0.0\n",
              "991          0.250     0.250  ...            1.0             0.0\n",
              "..             ...       ...  ...            ...             ...\n",
              "685          0.125     0.250  ...            0.0             0.0\n",
              "33           0.125     0.375  ...            0.0             0.0\n",
              "141          0.250     0.375  ...            0.0             0.0\n",
              "319          0.125     0.125  ...            0.0             0.0\n",
              "977          0.125     0.250  ...            0.0             0.0\n",
              "\n",
              "[1305 rows x 29 columns]"
            ]
          },
          "metadata": {},
          "execution_count": 676
        }
      ]
    },
    {
      "cell_type": "code",
      "metadata": {
        "colab": {
          "base_uri": "https://localhost:8080/",
          "height": 261
        },
        "id": "ji6owdYYbOxW",
        "outputId": "ae7a6eab-ec1a-496d-84de-6cf309bfd8de"
      },
      "source": [
        "X4_train.head()"
      ],
      "execution_count": null,
      "outputs": [
        {
          "output_type": "execute_result",
          "data": {
            "text/html": [
              "<div>\n",
              "<style scoped>\n",
              "    .dataframe tbody tr th:only-of-type {\n",
              "        vertical-align: middle;\n",
              "    }\n",
              "\n",
              "    .dataframe tbody tr th {\n",
              "        vertical-align: top;\n",
              "    }\n",
              "\n",
              "    .dataframe thead th {\n",
              "        text-align: right;\n",
              "    }\n",
              "</style>\n",
              "<table border=\"1\" class=\"dataframe\">\n",
              "  <thead>\n",
              "    <tr style=\"text-align: right;\">\n",
              "      <th></th>\n",
              "      <th>Num_Bathrooms</th>\n",
              "      <th>Num_Beds</th>\n",
              "      <th>Latitude</th>\n",
              "      <th>Longitude</th>\n",
              "      <th>Surface</th>\n",
              "      <th>BER_class_A2</th>\n",
              "      <th>BER_class_A3</th>\n",
              "      <th>BER_class_B1</th>\n",
              "      <th>BER_class_B2</th>\n",
              "      <th>BER_class_B3</th>\n",
              "      <th>BER_class_C1</th>\n",
              "      <th>BER_class_C2</th>\n",
              "      <th>BER_class_C3</th>\n",
              "      <th>BER_class_D1</th>\n",
              "      <th>BER_class_D2</th>\n",
              "      <th>BER_class_E1</th>\n",
              "      <th>BER_class_E2</th>\n",
              "      <th>BER_class_F</th>\n",
              "      <th>BER_class_G</th>\n",
              "      <th>BER_class_SINo666of2006exempt</th>\n",
              "      <th>Type_apartment</th>\n",
              "      <th>Type_bungalow</th>\n",
              "      <th>Type_detached</th>\n",
              "      <th>Type_duplex</th>\n",
              "      <th>Type_end-of-terrace</th>\n",
              "      <th>Type_semi-detached</th>\n",
              "      <th>Type_site</th>\n",
              "      <th>Type_terraced</th>\n",
              "      <th>Type_townhouse</th>\n",
              "    </tr>\n",
              "  </thead>\n",
              "  <tbody>\n",
              "    <tr>\n",
              "      <th>555</th>\n",
              "      <td>0.125</td>\n",
              "      <td>0.125</td>\n",
              "      <td>0.435761</td>\n",
              "      <td>0.148340</td>\n",
              "      <td>0.063444</td>\n",
              "      <td>0.0</td>\n",
              "      <td>0.0</td>\n",
              "      <td>0.0</td>\n",
              "      <td>0.0</td>\n",
              "      <td>0.0</td>\n",
              "      <td>1.0</td>\n",
              "      <td>0.0</td>\n",
              "      <td>0.0</td>\n",
              "      <td>0.0</td>\n",
              "      <td>0.0</td>\n",
              "      <td>0.0</td>\n",
              "      <td>0.0</td>\n",
              "      <td>0.0</td>\n",
              "      <td>0.0</td>\n",
              "      <td>0.0</td>\n",
              "      <td>0.0</td>\n",
              "      <td>0.0</td>\n",
              "      <td>0.0</td>\n",
              "      <td>0.0</td>\n",
              "      <td>0.0</td>\n",
              "      <td>0.0</td>\n",
              "      <td>0.0</td>\n",
              "      <td>1.0</td>\n",
              "      <td>0.0</td>\n",
              "    </tr>\n",
              "    <tr>\n",
              "      <th>4</th>\n",
              "      <td>0.250</td>\n",
              "      <td>0.375</td>\n",
              "      <td>0.807669</td>\n",
              "      <td>0.849200</td>\n",
              "      <td>0.125545</td>\n",
              "      <td>0.0</td>\n",
              "      <td>0.0</td>\n",
              "      <td>0.0</td>\n",
              "      <td>0.0</td>\n",
              "      <td>0.0</td>\n",
              "      <td>0.0</td>\n",
              "      <td>0.0</td>\n",
              "      <td>0.0</td>\n",
              "      <td>1.0</td>\n",
              "      <td>0.0</td>\n",
              "      <td>0.0</td>\n",
              "      <td>0.0</td>\n",
              "      <td>0.0</td>\n",
              "      <td>0.0</td>\n",
              "      <td>0.0</td>\n",
              "      <td>0.0</td>\n",
              "      <td>0.0</td>\n",
              "      <td>1.0</td>\n",
              "      <td>0.0</td>\n",
              "      <td>0.0</td>\n",
              "      <td>0.0</td>\n",
              "      <td>0.0</td>\n",
              "      <td>0.0</td>\n",
              "      <td>0.0</td>\n",
              "    </tr>\n",
              "    <tr>\n",
              "      <th>930</th>\n",
              "      <td>0.000</td>\n",
              "      <td>0.000</td>\n",
              "      <td>0.144892</td>\n",
              "      <td>0.910815</td>\n",
              "      <td>0.059416</td>\n",
              "      <td>0.0</td>\n",
              "      <td>0.0</td>\n",
              "      <td>0.0</td>\n",
              "      <td>0.0</td>\n",
              "      <td>0.0</td>\n",
              "      <td>0.0</td>\n",
              "      <td>0.0</td>\n",
              "      <td>0.0</td>\n",
              "      <td>0.0</td>\n",
              "      <td>1.0</td>\n",
              "      <td>0.0</td>\n",
              "      <td>0.0</td>\n",
              "      <td>0.0</td>\n",
              "      <td>0.0</td>\n",
              "      <td>0.0</td>\n",
              "      <td>1.0</td>\n",
              "      <td>0.0</td>\n",
              "      <td>0.0</td>\n",
              "      <td>0.0</td>\n",
              "      <td>0.0</td>\n",
              "      <td>0.0</td>\n",
              "      <td>0.0</td>\n",
              "      <td>0.0</td>\n",
              "      <td>0.0</td>\n",
              "    </tr>\n",
              "    <tr>\n",
              "      <th>936</th>\n",
              "      <td>0.375</td>\n",
              "      <td>0.375</td>\n",
              "      <td>0.382043</td>\n",
              "      <td>0.263785</td>\n",
              "      <td>0.175059</td>\n",
              "      <td>0.0</td>\n",
              "      <td>0.0</td>\n",
              "      <td>0.0</td>\n",
              "      <td>0.0</td>\n",
              "      <td>0.0</td>\n",
              "      <td>0.0</td>\n",
              "      <td>1.0</td>\n",
              "      <td>0.0</td>\n",
              "      <td>0.0</td>\n",
              "      <td>0.0</td>\n",
              "      <td>0.0</td>\n",
              "      <td>0.0</td>\n",
              "      <td>0.0</td>\n",
              "      <td>0.0</td>\n",
              "      <td>0.0</td>\n",
              "      <td>0.0</td>\n",
              "      <td>0.0</td>\n",
              "      <td>1.0</td>\n",
              "      <td>0.0</td>\n",
              "      <td>0.0</td>\n",
              "      <td>0.0</td>\n",
              "      <td>0.0</td>\n",
              "      <td>0.0</td>\n",
              "      <td>0.0</td>\n",
              "    </tr>\n",
              "    <tr>\n",
              "      <th>991</th>\n",
              "      <td>0.250</td>\n",
              "      <td>0.250</td>\n",
              "      <td>0.134786</td>\n",
              "      <td>0.686333</td>\n",
              "      <td>0.078969</td>\n",
              "      <td>0.0</td>\n",
              "      <td>0.0</td>\n",
              "      <td>0.0</td>\n",
              "      <td>0.0</td>\n",
              "      <td>0.0</td>\n",
              "      <td>0.0</td>\n",
              "      <td>0.0</td>\n",
              "      <td>0.0</td>\n",
              "      <td>1.0</td>\n",
              "      <td>0.0</td>\n",
              "      <td>0.0</td>\n",
              "      <td>0.0</td>\n",
              "      <td>0.0</td>\n",
              "      <td>0.0</td>\n",
              "      <td>0.0</td>\n",
              "      <td>0.0</td>\n",
              "      <td>0.0</td>\n",
              "      <td>0.0</td>\n",
              "      <td>0.0</td>\n",
              "      <td>0.0</td>\n",
              "      <td>0.0</td>\n",
              "      <td>0.0</td>\n",
              "      <td>1.0</td>\n",
              "      <td>0.0</td>\n",
              "    </tr>\n",
              "  </tbody>\n",
              "</table>\n",
              "</div>"
            ],
            "text/plain": [
              "     Num_Bathrooms  Num_Beds  ...  Type_terraced  Type_townhouse\n",
              "555          0.125     0.125  ...            1.0             0.0\n",
              "4            0.250     0.375  ...            0.0             0.0\n",
              "930          0.000     0.000  ...            0.0             0.0\n",
              "936          0.375     0.375  ...            0.0             0.0\n",
              "991          0.250     0.250  ...            1.0             0.0\n",
              "\n",
              "[5 rows x 29 columns]"
            ]
          },
          "metadata": {},
          "execution_count": 677
        }
      ]
    },
    {
      "cell_type": "code",
      "metadata": {
        "id": "8xmb3dgAygdT",
        "colab": {
          "base_uri": "https://localhost:8080/"
        },
        "outputId": "4334a740-0a2e-4c24-a7bb-8c5ba292161e"
      },
      "source": [
        "num_epochs = 128\n",
        "regressor.fit(X4_train, Y4_train, \n",
        "              epochs = num_epochs, \n",
        "              batch_size = 32,\n",
        "              callbacks = callbacks)"
      ],
      "execution_count": null,
      "outputs": [
        {
          "output_type": "stream",
          "name": "stdout",
          "text": [
            "Epoch 1/128\n",
            "41/41 [==============================] - ETA: 0s - loss: 0.0079 - accuracy: 7.6628e-04\n",
            "Epoch 00001: accuracy improved from -inf to 0.00077, saving model to checkpoints\n"
          ]
        },
        {
          "output_type": "stream",
          "name": "stderr",
          "text": [
            "WARNING:absl:Found untraced functions such as lstm_cell_68_layer_call_fn, lstm_cell_68_layer_call_and_return_conditional_losses, lstm_cell_69_layer_call_fn, lstm_cell_69_layer_call_and_return_conditional_losses, lstm_cell_70_layer_call_fn while saving (showing 5 of 20). These functions will not be directly callable after loading.\n"
          ]
        },
        {
          "output_type": "stream",
          "name": "stdout",
          "text": [
            "INFO:tensorflow:Assets written to: checkpoints/assets\n"
          ]
        },
        {
          "output_type": "stream",
          "name": "stderr",
          "text": [
            "INFO:tensorflow:Assets written to: checkpoints/assets\n",
            "WARNING:absl:<keras.layers.recurrent.LSTMCell object at 0x7ff7a24a57d0> has the same name 'LSTMCell' as a built-in Keras object. Consider renaming <class 'keras.layers.recurrent.LSTMCell'> to avoid naming conflicts when loading with `tf.keras.models.load_model`. If renaming is not possible, pass the object in the `custom_objects` parameter of the load function.\n",
            "WARNING:absl:<keras.layers.recurrent.LSTMCell object at 0x7ff7a36f8fd0> has the same name 'LSTMCell' as a built-in Keras object. Consider renaming <class 'keras.layers.recurrent.LSTMCell'> to avoid naming conflicts when loading with `tf.keras.models.load_model`. If renaming is not possible, pass the object in the `custom_objects` parameter of the load function.\n",
            "WARNING:absl:<keras.layers.recurrent.LSTMCell object at 0x7ff7a7b7f990> has the same name 'LSTMCell' as a built-in Keras object. Consider renaming <class 'keras.layers.recurrent.LSTMCell'> to avoid naming conflicts when loading with `tf.keras.models.load_model`. If renaming is not possible, pass the object in the `custom_objects` parameter of the load function.\n",
            "WARNING:absl:<keras.layers.recurrent.LSTMCell object at 0x7ff7a452f8d0> has the same name 'LSTMCell' as a built-in Keras object. Consider renaming <class 'keras.layers.recurrent.LSTMCell'> to avoid naming conflicts when loading with `tf.keras.models.load_model`. If renaming is not possible, pass the object in the `custom_objects` parameter of the load function.\n"
          ]
        },
        {
          "output_type": "stream",
          "name": "stdout",
          "text": [
            "41/41 [==============================] - 33s 642ms/step - loss: 0.0079 - accuracy: 7.6628e-04 - lr: 0.0010\n",
            "Epoch 2/128\n",
            "41/41 [==============================] - ETA: 0s - loss: 0.0077 - accuracy: 7.6628e-04\n",
            "Epoch 00002: accuracy did not improve from 0.00077\n",
            "41/41 [==============================] - 2s 54ms/step - loss: 0.0077 - accuracy: 7.6628e-04 - lr: 0.0010\n",
            "Epoch 3/128\n",
            "40/41 [============================>.] - ETA: 0s - loss: 0.0073 - accuracy: 7.8125e-04\n",
            "Epoch 00003: accuracy did not improve from 0.00077\n",
            "41/41 [==============================] - 2s 48ms/step - loss: 0.0073 - accuracy: 7.6628e-04 - lr: 0.0010\n",
            "Epoch 4/128\n",
            "41/41 [==============================] - ETA: 0s - loss: 0.0084 - accuracy: 7.6628e-04\n",
            "Epoch 00004: accuracy did not improve from 0.00077\n",
            "41/41 [==============================] - 2s 48ms/step - loss: 0.0084 - accuracy: 7.6628e-04 - lr: 0.0010\n",
            "Epoch 5/128\n",
            "41/41 [==============================] - ETA: 0s - loss: 0.0082 - accuracy: 7.6628e-04\n",
            "Epoch 00005: accuracy did not improve from 0.00077\n",
            "\n",
            "Epoch 00005: ReduceLROnPlateau reducing learning rate to 1.0000000474974514e-05.\n",
            "41/41 [==============================] - 2s 47ms/step - loss: 0.0082 - accuracy: 7.6628e-04 - lr: 0.0010\n",
            "Epoch 6/128\n",
            "40/41 [============================>.] - ETA: 0s - loss: 0.0065 - accuracy: 7.8125e-04\n",
            "Epoch 00006: accuracy did not improve from 0.00077\n",
            "41/41 [==============================] - 2s 48ms/step - loss: 0.0064 - accuracy: 7.6628e-04 - lr: 1.0000e-05\n",
            "Epoch 7/128\n",
            "41/41 [==============================] - ETA: 0s - loss: 0.0063 - accuracy: 7.6628e-04\n",
            "Epoch 00007: accuracy did not improve from 0.00077\n",
            "41/41 [==============================] - 2s 47ms/step - loss: 0.0063 - accuracy: 7.6628e-04 - lr: 1.0000e-05\n",
            "Epoch 8/128\n",
            "41/41 [==============================] - ETA: 0s - loss: 0.0055 - accuracy: 7.6628e-04\n",
            "Epoch 00008: accuracy did not improve from 0.00077\n",
            "Restoring model weights from the end of the best epoch: 1.\n",
            "41/41 [==============================] - 2s 48ms/step - loss: 0.0055 - accuracy: 7.6628e-04 - lr: 1.0000e-05\n",
            "Epoch 00008: early stopping\n"
          ]
        },
        {
          "output_type": "execute_result",
          "data": {
            "text/plain": [
              "<keras.callbacks.History at 0x7ff7accdae50>"
            ]
          },
          "metadata": {},
          "execution_count": 678
        }
      ]
    },
    {
      "cell_type": "code",
      "metadata": {
        "id": "gPWbtGBfPsxN"
      },
      "source": [
        "best_model = keras.models.load_model('checkpoints')"
      ],
      "execution_count": null,
      "outputs": []
    },
    {
      "cell_type": "code",
      "metadata": {
        "id": "YMW09gfUf24B"
      },
      "source": [
        "# Training set mean squared error (MSE)\n",
        "Y4_train_pred = best_model.predict(X4_train)"
      ],
      "execution_count": null,
      "outputs": []
    },
    {
      "cell_type": "code",
      "metadata": {
        "id": "vg37ziNAgukn"
      },
      "source": [
        "Y4_train_pred = min_max_scaler.inverse_transform(Y4_train_pred)"
      ],
      "execution_count": null,
      "outputs": []
    },
    {
      "cell_type": "code",
      "metadata": {
        "colab": {
          "base_uri": "https://localhost:8080/"
        },
        "id": "vZaas3YYT0Ia",
        "outputId": "3795f7da-8a1e-4e47-9c42-48eae6fa3b0b"
      },
      "source": [
        "print(\"Training Mean Squared Error:\")\n",
        "mean_squared_error(Y4_train, Y4_train_pred)"
      ],
      "execution_count": null,
      "outputs": [
        {
          "output_type": "stream",
          "name": "stdout",
          "text": [
            "Training Mean Squared Error:\n"
          ]
        },
        {
          "output_type": "execute_result",
          "data": {
            "text/plain": [
              "0.0064300146119172326"
            ]
          },
          "metadata": {},
          "execution_count": 682
        }
      ]
    },
    {
      "cell_type": "code",
      "metadata": {
        "id": "LnHJaqitg_4N"
      },
      "source": [
        "# Validation MSE\n",
        "Y4_val_pred = best_model.predict(X4_val)"
      ],
      "execution_count": null,
      "outputs": []
    },
    {
      "cell_type": "code",
      "metadata": {
        "id": "Lnoo5VuPgJa1"
      },
      "source": [
        "Y4_val_pred = min_max_scaler.inverse_transform(Y4_val_pred)"
      ],
      "execution_count": null,
      "outputs": []
    },
    {
      "cell_type": "code",
      "metadata": {
        "id": "Eu09e0SXgJXw",
        "colab": {
          "base_uri": "https://localhost:8080/"
        },
        "outputId": "46ad72bc-10e9-4e71-97cf-9d238aba8146"
      },
      "source": [
        "print(\"Validation Mean Squared Error:\")\n",
        "mean_squared_error(Y4_val, Y4_val_pred)"
      ],
      "execution_count": null,
      "outputs": [
        {
          "output_type": "stream",
          "name": "stdout",
          "text": [
            "Validation Mean Squared Error:\n"
          ]
        },
        {
          "output_type": "execute_result",
          "data": {
            "text/plain": [
              "0.0035049171820483232"
            ]
          },
          "metadata": {},
          "execution_count": 685
        }
      ]
    },
    {
      "cell_type": "code",
      "metadata": {
        "id": "pKHN1QbKpdWY"
      },
      "source": [
        "df_test4 = test_data4"
      ],
      "execution_count": null,
      "outputs": []
    },
    {
      "cell_type": "code",
      "metadata": {
        "id": "19XRkBaffP1J"
      },
      "source": [
        "df_numeric_test = df_test4[[\"Num_Bathrooms\",\"Num_Beds\",\"BER_class\",\"Latitude\",\"Longitude\",\"Type\",\"Surface\"]]"
      ],
      "execution_count": null,
      "outputs": []
    },
    {
      "cell_type": "code",
      "metadata": {
        "id": "egeBi7wczzBH"
      },
      "source": [
        "#Encoding Test Data\n",
        "encoded_test = pd.get_dummies(df_numeric_test, columns=[\"BER_class\", \"Type\"], prefix=[\"BER_class\", \"Type\"])"
      ],
      "execution_count": null,
      "outputs": []
    },
    {
      "cell_type": "code",
      "metadata": {
        "colab": {
          "base_uri": "https://localhost:8080/"
        },
        "id": "O9gtqVhAhcZ8",
        "outputId": "8194fbe8-974a-4c84-c408-015c6afed81d"
      },
      "source": [
        "train_data4_encoded.columns.tolist()"
      ],
      "execution_count": null,
      "outputs": [
        {
          "output_type": "execute_result",
          "data": {
            "text/plain": [
              "['Index',\n",
              " 'ID',\n",
              " 'Num_Bathrooms',\n",
              " 'Num_Beds',\n",
              " 'Description',\n",
              " 'Services',\n",
              " 'Features',\n",
              " 'Latitude',\n",
              " 'Longitude',\n",
              " 'Surface',\n",
              " 'Price',\n",
              " 'BER_class_A1',\n",
              " 'BER_class_A2',\n",
              " 'BER_class_A3',\n",
              " 'BER_class_B1',\n",
              " 'BER_class_B2',\n",
              " 'BER_class_B3',\n",
              " 'BER_class_C1',\n",
              " 'BER_class_C2',\n",
              " 'BER_class_C3',\n",
              " 'BER_class_D1',\n",
              " 'BER_class_D2',\n",
              " 'BER_class_E1',\n",
              " 'BER_class_E2',\n",
              " 'BER_class_F',\n",
              " 'BER_class_G',\n",
              " 'BER_class_SINo666of2006exempt',\n",
              " 'Type_apartment',\n",
              " 'Type_bungalow',\n",
              " 'Type_detached',\n",
              " 'Type_duplex',\n",
              " 'Type_end-of-terrace',\n",
              " 'Type_semi-detached',\n",
              " 'Type_site',\n",
              " 'Type_studio',\n",
              " 'Type_terraced',\n",
              " 'Type_townhouse']"
            ]
          },
          "metadata": {},
          "execution_count": 689
        }
      ]
    },
    {
      "cell_type": "code",
      "metadata": {
        "id": "ipLitw9IYkIT",
        "colab": {
          "base_uri": "https://localhost:8080/"
        },
        "outputId": "5e1bbcd8-365d-4f75-ffda-2d14218511d4"
      },
      "source": [
        "encoded_test.info()"
      ],
      "execution_count": null,
      "outputs": [
        {
          "output_type": "stream",
          "name": "stdout",
          "text": [
            "<class 'pandas.core.frame.DataFrame'>\n",
            "RangeIndex: 702 entries, 0 to 701\n",
            "Data columns (total 29 columns):\n",
            " #   Column                         Non-Null Count  Dtype  \n",
            "---  ------                         --------------  -----  \n",
            " 0   Num_Bathrooms                  702 non-null    int64  \n",
            " 1   Num_Beds                       702 non-null    int64  \n",
            " 2   Latitude                       702 non-null    float64\n",
            " 3   Longitude                      702 non-null    float64\n",
            " 4   Surface                        702 non-null    float64\n",
            " 5   BER_class_A2                   702 non-null    uint8  \n",
            " 6   BER_class_A3                   702 non-null    uint8  \n",
            " 7   BER_class_B1                   702 non-null    uint8  \n",
            " 8   BER_class_B2                   702 non-null    uint8  \n",
            " 9   BER_class_B3                   702 non-null    uint8  \n",
            " 10  BER_class_C1                   702 non-null    uint8  \n",
            " 11  BER_class_C2                   702 non-null    uint8  \n",
            " 12  BER_class_C3                   702 non-null    uint8  \n",
            " 13  BER_class_D1                   702 non-null    uint8  \n",
            " 14  BER_class_D2                   702 non-null    uint8  \n",
            " 15  BER_class_E1                   702 non-null    uint8  \n",
            " 16  BER_class_E2                   702 non-null    uint8  \n",
            " 17  BER_class_F                    702 non-null    uint8  \n",
            " 18  BER_class_G                    702 non-null    uint8  \n",
            " 19  BER_class_SINo666of2006exempt  702 non-null    uint8  \n",
            " 20  Type_apartment                 702 non-null    uint8  \n",
            " 21  Type_bungalow                  702 non-null    uint8  \n",
            " 22  Type_detached                  702 non-null    uint8  \n",
            " 23  Type_duplex                    702 non-null    uint8  \n",
            " 24  Type_end-of-terrace            702 non-null    uint8  \n",
            " 25  Type_semi-detached             702 non-null    uint8  \n",
            " 26  Type_site                      702 non-null    uint8  \n",
            " 27  Type_terraced                  702 non-null    uint8  \n",
            " 28  Type_townhouse                 702 non-null    uint8  \n",
            "dtypes: float64(3), int64(2), uint8(24)\n",
            "memory usage: 44.0 KB\n"
          ]
        }
      ]
    },
    {
      "cell_type": "code",
      "metadata": {
        "id": "QNsFvU6CparR"
      },
      "source": [
        "X4_numeric_test = encoded_test"
      ],
      "execution_count": null,
      "outputs": []
    },
    {
      "cell_type": "code",
      "metadata": {
        "id": "vJ_U1vcQ0Po-"
      },
      "source": [
        "scaler = MinMaxScaler() # Initialize scaler \n",
        "for column in X4_numeric_test.columns:\n",
        "    X4_numeric_test[column]=pd.DataFrame(scaler.fit_transform(X4_numeric_test[column].values.reshape(-1,1))) # Apply scaler"
      ],
      "execution_count": null,
      "outputs": []
    },
    {
      "cell_type": "code",
      "metadata": {
        "colab": {
          "base_uri": "https://localhost:8080/"
        },
        "id": "sJIWyLQZEVQO",
        "outputId": "31d79210-b720-4d1c-c2e7-4ce3f82e7a32"
      },
      "source": [
        "print(X4_train)"
      ],
      "execution_count": null,
      "outputs": [
        {
          "output_type": "stream",
          "name": "stdout",
          "text": [
            "     Num_Bathrooms  Num_Beds  ...  Type_terraced  Type_townhouse\n",
            "555          0.125     0.125  ...            1.0             0.0\n",
            "4            0.250     0.375  ...            0.0             0.0\n",
            "930          0.000     0.000  ...            0.0             0.0\n",
            "936          0.375     0.375  ...            0.0             0.0\n",
            "991          0.250     0.250  ...            1.0             0.0\n",
            "..             ...       ...  ...            ...             ...\n",
            "685          0.125     0.250  ...            0.0             0.0\n",
            "33           0.125     0.375  ...            0.0             0.0\n",
            "141          0.250     0.375  ...            0.0             0.0\n",
            "319          0.125     0.125  ...            0.0             0.0\n",
            "977          0.125     0.250  ...            0.0             0.0\n",
            "\n",
            "[1305 rows x 29 columns]\n"
          ]
        }
      ]
    },
    {
      "cell_type": "code",
      "metadata": {
        "colab": {
          "base_uri": "https://localhost:8080/",
          "height": 261
        },
        "id": "mCsUnSRWlV9s",
        "outputId": "73648165-659b-4061-9790-0f49e75ecacd"
      },
      "source": [
        "X4_numeric_test.head()"
      ],
      "execution_count": null,
      "outputs": [
        {
          "output_type": "execute_result",
          "data": {
            "text/html": [
              "<div>\n",
              "<style scoped>\n",
              "    .dataframe tbody tr th:only-of-type {\n",
              "        vertical-align: middle;\n",
              "    }\n",
              "\n",
              "    .dataframe tbody tr th {\n",
              "        vertical-align: top;\n",
              "    }\n",
              "\n",
              "    .dataframe thead th {\n",
              "        text-align: right;\n",
              "    }\n",
              "</style>\n",
              "<table border=\"1\" class=\"dataframe\">\n",
              "  <thead>\n",
              "    <tr style=\"text-align: right;\">\n",
              "      <th></th>\n",
              "      <th>Num_Bathrooms</th>\n",
              "      <th>Num_Beds</th>\n",
              "      <th>Latitude</th>\n",
              "      <th>Longitude</th>\n",
              "      <th>Surface</th>\n",
              "      <th>BER_class_A2</th>\n",
              "      <th>BER_class_A3</th>\n",
              "      <th>BER_class_B1</th>\n",
              "      <th>BER_class_B2</th>\n",
              "      <th>BER_class_B3</th>\n",
              "      <th>BER_class_C1</th>\n",
              "      <th>BER_class_C2</th>\n",
              "      <th>BER_class_C3</th>\n",
              "      <th>BER_class_D1</th>\n",
              "      <th>BER_class_D2</th>\n",
              "      <th>BER_class_E1</th>\n",
              "      <th>BER_class_E2</th>\n",
              "      <th>BER_class_F</th>\n",
              "      <th>BER_class_G</th>\n",
              "      <th>BER_class_SINo666of2006exempt</th>\n",
              "      <th>Type_apartment</th>\n",
              "      <th>Type_bungalow</th>\n",
              "      <th>Type_detached</th>\n",
              "      <th>Type_duplex</th>\n",
              "      <th>Type_end-of-terrace</th>\n",
              "      <th>Type_semi-detached</th>\n",
              "      <th>Type_site</th>\n",
              "      <th>Type_terraced</th>\n",
              "      <th>Type_townhouse</th>\n",
              "    </tr>\n",
              "  </thead>\n",
              "  <tbody>\n",
              "    <tr>\n",
              "      <th>0</th>\n",
              "      <td>0.125</td>\n",
              "      <td>0.076923</td>\n",
              "      <td>0.253070</td>\n",
              "      <td>0.598647</td>\n",
              "      <td>0.003851</td>\n",
              "      <td>0.0</td>\n",
              "      <td>0.0</td>\n",
              "      <td>0.0</td>\n",
              "      <td>0.0</td>\n",
              "      <td>0.0</td>\n",
              "      <td>0.0</td>\n",
              "      <td>1.0</td>\n",
              "      <td>0.0</td>\n",
              "      <td>0.0</td>\n",
              "      <td>0.0</td>\n",
              "      <td>0.0</td>\n",
              "      <td>0.0</td>\n",
              "      <td>0.0</td>\n",
              "      <td>0.0</td>\n",
              "      <td>0.0</td>\n",
              "      <td>0.0</td>\n",
              "      <td>0.0</td>\n",
              "      <td>0.0</td>\n",
              "      <td>0.0</td>\n",
              "      <td>0.0</td>\n",
              "      <td>0.0</td>\n",
              "      <td>0.0</td>\n",
              "      <td>0.0</td>\n",
              "      <td>1.0</td>\n",
              "    </tr>\n",
              "    <tr>\n",
              "      <th>1</th>\n",
              "      <td>0.125</td>\n",
              "      <td>0.307692</td>\n",
              "      <td>0.437835</td>\n",
              "      <td>0.515582</td>\n",
              "      <td>0.012863</td>\n",
              "      <td>0.0</td>\n",
              "      <td>0.0</td>\n",
              "      <td>0.0</td>\n",
              "      <td>0.0</td>\n",
              "      <td>0.0</td>\n",
              "      <td>0.0</td>\n",
              "      <td>0.0</td>\n",
              "      <td>0.0</td>\n",
              "      <td>0.0</td>\n",
              "      <td>0.0</td>\n",
              "      <td>1.0</td>\n",
              "      <td>0.0</td>\n",
              "      <td>0.0</td>\n",
              "      <td>0.0</td>\n",
              "      <td>0.0</td>\n",
              "      <td>0.0</td>\n",
              "      <td>0.0</td>\n",
              "      <td>0.0</td>\n",
              "      <td>0.0</td>\n",
              "      <td>0.0</td>\n",
              "      <td>1.0</td>\n",
              "      <td>0.0</td>\n",
              "      <td>0.0</td>\n",
              "      <td>0.0</td>\n",
              "    </tr>\n",
              "    <tr>\n",
              "      <th>2</th>\n",
              "      <td>0.000</td>\n",
              "      <td>0.076923</td>\n",
              "      <td>0.144486</td>\n",
              "      <td>0.888963</td>\n",
              "      <td>0.005606</td>\n",
              "      <td>0.0</td>\n",
              "      <td>0.0</td>\n",
              "      <td>0.0</td>\n",
              "      <td>0.0</td>\n",
              "      <td>0.0</td>\n",
              "      <td>0.0</td>\n",
              "      <td>0.0</td>\n",
              "      <td>0.0</td>\n",
              "      <td>0.0</td>\n",
              "      <td>0.0</td>\n",
              "      <td>0.0</td>\n",
              "      <td>0.0</td>\n",
              "      <td>0.0</td>\n",
              "      <td>1.0</td>\n",
              "      <td>0.0</td>\n",
              "      <td>0.0</td>\n",
              "      <td>0.0</td>\n",
              "      <td>1.0</td>\n",
              "      <td>0.0</td>\n",
              "      <td>0.0</td>\n",
              "      <td>0.0</td>\n",
              "      <td>0.0</td>\n",
              "      <td>0.0</td>\n",
              "      <td>0.0</td>\n",
              "    </tr>\n",
              "    <tr>\n",
              "      <th>3</th>\n",
              "      <td>0.375</td>\n",
              "      <td>0.230769</td>\n",
              "      <td>0.403518</td>\n",
              "      <td>0.723761</td>\n",
              "      <td>0.020705</td>\n",
              "      <td>1.0</td>\n",
              "      <td>0.0</td>\n",
              "      <td>0.0</td>\n",
              "      <td>0.0</td>\n",
              "      <td>0.0</td>\n",
              "      <td>0.0</td>\n",
              "      <td>0.0</td>\n",
              "      <td>0.0</td>\n",
              "      <td>0.0</td>\n",
              "      <td>0.0</td>\n",
              "      <td>0.0</td>\n",
              "      <td>0.0</td>\n",
              "      <td>0.0</td>\n",
              "      <td>0.0</td>\n",
              "      <td>0.0</td>\n",
              "      <td>0.0</td>\n",
              "      <td>0.0</td>\n",
              "      <td>1.0</td>\n",
              "      <td>0.0</td>\n",
              "      <td>0.0</td>\n",
              "      <td>0.0</td>\n",
              "      <td>0.0</td>\n",
              "      <td>0.0</td>\n",
              "      <td>0.0</td>\n",
              "    </tr>\n",
              "    <tr>\n",
              "      <th>4</th>\n",
              "      <td>0.125</td>\n",
              "      <td>0.153846</td>\n",
              "      <td>0.280200</td>\n",
              "      <td>0.457392</td>\n",
              "      <td>0.008884</td>\n",
              "      <td>0.0</td>\n",
              "      <td>0.0</td>\n",
              "      <td>0.0</td>\n",
              "      <td>0.0</td>\n",
              "      <td>0.0</td>\n",
              "      <td>0.0</td>\n",
              "      <td>0.0</td>\n",
              "      <td>0.0</td>\n",
              "      <td>0.0</td>\n",
              "      <td>0.0</td>\n",
              "      <td>0.0</td>\n",
              "      <td>0.0</td>\n",
              "      <td>1.0</td>\n",
              "      <td>0.0</td>\n",
              "      <td>0.0</td>\n",
              "      <td>0.0</td>\n",
              "      <td>0.0</td>\n",
              "      <td>0.0</td>\n",
              "      <td>0.0</td>\n",
              "      <td>1.0</td>\n",
              "      <td>0.0</td>\n",
              "      <td>0.0</td>\n",
              "      <td>0.0</td>\n",
              "      <td>0.0</td>\n",
              "    </tr>\n",
              "  </tbody>\n",
              "</table>\n",
              "</div>"
            ],
            "text/plain": [
              "   Num_Bathrooms  Num_Beds  Latitude  ...  Type_site  Type_terraced  Type_townhouse\n",
              "0          0.125  0.076923  0.253070  ...        0.0            0.0             1.0\n",
              "1          0.125  0.307692  0.437835  ...        0.0            0.0             0.0\n",
              "2          0.000  0.076923  0.144486  ...        0.0            0.0             0.0\n",
              "3          0.375  0.230769  0.403518  ...        0.0            0.0             0.0\n",
              "4          0.125  0.153846  0.280200  ...        0.0            0.0             0.0\n",
              "\n",
              "[5 rows x 29 columns]"
            ]
          },
          "metadata": {},
          "execution_count": 694
        }
      ]
    },
    {
      "cell_type": "code",
      "metadata": {
        "colab": {
          "base_uri": "https://localhost:8080/"
        },
        "id": "B1imSZsvlq8C",
        "outputId": "df5561d7-a87c-4b28-ce0e-a1bcd674f454"
      },
      "source": [
        "X4_train.info()"
      ],
      "execution_count": null,
      "outputs": [
        {
          "output_type": "stream",
          "name": "stdout",
          "text": [
            "<class 'pandas.core.frame.DataFrame'>\n",
            "Int64Index: 1305 entries, 555 to 977\n",
            "Data columns (total 29 columns):\n",
            " #   Column                         Non-Null Count  Dtype  \n",
            "---  ------                         --------------  -----  \n",
            " 0   Num_Bathrooms                  1305 non-null   float64\n",
            " 1   Num_Beds                       1305 non-null   float64\n",
            " 2   Latitude                       1305 non-null   float64\n",
            " 3   Longitude                      1305 non-null   float64\n",
            " 4   Surface                        1305 non-null   float64\n",
            " 5   BER_class_A2                   1305 non-null   float64\n",
            " 6   BER_class_A3                   1305 non-null   float64\n",
            " 7   BER_class_B1                   1305 non-null   float64\n",
            " 8   BER_class_B2                   1305 non-null   float64\n",
            " 9   BER_class_B3                   1305 non-null   float64\n",
            " 10  BER_class_C1                   1305 non-null   float64\n",
            " 11  BER_class_C2                   1305 non-null   float64\n",
            " 12  BER_class_C3                   1305 non-null   float64\n",
            " 13  BER_class_D1                   1305 non-null   float64\n",
            " 14  BER_class_D2                   1305 non-null   float64\n",
            " 15  BER_class_E1                   1305 non-null   float64\n",
            " 16  BER_class_E2                   1305 non-null   float64\n",
            " 17  BER_class_F                    1305 non-null   float64\n",
            " 18  BER_class_G                    1305 non-null   float64\n",
            " 19  BER_class_SINo666of2006exempt  1305 non-null   float64\n",
            " 20  Type_apartment                 1305 non-null   float64\n",
            " 21  Type_bungalow                  1305 non-null   float64\n",
            " 22  Type_detached                  1305 non-null   float64\n",
            " 23  Type_duplex                    1305 non-null   float64\n",
            " 24  Type_end-of-terrace            1305 non-null   float64\n",
            " 25  Type_semi-detached             1305 non-null   float64\n",
            " 26  Type_site                      1305 non-null   float64\n",
            " 27  Type_terraced                  1305 non-null   float64\n",
            " 28  Type_townhouse                 1305 non-null   float64\n",
            "dtypes: float64(29)\n",
            "memory usage: 305.9 KB\n"
          ]
        }
      ]
    },
    {
      "cell_type": "code",
      "metadata": {
        "colab": {
          "base_uri": "https://localhost:8080/"
        },
        "id": "eaUxlKL_l1ms",
        "outputId": "aaa7d54f-3dde-40f5-e73f-37fb9a0b1f92"
      },
      "source": [
        "X4_numeric_test.info()"
      ],
      "execution_count": null,
      "outputs": [
        {
          "output_type": "stream",
          "name": "stdout",
          "text": [
            "<class 'pandas.core.frame.DataFrame'>\n",
            "RangeIndex: 702 entries, 0 to 701\n",
            "Data columns (total 29 columns):\n",
            " #   Column                         Non-Null Count  Dtype  \n",
            "---  ------                         --------------  -----  \n",
            " 0   Num_Bathrooms                  702 non-null    float64\n",
            " 1   Num_Beds                       702 non-null    float64\n",
            " 2   Latitude                       702 non-null    float64\n",
            " 3   Longitude                      702 non-null    float64\n",
            " 4   Surface                        702 non-null    float64\n",
            " 5   BER_class_A2                   702 non-null    float64\n",
            " 6   BER_class_A3                   702 non-null    float64\n",
            " 7   BER_class_B1                   702 non-null    float64\n",
            " 8   BER_class_B2                   702 non-null    float64\n",
            " 9   BER_class_B3                   702 non-null    float64\n",
            " 10  BER_class_C1                   702 non-null    float64\n",
            " 11  BER_class_C2                   702 non-null    float64\n",
            " 12  BER_class_C3                   702 non-null    float64\n",
            " 13  BER_class_D1                   702 non-null    float64\n",
            " 14  BER_class_D2                   702 non-null    float64\n",
            " 15  BER_class_E1                   702 non-null    float64\n",
            " 16  BER_class_E2                   702 non-null    float64\n",
            " 17  BER_class_F                    702 non-null    float64\n",
            " 18  BER_class_G                    702 non-null    float64\n",
            " 19  BER_class_SINo666of2006exempt  702 non-null    float64\n",
            " 20  Type_apartment                 702 non-null    float64\n",
            " 21  Type_bungalow                  702 non-null    float64\n",
            " 22  Type_detached                  702 non-null    float64\n",
            " 23  Type_duplex                    702 non-null    float64\n",
            " 24  Type_end-of-terrace            702 non-null    float64\n",
            " 25  Type_semi-detached             702 non-null    float64\n",
            " 26  Type_site                      702 non-null    float64\n",
            " 27  Type_terraced                  702 non-null    float64\n",
            " 28  Type_townhouse                 702 non-null    float64\n",
            "dtypes: float64(29)\n",
            "memory usage: 159.2 KB\n"
          ]
        }
      ]
    },
    {
      "cell_type": "code",
      "metadata": {
        "id": "uG_kpW3AYxUK",
        "colab": {
          "base_uri": "https://localhost:8080/"
        },
        "outputId": "d0734513-771f-4f13-b322-751b90770ea3"
      },
      "source": [
        "X4_numeric_test.shape"
      ],
      "execution_count": null,
      "outputs": [
        {
          "output_type": "execute_result",
          "data": {
            "text/plain": [
              "(702, 29)"
            ]
          },
          "metadata": {},
          "execution_count": 697
        }
      ]
    },
    {
      "cell_type": "code",
      "metadata": {
        "id": "rZkgaHDT1g5H",
        "colab": {
          "base_uri": "https://localhost:8080/"
        },
        "outputId": "1c756ad7-cab7-4922-a672-06495c2093aa"
      },
      "source": [
        "X4_train.shape"
      ],
      "execution_count": null,
      "outputs": [
        {
          "output_type": "execute_result",
          "data": {
            "text/plain": [
              "(1305, 29)"
            ]
          },
          "metadata": {},
          "execution_count": 698
        }
      ]
    },
    {
      "cell_type": "code",
      "metadata": {
        "id": "w_kqXCb3parR"
      },
      "source": [
        "y4_pred = best_model.predict(X4_numeric_test)"
      ],
      "execution_count": null,
      "outputs": []
    },
    {
      "cell_type": "code",
      "metadata": {
        "id": "9fbpjRi0parR"
      },
      "source": [
        "y4_pred = scaler.inverse_transform(y4_pred)"
      ],
      "execution_count": null,
      "outputs": []
    },
    {
      "cell_type": "code",
      "metadata": {
        "id": "fTEn_2dZilJy"
      },
      "source": [
        "# save predictions in a file\n",
        "df_id = pd.DataFrame(data=np.arange(1639,2341), columns = ['Index'])\n",
        "df_class = pd.DataFrame(data=y_pred, columns = ['Price'])\n",
        "df_pred = pd.concat([df_id, df_class], axis=1)\n",
        " \n",
        "# change 'YourTeam' by your team number, for instance: Team-1\n",
        "df_pred.to_csv('CS6501_Kaggle_Group10.csv', sep=',', index=False)"
      ],
      "execution_count": null,
      "outputs": []
    },
    {
      "cell_type": "markdown",
      "metadata": {
        "id": "_RXLLVaWgX6S"
      },
      "source": [
        "#5. Other Algorithms"
      ]
    },
    {
      "cell_type": "markdown",
      "metadata": {
        "id": "5_dJ18ownQBR"
      },
      "source": [
        "## Importing Fresh data"
      ]
    },
    {
      "cell_type": "code",
      "metadata": {
        "id": "Q9mOregrsbSJ"
      },
      "source": [
        "#Importing Training Data\n",
        "path = '/content/drive/MyDrive/Machine Learning/'\n",
        "filename = 'HousePrice_Train.csv'\n",
        "train_data = pd.read_csv(path+filename)\n",
        "\n",
        "#Assigning Training Data to a DataFrame\n",
        "df = pd.DataFrame(train_data)"
      ],
      "execution_count": null,
      "outputs": []
    },
    {
      "cell_type": "markdown",
      "metadata": {
        "id": "t0WDqiSHnaB0"
      },
      "source": [
        "## Removing Outliers"
      ]
    },
    {
      "cell_type": "code",
      "metadata": {
        "id": "ABUbr5AuMiQt"
      },
      "source": [
        "outlier_index = df[df[\"ID\"] == 12270559].index\n",
        "df.drop(outlier_index, inplace=True)"
      ],
      "execution_count": null,
      "outputs": []
    },
    {
      "cell_type": "code",
      "metadata": {
        "id": "JdgkKLAhMwVD"
      },
      "source": [
        "outlier_index = df[df[\"Surface\"] > 5000].index \n",
        "df.drop(outlier_index, inplace=True)"
      ],
      "execution_count": null,
      "outputs": []
    },
    {
      "cell_type": "markdown",
      "metadata": {
        "id": "0zOglIhMnsMa"
      },
      "source": [
        "## Creating a Numerical dataframe"
      ]
    },
    {
      "cell_type": "code",
      "metadata": {
        "id": "IFUyPm2VM10u"
      },
      "source": [
        "df_numeric = df[[\"Location\",\"Num_Bathrooms\",\"Num_Beds\",\"BER_class\",\"Latitude\",\"Longitude\",\"Type\",\"Surface\",\"Price\"]]"
      ],
      "execution_count": null,
      "outputs": []
    },
    {
      "cell_type": "markdown",
      "metadata": {
        "id": "0_VgE_TAn2tY"
      },
      "source": [
        "## Encoding & Scaling data"
      ]
    },
    {
      "cell_type": "code",
      "metadata": {
        "id": "852ZyxTjNDqm"
      },
      "source": [
        "#Set up encoder \n",
        "encoder = OneHotEncoder(drop=\"first\", \n",
        "                        sparse=False, \n",
        "                        handle_unknown=\"ignore\") "
      ],
      "execution_count": null,
      "outputs": []
    },
    {
      "cell_type": "code",
      "metadata": {
        "id": "iDAa794xNDqm"
      },
      "source": [
        "columns_to_replace = [\"Location\",\"BER_class\",\"Type\"] # Categorical Categories\n",
        "encoded_data = encoder.fit_transform(df[columns_to_replace]) # Encoding\n",
        "encoded_data = pd.DataFrame(encoded_data) \n"
      ],
      "execution_count": null,
      "outputs": []
    },
    {
      "cell_type": "code",
      "metadata": {
        "id": "SI-u7dGRVpuw",
        "colab": {
          "base_uri": "https://localhost:8080/"
        },
        "outputId": "32d3188e-7da3-4fd5-8333-596caa1aaa92"
      },
      "source": [
        "for column in columns_to_replace: # Iterate through columns\n",
        "    df_numeric.drop(column ,axis=1, inplace=True) # Drop encoded columns"
      ],
      "execution_count": null,
      "outputs": [
        {
          "output_type": "stream",
          "name": "stderr",
          "text": [
            "/usr/local/lib/python3.7/dist-packages/pandas/core/frame.py:4174: SettingWithCopyWarning: \n",
            "A value is trying to be set on a copy of a slice from a DataFrame\n",
            "\n",
            "See the caveats in the documentation: https://pandas.pydata.org/pandas-docs/stable/user_guide/indexing.html#returning-a-view-versus-a-copy\n",
            "  errors=errors,\n"
          ]
        }
      ]
    },
    {
      "cell_type": "code",
      "metadata": {
        "id": "TOi7X0ILjcjD"
      },
      "source": [
        "df_numeric = encoded_data.join(df_numeric) # Concatenate \n"
      ],
      "execution_count": null,
      "outputs": []
    },
    {
      "cell_type": "code",
      "metadata": {
        "id": "l6NsafWU2DI3"
      },
      "source": [
        "df_numeric_noscale = df_numeric.copy()"
      ],
      "execution_count": null,
      "outputs": []
    },
    {
      "cell_type": "code",
      "metadata": {
        "id": "_yHi8z1T9--o"
      },
      "source": [
        "scaler = MinMaxScaler() # Initialize scaler "
      ],
      "execution_count": null,
      "outputs": []
    },
    {
      "cell_type": "code",
      "metadata": {
        "id": "rrgbYwSR-tlY"
      },
      "source": [
        "for column in df_numeric.columns:\n",
        "    df_numeric[column]=pd.DataFrame(scaler.fit_transform(df_numeric[column].values.reshape(-1,1))) # Apply scaler"
      ],
      "execution_count": null,
      "outputs": []
    },
    {
      "cell_type": "markdown",
      "metadata": {
        "id": "sIORA4y_oKyr"
      },
      "source": [
        "## Applying these to test data"
      ]
    },
    {
      "cell_type": "code",
      "metadata": {
        "id": "uecxDNCFstZa"
      },
      "source": [
        "#Importing Testing Data\n",
        "path = '/content/drive/MyDrive/Machine Learning/'\n",
        "filename = 'HousePrice_Test.csv'\n",
        "test_data = pd.read_csv(path+filename)\n",
        "\n",
        "#Assigning Testing Data to a DataFrame\n",
        "df_test = pd.DataFrame(test_data)"
      ],
      "execution_count": null,
      "outputs": []
    },
    {
      "cell_type": "code",
      "metadata": {
        "id": "fuPuW6yKoUav"
      },
      "source": [
        "df_numeric_test = df_test[[\"Location\",\"Num_Bathrooms\",\"Num_Beds\",\"BER_class\",\"Latitude\",\"Longitude\",\"Type\",\"Surface\"]]"
      ],
      "execution_count": null,
      "outputs": []
    },
    {
      "cell_type": "code",
      "metadata": {
        "id": "1j_o63R2gSj7",
        "colab": {
          "base_uri": "https://localhost:8080/"
        },
        "outputId": "86028a81-0049-4293-aa42-6434b1682f24"
      },
      "source": [
        "encoded_data = encoder.transform(df_numeric_test[columns_to_replace]) # Encoding\n",
        "encoded_data = pd.DataFrame(encoded_data) \n",
        "encoded_data.columns = encoder.get_feature_names_out() \n",
        "\n",
        "for column in columns_to_replace: # Iterate through columns\n",
        "    df_numeric_test.drop(column ,axis=1, inplace=True) # Drop encoded columns\n",
        "df_numeric_test = pd.concat([encoded_data,df_numeric_test],axis=1) \n",
        "\n",
        "scaler = MinMaxScaler() # Initialize scaler \n",
        "for column in df_numeric_test.columns:\n",
        "    df_numeric_test[column]=pd.DataFrame(scaler.fit_transform(df_numeric_test[column].values.reshape(-1,1))) #Scale"
      ],
      "execution_count": null,
      "outputs": [
        {
          "output_type": "stream",
          "name": "stderr",
          "text": [
            "/usr/local/lib/python3.7/dist-packages/sklearn/preprocessing/_encoders.py:174: UserWarning: Found unknown categories in columns [0] during transform. These unknown categories will be encoded as all zeros\n",
            "  UserWarning,\n",
            "/usr/local/lib/python3.7/dist-packages/pandas/core/frame.py:4174: SettingWithCopyWarning: \n",
            "A value is trying to be set on a copy of a slice from a DataFrame\n",
            "\n",
            "See the caveats in the documentation: https://pandas.pydata.org/pandas-docs/stable/user_guide/indexing.html#returning-a-view-versus-a-copy\n",
            "  errors=errors,\n"
          ]
        }
      ]
    },
    {
      "cell_type": "code",
      "metadata": {
        "id": "g89v0zQMi5L_"
      },
      "source": [
        "X_numeric_test = df_numeric_test"
      ],
      "execution_count": null,
      "outputs": []
    },
    {
      "cell_type": "markdown",
      "metadata": {
        "id": "8U5eQwCusvLx"
      },
      "source": [
        "##5.1 Linear Regression"
      ]
    },
    {
      "cell_type": "code",
      "metadata": {
        "id": "0W7UFyMEsvLx"
      },
      "source": [
        "data = df_numeric.dropna()"
      ],
      "execution_count": null,
      "outputs": []
    },
    {
      "cell_type": "code",
      "metadata": {
        "id": "RP8bh1irsvLx"
      },
      "source": [
        "data_X = data.iloc[:,-6:-1]\n",
        "data_y = data.iloc[:,-1]"
      ],
      "execution_count": null,
      "outputs": []
    },
    {
      "cell_type": "code",
      "metadata": {
        "id": "cuwTjgp1svLy"
      },
      "source": [
        "data_X_train, data_X_val, data_y_train, data_y_val = train_test_split(data_X, data_y, test_size = 0.2, random_state=18)"
      ],
      "execution_count": null,
      "outputs": []
    },
    {
      "cell_type": "code",
      "metadata": {
        "id": "lPmcwloz4EWR"
      },
      "source": [
        "Linear_Model = LinearRegression()"
      ],
      "execution_count": null,
      "outputs": []
    },
    {
      "cell_type": "code",
      "metadata": {
        "id": "5INLyWqo4T3n",
        "colab": {
          "base_uri": "https://localhost:8080/"
        },
        "outputId": "fbe20391-0699-4c2c-835d-356391a7a7e8"
      },
      "source": [
        "Linear_Model.fit(data_X_train, data_y_train)"
      ],
      "execution_count": null,
      "outputs": [
        {
          "output_type": "execute_result",
          "data": {
            "text/plain": [
              "LinearRegression()"
            ]
          },
          "metadata": {},
          "execution_count": 725
        }
      ]
    },
    {
      "cell_type": "code",
      "metadata": {
        "id": "vrIrYOC68efz",
        "colab": {
          "base_uri": "https://localhost:8080/"
        },
        "outputId": "4e994816-4d91-426a-8b8c-a48846a634cf"
      },
      "source": [
        "# Training score\n",
        "Linear_Model.score(data_X_train, data_y_train)\n"
      ],
      "execution_count": null,
      "outputs": [
        {
          "output_type": "execute_result",
          "data": {
            "text/plain": [
              "0.5672144557271595"
            ]
          },
          "metadata": {},
          "execution_count": 726
        }
      ]
    },
    {
      "cell_type": "code",
      "metadata": {
        "id": "UJ0OOyQrlqKr",
        "colab": {
          "base_uri": "https://localhost:8080/"
        },
        "outputId": "dcaebb0c-880d-4fb1-8c15-0a07a95a66a8"
      },
      "source": [
        "# Validation score\n",
        "Linear_Model.score(data_X_val, data_y_val)"
      ],
      "execution_count": null,
      "outputs": [
        {
          "output_type": "execute_result",
          "data": {
            "text/plain": [
              "0.6842243890134394"
            ]
          },
          "metadata": {},
          "execution_count": 727
        }
      ]
    },
    {
      "cell_type": "markdown",
      "metadata": {
        "id": "xbVmCAlfsvLy"
      },
      "source": [
        "##5.2 Decision Tree Regressor"
      ]
    },
    {
      "cell_type": "code",
      "metadata": {
        "id": "dZDZn0OdP5wS"
      },
      "source": [
        "data = df_numeric.dropna()"
      ],
      "execution_count": null,
      "outputs": []
    },
    {
      "cell_type": "code",
      "metadata": {
        "id": "WIKJTBAzS7Er"
      },
      "source": [
        "data_X = data.iloc[:,:-1]\n",
        "data_y = data.iloc[:,-1]"
      ],
      "execution_count": null,
      "outputs": []
    },
    {
      "cell_type": "code",
      "metadata": {
        "id": "tEaWOmm0P5wS"
      },
      "source": [
        "data_X_train, data_X_val, data_y_train, data_y_val = train_test_split(data_X, data_y, test_size = 0.2, random_state=18)"
      ],
      "execution_count": null,
      "outputs": []
    },
    {
      "cell_type": "code",
      "metadata": {
        "id": "0LjZszMgY9g_",
        "colab": {
          "base_uri": "https://localhost:8080/"
        },
        "outputId": "2e702c29-a61b-4112-95b3-0422d23e2e7c"
      },
      "source": [
        "regressor = DecisionTreeRegressor()\n",
        "regressor.fit(data_X_train, data_y_train)"
      ],
      "execution_count": null,
      "outputs": [
        {
          "output_type": "stream",
          "name": "stderr",
          "text": [
            "/usr/local/lib/python3.7/dist-packages/sklearn/utils/validation.py:1679: FutureWarning: Feature names only support names that are all strings. Got feature names with dtypes: ['int', 'str']. An error will be raised in 1.2.\n",
            "  FutureWarning,\n"
          ]
        },
        {
          "output_type": "execute_result",
          "data": {
            "text/plain": [
              "DecisionTreeRegressor()"
            ]
          },
          "metadata": {},
          "execution_count": 731
        }
      ]
    },
    {
      "cell_type": "code",
      "metadata": {
        "id": "mIDC3uLlSB9c",
        "colab": {
          "base_uri": "https://localhost:8080/"
        },
        "outputId": "e43bd5a5-c048-451f-a3c5-43851c39dd67"
      },
      "source": [
        "# Training score\n",
        "regressor.score(data_X_train, data_y_train)"
      ],
      "execution_count": null,
      "outputs": [
        {
          "output_type": "stream",
          "name": "stderr",
          "text": [
            "/usr/local/lib/python3.7/dist-packages/sklearn/utils/validation.py:1679: FutureWarning: Feature names only support names that are all strings. Got feature names with dtypes: ['int', 'str']. An error will be raised in 1.2.\n",
            "  FutureWarning,\n"
          ]
        },
        {
          "output_type": "execute_result",
          "data": {
            "text/plain": [
              "1.0"
            ]
          },
          "metadata": {},
          "execution_count": 732
        }
      ]
    },
    {
      "cell_type": "code",
      "metadata": {
        "id": "1wmX_H75SB9g",
        "colab": {
          "base_uri": "https://localhost:8080/"
        },
        "outputId": "47ab9c7f-c2a9-43fc-ac0b-9298e86fdb28"
      },
      "source": [
        "# Validation score\n",
        "regressor.score(data_X_val, data_y_val)"
      ],
      "execution_count": null,
      "outputs": [
        {
          "output_type": "stream",
          "name": "stderr",
          "text": [
            "/usr/local/lib/python3.7/dist-packages/sklearn/utils/validation.py:1679: FutureWarning: Feature names only support names that are all strings. Got feature names with dtypes: ['int', 'str']. An error will be raised in 1.2.\n",
            "  FutureWarning,\n"
          ]
        },
        {
          "output_type": "execute_result",
          "data": {
            "text/plain": [
              "0.6071060216750022"
            ]
          },
          "metadata": {},
          "execution_count": 733
        }
      ]
    },
    {
      "cell_type": "markdown",
      "metadata": {
        "id": "As8DaxkxsvL0"
      },
      "source": [
        "##5.3 Kneighbours"
      ]
    },
    {
      "cell_type": "code",
      "metadata": {
        "id": "au8BM52xsvL0"
      },
      "source": [
        "data = df_numeric.dropna()"
      ],
      "execution_count": null,
      "outputs": []
    },
    {
      "cell_type": "code",
      "metadata": {
        "id": "TX70xT1tsvL0"
      },
      "source": [
        "data_X = data.iloc[:,:-1]\n",
        "data_y = data.iloc[:,-1]"
      ],
      "execution_count": null,
      "outputs": []
    },
    {
      "cell_type": "code",
      "metadata": {
        "id": "2RF56NUePHFp"
      },
      "source": [
        "data_X_train, data_X_val, data_y_train, data_y_val = train_test_split(data_X, data_y, test_size = 0.2, random_state=18)"
      ],
      "execution_count": null,
      "outputs": []
    },
    {
      "cell_type": "code",
      "metadata": {
        "id": "Ln5MgGtZsvL0",
        "colab": {
          "base_uri": "https://localhost:8080/"
        },
        "outputId": "cdd4bb10-a43c-4712-c263-d667cab01efc"
      },
      "source": [
        "#KNeighbors Regression\n",
        "knn_regressor = KNeighborsRegressor(n_neighbors = 5).fit(data_X, data_y)\n",
        "y_pred = knn_regressor.predict(data_X)"
      ],
      "execution_count": null,
      "outputs": [
        {
          "output_type": "stream",
          "name": "stderr",
          "text": [
            "/usr/local/lib/python3.7/dist-packages/sklearn/utils/validation.py:1679: FutureWarning: Feature names only support names that are all strings. Got feature names with dtypes: ['int', 'str']. An error will be raised in 1.2.\n",
            "  FutureWarning,\n",
            "/usr/local/lib/python3.7/dist-packages/sklearn/utils/validation.py:1679: FutureWarning: Feature names only support names that are all strings. Got feature names with dtypes: ['int', 'str']. An error will be raised in 1.2.\n",
            "  FutureWarning,\n"
          ]
        }
      ]
    },
    {
      "cell_type": "code",
      "metadata": {
        "id": "p4QtVy2QsvL0",
        "colab": {
          "base_uri": "https://localhost:8080/"
        },
        "outputId": "80ebc2c0-7397-4623-f440-af8862677051"
      },
      "source": [
        "#KNeighbours Training & Testing Scores\n",
        "print(\"Training score : \", knn_regressor.score(data_X_train, data_y_train))\n"
      ],
      "execution_count": null,
      "outputs": [
        {
          "output_type": "stream",
          "name": "stderr",
          "text": [
            "/usr/local/lib/python3.7/dist-packages/sklearn/utils/validation.py:1679: FutureWarning: Feature names only support names that are all strings. Got feature names with dtypes: ['int', 'str']. An error will be raised in 1.2.\n",
            "  FutureWarning,\n"
          ]
        },
        {
          "output_type": "stream",
          "name": "stdout",
          "text": [
            "Training score :  0.42574801469655155\n"
          ]
        }
      ]
    },
    {
      "cell_type": "code",
      "metadata": {
        "id": "qTq_KJv-Pqjy",
        "colab": {
          "base_uri": "https://localhost:8080/"
        },
        "outputId": "7c96af35-3c42-4507-9f50-72bddf8b311a"
      },
      "source": [
        "# Validation score\n",
        "knn_regressor.score(data_X_val, data_y_val)"
      ],
      "execution_count": null,
      "outputs": [
        {
          "output_type": "stream",
          "name": "stderr",
          "text": [
            "/usr/local/lib/python3.7/dist-packages/sklearn/utils/validation.py:1679: FutureWarning: Feature names only support names that are all strings. Got feature names with dtypes: ['int', 'str']. An error will be raised in 1.2.\n",
            "  FutureWarning,\n"
          ]
        },
        {
          "output_type": "execute_result",
          "data": {
            "text/plain": [
              "0.5094543959393962"
            ]
          },
          "metadata": {},
          "execution_count": 739
        }
      ]
    },
    {
      "cell_type": "markdown",
      "metadata": {
        "id": "JRlj4VSNsvL1"
      },
      "source": [
        "##5.4 XGBoost Regression"
      ]
    },
    {
      "cell_type": "code",
      "metadata": {
        "id": "lYjU1HQssvL1"
      },
      "source": [
        "data = df_numeric.dropna()"
      ],
      "execution_count": null,
      "outputs": []
    },
    {
      "cell_type": "code",
      "metadata": {
        "id": "HbUW8FPG-x-i"
      },
      "source": [
        "data_X = data.iloc[:,:-1]\n",
        "data_y = data.iloc[:,-1]"
      ],
      "execution_count": null,
      "outputs": []
    },
    {
      "cell_type": "code",
      "metadata": {
        "id": "BUqV_v9p-x-i"
      },
      "source": [
        "data_X_train, data_X_val, data_y_train, data_y_val = train_test_split(data_X, data_y, test_size = 0.2, random_state=18)"
      ],
      "execution_count": null,
      "outputs": []
    },
    {
      "cell_type": "code",
      "metadata": {
        "id": "lFLEFnq9svL1"
      },
      "source": [
        "XGBR_Model = XGBRegressor()"
      ],
      "execution_count": null,
      "outputs": []
    },
    {
      "cell_type": "code",
      "metadata": {
        "id": "X7mq4EKisvL1",
        "colab": {
          "base_uri": "https://localhost:8080/"
        },
        "outputId": "71f1d9c7-65be-493a-fae8-411bfcf4736c"
      },
      "source": [
        "XGBR_Model.fit(data_X_train, data_y_train)"
      ],
      "execution_count": null,
      "outputs": [
        {
          "output_type": "stream",
          "name": "stdout",
          "text": [
            "[17:17:16] WARNING: /workspace/src/objective/regression_obj.cu:152: reg:linear is now deprecated in favor of reg:squarederror.\n"
          ]
        },
        {
          "output_type": "execute_result",
          "data": {
            "text/plain": [
              "XGBRegressor()"
            ]
          },
          "metadata": {},
          "execution_count": 744
        }
      ]
    },
    {
      "cell_type": "code",
      "metadata": {
        "id": "SRCibWZ4svL2",
        "colab": {
          "base_uri": "https://localhost:8080/"
        },
        "outputId": "f8021b0b-25a7-4b86-c44d-0101d6cc4383"
      },
      "source": [
        "# Training score\n",
        "XGBR_Model.score(data_X_train, data_y_train)"
      ],
      "execution_count": null,
      "outputs": [
        {
          "output_type": "execute_result",
          "data": {
            "text/plain": [
              "0.9504651284090692"
            ]
          },
          "metadata": {},
          "execution_count": 745
        }
      ]
    },
    {
      "cell_type": "code",
      "metadata": {
        "id": "OXPOAYb0svL2",
        "colab": {
          "base_uri": "https://localhost:8080/"
        },
        "outputId": "b9184792-3bdb-480c-d31e-4df664e44b08"
      },
      "source": [
        "# Validation score\n",
        "XGBR_Model.score(data_X_val, data_y_val)"
      ],
      "execution_count": null,
      "outputs": [
        {
          "output_type": "execute_result",
          "data": {
            "text/plain": [
              "0.8893381488484725"
            ]
          },
          "metadata": {},
          "execution_count": 746
        }
      ]
    },
    {
      "cell_type": "markdown",
      "metadata": {
        "id": "jo6jdmCQast9"
      },
      "source": [
        "#6. Summary"
      ]
    },
    {
      "cell_type": "markdown",
      "metadata": {
        "id": "Rdwc2QFoAIeu"
      },
      "source": [
        "**Pros and Cons of dataset**\n",
        "\n",
        "*Pros*\n",
        "*   Data had several predictor variables which enabled our predictive models to be more accurate.\n",
        "* The dataset also had 1638 rows which enabled also enabled our predictive models to be more accurate.  \n",
        "\n",
        "*Cons*\n",
        "\n",
        "*   The data contained several outlier points which had to be removed. \n",
        "*   The data contained categorical variables which had to be binary coded to be used in our predictive models\n",
        "*   The number of missing values contained in the data. There were 251 missing values in the variable ‘BER_class’ and 1061 missing values in the variable ‘Services’.\n",
        "*   This data would not be valid for predictions for long due to fluctuating nature of house prices. One possible solution to this would be adjusting the models to account for inflation.\n",
        "\n"
      ]
    },
    {
      "cell_type": "markdown",
      "metadata": {
        "id": "D3c9CSBSawMU"
      },
      "source": [
        "**Data Preperation & Visualisations**\n",
        "\n",
        "The Irish Housing Dataset has an array of numerical, categorical and text data and therefore requires various methods to process and predict prices. To begin with, we used various exploratory analysis techniques such as .shape, .head, .describe and .info() to understand the dataset we were working with. Following on, we used histograms, scatterplots and boxplots to identify relationships and outliers. We removed 6 outliers – 1 of which was located in Britain, 3 had more than 10 bedrooms and 1 has a surface area of over 5000. By doing so, we improved the relationships between Price and other variables (in particular Surface).\n",
        "\n"
      ]
    },
    {
      "cell_type": "markdown",
      "metadata": {
        "id": "v2MXZlXCPBja"
      },
      "source": [
        "**Natural Language Programming**\n",
        "\n",
        "The first step we took in this section was encoding the 3 categorical variables (‘Location’, ‘BER_class’ and ‘Type’). We made these binary variables so they could be used in the predictive models. This massively increased the number of columns in our data as each class within a category required its own column.  \n",
        "We then had to deal with the textual data variables (‘Description’, ‘Services’ and ‘Features’). We created a function called *clean* that reduced these textual variables by converting to lower case, removing punctuation, tokenizing (splitting sentences into words), removing stopwords, removing multiple whitespace, removing short words and lemmatizing (reducing words to base form).\n",
        "\n",
        "After these variables were reduced, we used the *TfidfVectorizer* to change the textual data to sparse matrices for regression. We had to to apply this to the 3 variables individually and then combined them using the function *hstack*. \n",
        "The next stage was the predictions and modelling. We used a Naïve Bayes classifier for multinomial models. We got an accuracy score of 0.246 on the training dataset and 0.034 on the validating subset. \n"
      ]
    },
    {
      "cell_type": "markdown",
      "metadata": {
        "id": "l3_4_-oap5Kr"
      },
      "source": [
        "**Long Short Term Memory**\n",
        "\n",
        "A LTSM model was deployed the numerical variables such as bedrooms, bathrooms, surface etc. To further improve the model, pd.get_dummies() was used to created dummy variables for the categorical columns [BER_class] and [Type]. For example, type_apartment = 1 means the type column originally had apartment in it, and therefore all other type_ columns were = 0. Furthermore, the data was scaled using the MinMaxScaler(). Unfortunately, the location column couldn’t be encoded as when predicting y, the different column counts were incompatible. Similarly, the dummy variables [BER_class_A1] and [type_studio] had to be removed from the training data, as the testing data had no such values, and the same problem occurred with the column counts. These are both shortcomings of our code that we’d hope to improve if undertaken again.\n",
        "We split our training data further into training, validating and train testing. After running regressor.fit for the training X and Y, the training data has a Mean Squared Error of 0.0064, while the validation data had a score of 0.0035, which are relatively strong. The predictions on Kaggle also received a score of 0.62547.\n"
      ]
    },
    {
      "cell_type": "markdown",
      "metadata": {
        "id": "r8fDEY9Tf2y8"
      },
      "source": [
        "**Linear Regression**\n",
        "\n",
        "We used the *LinearRegression()* function to obtain results in this section. The *.score* is used to return the coefficient of determination. The best possible score for this is 1 which would mean all predictions are correct and the worst is 0. The linear regression model scored 0.57 on the training data and 0.68 on the validation data.\n",
        "\n",
        "**XGBoost**\n",
        "\n",
        "We used the *XGBRegressor()* function to apply this model to the data. The *.score()* function was used to return the coefficient of determination. The XGB model scored 0.96 on the training set and 0.89 on the validation set.\n",
        "\n",
        "**Kneighbours**\n",
        "\n",
        "We used the *KNeighboursRegressor()* function was used and the number of similar points was set to 5. The score function revealed that the score for the training data was 0.43 and for the validation data was 0.51. This model produced very similar scores for the training and validation sets which implies its consistency in predicting the price.\n",
        "\n",
        "**Decision Tree model**\n",
        "\n",
        "The *DecisionTreeRegressor()* function was used here. This method proved to have the highest training data score of 0.99 and had a score of 0.65.\n",
        "\n",
        "\n",
        "\n",
        "Overall, the best model from the above was the XGBoost model which scored well on both the training and validation set. The decision tree had the highest score on the training set but had a lower score than XGBoost on the validation set."
      ]
    },
    {
      "cell_type": "markdown",
      "metadata": {
        "id": "0gRonrkrefoY"
      },
      "source": [
        "#References"
      ]
    },
    {
      "cell_type": "markdown",
      "metadata": {
        "id": "D5e_7-eNeii9"
      },
      "source": [
        "* Albon, C. (2018) Machine learning with Python cookbook: practical solutions from preprocessing to\n",
        "deep learning. First edition. Sebastopol, CA: O’Reilly Media. [accessed 17 Nov 2021].\n",
        "* Bengio, Y., Simard, P. and Frasconi, P., 1994. Learning long-term dependencies with gradient descent\n",
        "is difficult. IEEE transactions on neural networks, 5(2), pp.157-166. Available:\n",
        "http://www.comp.hkbu.edu.hk/~markus/teaching/comp7650/tnn-94-gradient.pdf [accessed 17 Nov\n",
        "2021].\n",
        "* Brownlee, J. (2021) A Gentle Introduction to Long Short-Term Memory Networks by the Experts,\n",
        "machinelearningmastery.com, available: https://machinelearningmastery.com/gentle-introduction-\n",
        "long-short-term-memory-networks-experts/ [accessed 17 Nov 2021].\n",
        "* Kruglyak, I. (2021) Natural Language Processing: Tasks and Application Areas, avenga.com, available:\n",
        "https://www.avenga.com/magazine/natural-language-processing-application-areas/ [accessed 16\n",
        "Nov 2021].\n",
        "* Muller, A.C., and Guido, S. (2016) Introduction to Machine Learning with Python: A Guide For Data Scientists, First edition., Sebastopol, CA: O’Reilly Media. [accessed 17 Nov 2021].\n",
        "* Mwiti, D. (n.d.) Using a Keras Long Short-Term Memory (LSTM) Model to Predict Stock Prices,\n",
        "kdnuggets.com, available: https://www.kdnuggets.com/2018/11/keras-long-short-term-memory-\n",
        "lstm-model-predict-stock-prices.html [accessed 18 Nov 2021].\n",
        "* Natural Language Processing (NLP) (2020) ibm.com, available:\n",
        "https://www.ibm.com/cloud/learn/natural-language-processing [accessed 16 Nov 2020].\n",
        "* Paz Cuturi, M. and Etchebarne, G. (2021) Real Estate pricing with Machine Learning &amp; non-\n",
        "traditional data sources, tryolabs.com, available: https://tryolabs.com/blog/2021/06/25/real-estate-\n",
        "pricing-with-machine-learning--non-traditional-data-sources [accessed 17 Nov 2021].\n",
        "* Recurrent Neural Network (RNN) &amp; Long Short-Term Memory (LSTM) (n.d.) happiestminds.com,\n",
        "available: https://www.happiestminds.com/insights/recurrent-neural-network-rnn-long-short-term-\n",
        "memory-lstm/ [accessed 17 Nov 2021].\n",
        "* Shen, Y. and Han, Y. (2018) A Natural Language Processing Model for House Price Forecasting,\n",
        "curf.clemson.edu, available: http://curf.clemson.edu/technology/a-natural-language-processing-\n",
        "model-for-house-price-forecasting/ [accessed 17 Nov 2021].\n",
        "* Shrestha, S. (2020) NLP: Spam Detection in SMS (text) data using Deep Learning,\n",
        "towardsdatascience.com, available: https://towardsdatascience.com/nlp-spam-detection-in-sms-\n",
        "text-data-using-deep-learning-b8632db85cc8 [accessed 16 Nov 2021].\n",
        "* Wolff, R. (2020) 7 Benefits of Natural Language Processing (NLP), monkeylearn.com, available:\n",
        "https://monkeylearn.com/blog/nlp-benefits/ [accessed 17 Nov 2021]."
      ]
    }
  ]
}